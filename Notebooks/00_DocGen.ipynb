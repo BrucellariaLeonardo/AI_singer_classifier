{
  "cells": [
    {
      "cell_type": "markdown",
      "metadata": {},
      "source": [
        "Este notebook levanta la carpeta data que se encuentra en el mismo directorio que el propio notebook y a partir de ella genera una csv y procesa los archivos de audio encontrados para generar espectrogramas de mell"
      ]
    },
    {
      "cell_type": "code",
      "execution_count": 9,
      "metadata": {
        "id": "3c7oCE5amcCW"
      },
      "outputs": [],
      "source": [
        "import os\n",
        "import torch\n",
        "import torchaudio\n",
        "import pandas as pd\n",
        "import numpy as np\n",
        "from tqdm import tqdm"
      ]
    },
    {
      "cell_type": "code",
      "execution_count": 10,
      "metadata": {
        "colab": {
          "base_uri": "https://localhost:8080/"
        },
        "id": "y6axf5oSmgk0",
        "outputId": "10509a86-5950-4769-8c0b-0a3baa138799"
      },
      "outputs": [
        {
          "data": {
            "text/plain": [
              "['audio', 'NOISE', 'NOISE_16K', 'RIR', 'RIR_16K']"
            ]
          },
          "execution_count": 10,
          "metadata": {},
          "output_type": "execute_result"
        }
      ],
      "source": [
        "#parametros para los calculos del mell\n",
        "TARGET_SR = 16000  # Normalmente el audio se sule usar a 16k aunque encontre papers que trabajan a 22050 o a 22k (ver V2)\n",
        "N_FFT = 512  #muestras de la fft\n",
        "W_LEN = 400  # Numero de muestras para la ventan de la  fft (seg_de_ventan *sr) \n",
        "H_LEN = 160, # paso de la ventana entre una fft y la siguiente (paso * sr)\n",
        "N_MELS = 26\n",
        "#se suele usar una ventana de haning\n",
        "\n",
        "#creo una bariable root la cual se puede cambiar si se quiere trabajar con otro directorio,\n",
        "# pero a priori se deja en '.' para trabajar desde el directorio local del proyecto\n",
        "root = '../data'\n",
        "savePath = os.path.join(root,\"..\",\"csv\")\n",
        "dsName = \"metaData.csv\"\n",
        "\n",
        "os.listdir(root)"
      ]
    },
    {
      "cell_type": "code",
      "execution_count": 11,
      "metadata": {
        "id": "dc-o0ir9oclm"
      },
      "outputs": [
        {
          "name": "stderr",
          "output_type": "stream",
          "text": [
            "100%|██████████| 3/3 [00:00<00:00, 162.10it/s]\n"
          ]
        }
      ],
      "source": [
        "#En esta celda se recorre todo el arbol de carpetas para obtener todos los meta datos de las canciones y los path a sus correspondientes archivos de audio\n",
        "add_instrumental = True\n",
        "\n",
        "res = []\n",
        "for genero in tqdm(os.listdir(root + '/audio')):\n",
        "  if genero.endswith('.csv'):\n",
        "    continue\n",
        "  for artista in os.listdir(root + '/audio/' + genero):\n",
        "    for album in os.listdir(root + '/audio/' + genero + '/' + artista):\n",
        "      if genero == 'instrumental':\n",
        "        if add_instrumental == True :\n",
        "          if album.endswith((\".mp3\", \".wav\", \".flac\")):\n",
        "            songName = os.path.splitext(album)[0]\n",
        "            localPath = '/audio/' + genero + '/' + artista\n",
        "            res.append([genero, artista, genero ,songName, localPath, localPath + '/' + album])\n",
        "      else:\n",
        "        for song in os.listdir(root + '/audio/' + genero + '/' + artista + '/' + album):\n",
        "          if song.endswith((\".mp3\", \".wav\", \".flac\")):\n",
        "            songName = os.path.splitext(song)[0]\n",
        "            localPath = '/audio/' + genero + '/' + artista + '/' + album\n",
        "            res.append([genero, artista, album, songName, localPath, localPath+'/'+song])\n",
        "\n",
        "#creo un archivo csv con los metadatos por si se quiere revisar y debugear\n",
        "metaData = pd.DataFrame(res, columns=['MFI', 'artist', 'album', 'song', 'localPath', 'fileTrak'])\n",
        "#if (not os.path.isdir('csv')):\n",
        "#  os.makedirs('csv')\n",
        "metaData.to_csv(os.path.join(savePath,dsName), index = False)"
      ]
    },
    {
      "cell_type": "code",
      "execution_count": 12,
      "metadata": {},
      "outputs": [],
      "source": [
        "metaData.set_index('fileTrak', inplace=True)"
      ]
    },
    {
      "cell_type": "code",
      "execution_count": 13,
      "metadata": {},
      "outputs": [
        {
          "name": "stderr",
          "output_type": "stream",
          "text": [
            "100%|██████████| 1431/1431 [06:37<00:00,  3.60it/s]\n"
          ]
        }
      ],
      "source": [
        "errors = []\n",
        "for f in tqdm(metaData.index):\n",
        "    try:\n",
        "        _signal, _rate = torchaudio.load(root+f)\n",
        "        metaData.at[f, 'duracion'] = _signal.shape[1]/_rate\n",
        "    except:\n",
        "        errors.append(f)\n",
        "        print('Error:', f)\n",
        "    "
      ]
    },
    {
      "cell_type": "code",
      "execution_count": 14,
      "metadata": {},
      "outputs": [],
      "source": [
        "#metaData.drop(errors, inplace = True)\n",
        "metaData.to_csv(os.path.join(savePath,dsName), index = True)"
      ]
    },
    {
      "cell_type": "code",
      "execution_count": 15,
      "metadata": {},
      "outputs": [
        {
          "name": "stdout",
          "output_type": "stream",
          "text": [
            "[]\n"
          ]
        }
      ],
      "source": [
        "print(errors)"
      ]
    },
    {
      "cell_type": "code",
      "execution_count": null,
      "metadata": {},
      "outputs": [],
      "source": []
    }
  ],
  "metadata": {
    "colab": {
      "provenance": []
    },
    "kernelspec": {
      "display_name": "Python 3",
      "language": "python",
      "name": "python3"
    },
    "language_info": {
      "codemirror_mode": {
        "name": "ipython",
        "version": 3
      },
      "file_extension": ".py",
      "mimetype": "text/x-python",
      "name": "python",
      "nbconvert_exporter": "python",
      "pygments_lexer": "ipython3",
      "version": "3.13.1"
    }
  },
  "nbformat": 4,
  "nbformat_minor": 0
}
