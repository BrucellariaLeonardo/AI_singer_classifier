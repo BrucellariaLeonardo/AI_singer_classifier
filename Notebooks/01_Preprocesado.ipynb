{
  "cells": [
    {
      "cell_type": "markdown",
      "metadata": {},
      "source": [
        "Este notebook levanta la carpeta data que se encuentra en el mismo directorio que el propio notebook y a partir de ella genera una csv y procesa los archivos de audio encontrados para generar espectrogramas de mell"
      ]
    },
    {
      "cell_type": "markdown",
      "metadata": {},
      "source": [
        "# Imports y Parametros"
      ]
    },
    {
      "cell_type": "code",
      "execution_count": 1,
      "metadata": {
        "id": "3c7oCE5amcCW"
      },
      "outputs": [],
      "source": [
        "import os\n",
        "import torch\n",
        "import torchaudio\n",
        "import pandas as pd\n",
        "import numpy as np\n",
        "from tqdm import tqdm\n",
        "import matplotlib.pyplot as plt\n",
        "import sounddevice as sd"
      ]
    },
    {
      "cell_type": "code",
      "execution_count": 2,
      "metadata": {},
      "outputs": [],
      "source": [
        "if torch.cuda.is_available():\n",
        "    device = torch.device(\"cuda\")\n",
        "else:\n",
        "    device = torch.device(\"cpu\")"
      ]
    },
    {
      "cell_type": "markdown",
      "metadata": {},
      "source": [
        "#"
      ]
    },
    {
      "cell_type": "code",
      "execution_count": 3,
      "metadata": {
        "colab": {
          "base_uri": "https://localhost:8080/"
        },
        "id": "y6axf5oSmgk0",
        "outputId": "10509a86-5950-4769-8c0b-0a3baa138799"
      },
      "outputs": [
        {
          "name": "stdout",
          "output_type": "stream",
          "text": [
            "['metaDataMaster.csv']\n"
          ]
        }
      ],
      "source": [
        "#parametros para los calculos del mell\n",
        "TARGET_SR = 16000  # Normalmente el audio se sule usar a 16k aunque encontre papers que trabajan a 22050 o a 22k (ver V2)\n",
        "TARGET_TIME = 10 # duracion esperada para las pistas de audio generadas.\n",
        "N_FFT = 512  #muestras de la fft\n",
        "W_LEN = 400  # Numero de muestras para la ventan de la  fft (seg_de_ventan *sr) \n",
        "H_LEN = 160 # paso de la ventana entre una fft y la siguiente (paso * sr)\n",
        "N_MELS = 26\n",
        "N_MFCC = 13\n",
        "#se suele usar una ventana de haning\n",
        "\n",
        "#creo una bariable root la cual se puede cambiar si se quiere trabajar con otro directorio,\n",
        "# pero a priori se deja en '.' para trabajar desde el directorio local del proyecto\n",
        "root = os.path.join(\"..\",\"data\")\n",
        "csvPath = os.path.join(\"..\",\"csv\")\n",
        "print(os.listdir(csvPath))\n",
        "csvName = \"metaDataMaster.csv\"\n"
      ]
    },
    {
      "cell_type": "markdown",
      "metadata": {},
      "source": [
        "# levantando la lista de canciones "
      ]
    },
    {
      "cell_type": "code",
      "execution_count": 4,
      "metadata": {},
      "outputs": [
        {
          "data": {
            "text/html": [
              "<div>\n",
              "<style scoped>\n",
              "    .dataframe tbody tr th:only-of-type {\n",
              "        vertical-align: middle;\n",
              "    }\n",
              "\n",
              "    .dataframe tbody tr th {\n",
              "        vertical-align: top;\n",
              "    }\n",
              "\n",
              "    .dataframe thead th {\n",
              "        text-align: right;\n",
              "    }\n",
              "</style>\n",
              "<table border=\"1\" class=\"dataframe\">\n",
              "  <thead>\n",
              "    <tr style=\"text-align: right;\">\n",
              "      <th></th>\n",
              "      <th>MFI</th>\n",
              "      <th>artist</th>\n",
              "      <th>album</th>\n",
              "      <th>song</th>\n",
              "      <th>localPath</th>\n",
              "      <th>duracion</th>\n",
              "    </tr>\n",
              "    <tr>\n",
              "      <th>fileTrak</th>\n",
              "      <th></th>\n",
              "      <th></th>\n",
              "      <th></th>\n",
              "      <th></th>\n",
              "      <th></th>\n",
              "      <th></th>\n",
              "    </tr>\n",
              "  </thead>\n",
              "  <tbody>\n",
              "    <tr>\n",
              "      <th>/audio/hombre/Imagine Dragons/Evolve/Believer (Kaskade Remix).flac</th>\n",
              "      <td>hombre</td>\n",
              "      <td>Imagine Dragons</td>\n",
              "      <td>Evolve</td>\n",
              "      <td>Believer (Kaskade Remix)</td>\n",
              "      <td>/audio/hombre/Imagine Dragons/Evolve</td>\n",
              "      <td>190.893333</td>\n",
              "    </tr>\n",
              "    <tr>\n",
              "      <th>/audio/hombre/Imagine Dragons/Evolve/Believer.flac</th>\n",
              "      <td>hombre</td>\n",
              "      <td>Imagine Dragons</td>\n",
              "      <td>Evolve</td>\n",
              "      <td>Believer</td>\n",
              "      <td>/audio/hombre/Imagine Dragons/Evolve</td>\n",
              "      <td>204.346667</td>\n",
              "    </tr>\n",
              "    <tr>\n",
              "      <th>/audio/hombre/Imagine Dragons/Evolve/Dancing In The Dark.flac</th>\n",
              "      <td>hombre</td>\n",
              "      <td>Imagine Dragons</td>\n",
              "      <td>Evolve</td>\n",
              "      <td>Dancing In The Dark</td>\n",
              "      <td>/audio/hombre/Imagine Dragons/Evolve</td>\n",
              "      <td>235.426667</td>\n",
              "    </tr>\n",
              "    <tr>\n",
              "      <th>/audio/hombre/Imagine Dragons/Evolve/I Don't Know Why.flac</th>\n",
              "      <td>hombre</td>\n",
              "      <td>Imagine Dragons</td>\n",
              "      <td>Evolve</td>\n",
              "      <td>I Don't Know Why</td>\n",
              "      <td>/audio/hombre/Imagine Dragons/Evolve</td>\n",
              "      <td>190.120000</td>\n",
              "    </tr>\n",
              "    <tr>\n",
              "      <th>/audio/hombre/Imagine Dragons/Evolve/I'll Make It Up To You.flac</th>\n",
              "      <td>hombre</td>\n",
              "      <td>Imagine Dragons</td>\n",
              "      <td>Evolve</td>\n",
              "      <td>I'll Make It Up To You</td>\n",
              "      <td>/audio/hombre/Imagine Dragons/Evolve</td>\n",
              "      <td>262.600000</td>\n",
              "    </tr>\n",
              "  </tbody>\n",
              "</table>\n",
              "</div>"
            ],
            "text/plain": [
              "                                                       MFI           artist  \\\n",
              "fileTrak                                                                      \n",
              "/audio/hombre/Imagine Dragons/Evolve/Believer (...  hombre  Imagine Dragons   \n",
              "/audio/hombre/Imagine Dragons/Evolve/Believer.flac  hombre  Imagine Dragons   \n",
              "/audio/hombre/Imagine Dragons/Evolve/Dancing In...  hombre  Imagine Dragons   \n",
              "/audio/hombre/Imagine Dragons/Evolve/I Don't Kn...  hombre  Imagine Dragons   \n",
              "/audio/hombre/Imagine Dragons/Evolve/I'll Make ...  hombre  Imagine Dragons   \n",
              "\n",
              "                                                     album  \\\n",
              "fileTrak                                                     \n",
              "/audio/hombre/Imagine Dragons/Evolve/Believer (...  Evolve   \n",
              "/audio/hombre/Imagine Dragons/Evolve/Believer.flac  Evolve   \n",
              "/audio/hombre/Imagine Dragons/Evolve/Dancing In...  Evolve   \n",
              "/audio/hombre/Imagine Dragons/Evolve/I Don't Kn...  Evolve   \n",
              "/audio/hombre/Imagine Dragons/Evolve/I'll Make ...  Evolve   \n",
              "\n",
              "                                                                        song  \\\n",
              "fileTrak                                                                       \n",
              "/audio/hombre/Imagine Dragons/Evolve/Believer (...  Believer (Kaskade Remix)   \n",
              "/audio/hombre/Imagine Dragons/Evolve/Believer.flac                  Believer   \n",
              "/audio/hombre/Imagine Dragons/Evolve/Dancing In...       Dancing In The Dark   \n",
              "/audio/hombre/Imagine Dragons/Evolve/I Don't Kn...          I Don't Know Why   \n",
              "/audio/hombre/Imagine Dragons/Evolve/I'll Make ...    I'll Make It Up To You   \n",
              "\n",
              "                                                                               localPath  \\\n",
              "fileTrak                                                                                   \n",
              "/audio/hombre/Imagine Dragons/Evolve/Believer (...  /audio/hombre/Imagine Dragons/Evolve   \n",
              "/audio/hombre/Imagine Dragons/Evolve/Believer.flac  /audio/hombre/Imagine Dragons/Evolve   \n",
              "/audio/hombre/Imagine Dragons/Evolve/Dancing In...  /audio/hombre/Imagine Dragons/Evolve   \n",
              "/audio/hombre/Imagine Dragons/Evolve/I Don't Kn...  /audio/hombre/Imagine Dragons/Evolve   \n",
              "/audio/hombre/Imagine Dragons/Evolve/I'll Make ...  /audio/hombre/Imagine Dragons/Evolve   \n",
              "\n",
              "                                                      duracion  \n",
              "fileTrak                                                        \n",
              "/audio/hombre/Imagine Dragons/Evolve/Believer (...  190.893333  \n",
              "/audio/hombre/Imagine Dragons/Evolve/Believer.flac  204.346667  \n",
              "/audio/hombre/Imagine Dragons/Evolve/Dancing In...  235.426667  \n",
              "/audio/hombre/Imagine Dragons/Evolve/I Don't Kn...  190.120000  \n",
              "/audio/hombre/Imagine Dragons/Evolve/I'll Make ...  262.600000  "
            ]
          },
          "execution_count": 4,
          "metadata": {},
          "output_type": "execute_result"
        }
      ],
      "source": [
        "original = pd.read_csv(os.path.join(csvPath,csvName), index_col = \"fileTrak\")\n",
        "original.head()"
      ]
    },
    {
      "cell_type": "code",
      "execution_count": 5,
      "metadata": {},
      "outputs": [
        {
          "data": {
            "text/plain": [
              "['Ariana Grande',\n",
              " 'Imagine Dragons',\n",
              " 'Katy Perry',\n",
              " 'Metallica',\n",
              " 'Pink Floyd',\n",
              " 'System Of A Down',\n",
              " 'Taylor Swift',\n",
              " 'Twenty One Pilots']"
            ]
          },
          "execution_count": 5,
          "metadata": {},
          "output_type": "execute_result"
        }
      ],
      "source": [
        "list(np.unique(original.artist))"
      ]
    },
    {
      "cell_type": "code",
      "execution_count": 10,
      "metadata": {},
      "outputs": [],
      "source": [
        "#Eleccion del subset a usar\n",
        "\n",
        "df = pd.concat([\n",
        "    original[original.MFI == 'mujer'],\n",
        "    original[original.artist == 'Metallica' ], original[original.artist == 'Pink Floyd']\n",
        "    #original[original.MFI == 'hombre'],\n",
        "])\n",
        "#Elimino las canciones que duran menos de 10 segundos\n",
        "drops = df[df.duracion <= 10]\n",
        "if len(drops) != 0:\n",
        "    df = df.drop(drops.index)"
      ]
    },
    {
      "cell_type": "code",
      "execution_count": 11,
      "metadata": {},
      "outputs": [
        {
          "data": {
            "text/plain": [
              "['Ariana Grande', 'Katy Perry', 'Metallica', 'Pink Floyd', 'Taylor Swift']"
            ]
          },
          "execution_count": 11,
          "metadata": {},
          "output_type": "execute_result"
        }
      ],
      "source": [
        "classes = list(np.unique(df.artist))\n",
        "classes"
      ]
    },
    {
      "cell_type": "code",
      "execution_count": 12,
      "metadata": {},
      "outputs": [
        {
          "data": {
            "text/plain": [
              "artist\n",
              "Ariana Grande     40151.390385\n",
              "Katy Perry        55384.137809\n",
              "Metallica        119985.626667\n",
              "Pink Floyd        70617.560000\n",
              "Taylor Swift      39442.216398\n",
              "Name: duracion, dtype: float64"
            ]
          },
          "execution_count": 12,
          "metadata": {},
          "output_type": "execute_result"
        }
      ],
      "source": [
        "clas_dist = df.groupby(['artist'])['duracion'].sum()\n",
        "clas_dist"
      ]
    },
    {
      "cell_type": "code",
      "execution_count": 13,
      "metadata": {},
      "outputs": [
        {
          "data": {
            "image/png": "[encoded data removed]",
            "text/plain": [
              "<Figure size 640x480 with 1 Axes>"
            ]
          },
          "metadata": {},
          "output_type": "display_data"
        }
      ],
      "source": [
        "fig, ax = plt.subplots()\n",
        "ax.pie(clas_dist, labels = clas_dist.index, autopct='%1.1f%%', shadow = False, startangle=90)\n",
        "ax.axis('equal')\n",
        "plt.show()\n"
      ]
    },
    {
      "cell_type": "markdown",
      "metadata": {},
      "source": [
        "# Definiendo Utilidades"
      ]
    },
    {
      "cell_type": "code",
      "execution_count": 14,
      "metadata": {},
      "outputs": [],
      "source": [
        "def plot_spectrogram(specgram, title=None, ylabel=\"freq_bin\", ax=None):\n",
        "    if ax is None:\n",
        "        _, ax = plt.subplots(1, 1)\n",
        "    if title is not None:\n",
        "        ax.set_title(title)\n",
        "    ax.set_ylabel(ylabel)\n",
        "    amp_to_db = torchaudio.transforms.AmplitudeToDB()\n",
        "    ax.imshow(amp_to_db(specgram), origin=\"lower\", aspect=\"auto\", interpolation=\"nearest\")"
      ]
    },
    {
      "cell_type": "code",
      "execution_count": 15,
      "metadata": {
        "id": "kdjtx0IO0-oA"
      },
      "outputs": [],
      "source": [
        "#def stereo_to_mono(signal , keepdim = False):\n",
        "#  \"\"\"\n",
        "#  Colapsa todos los canales de la señal en no solo. (DESCARTADA)\n",
        "#  \"\"\"\n",
        "#  if(signal.shape[0] > 1):\n",
        "#  signal = torch.mean(signal, dim=0, keepdim= keepdim ) #, keepdim= True\n",
        "#  return signal\n",
        "\n",
        "def spliter(tensor, sr, time, truncar = True):\n",
        "  \"\"\"\n",
        "  Recibe un tensor y un tiempo en segundos.\n",
        "  Retorna el tensro original segmentado en muestras del tiempo recibido.\n",
        "  En caso de que el recorte no sea exacto, se le agrega zero padding al final.\n",
        "  \"\"\"\n",
        "  num_samples = int(sr * time)\n",
        "  resto = len(tensor)%num_samples\n",
        "  if truncar == True:\n",
        "    splited = torch.split(tensor[:len(tensor) - resto], num_samples)\n",
        "  else:\n",
        "    padding = torch.zeros(num_samples - resto)\n",
        "    splited = torch.split(torch.cat((tensor, padding)), num_samples)\n",
        "  return splited\n",
        "\n",
        "def time_fixer(signal, sr, target_time):\n",
        "  \"\"\"\n",
        "  Recibe una señal y un tiempo en segundos.\n",
        "  En caso de que la señal dure menos de tiempo indicado se le agrega zero padding\n",
        "  al final.\n",
        "  En caso de que la señal dure mas de tiempo indicado se le recortan las ultimas muestras\n",
        "  \"\"\"\n",
        "  samples = int(target_time*sr)\n",
        "  if(signal.shape[0] < samples):\n",
        "    padding = torch.zeros( samples - signal.shape[0], device= signal.device)\n",
        "    fixed_signal = torch.cat((signal, padding))\n",
        "  elif(signal.shape[0] > samples):\n",
        "    fixed_signal = signal[:samples]\n",
        "  else:\n",
        "    fixed_signal = signal\n",
        "  return fixed_signal\n",
        "\n",
        "\n",
        "#def preacondicionar_audio(signal, native_sr, target_sr, dur_sample = 10, dur_fix = 5*60):\n",
        "  \"\"\"\n",
        "  (DESCARTADA)\n",
        "  Se genera un resample de la señal de audio, luego cambia el canal de audio a mono.\n",
        "  Despues se generan muestras de la señal de audio de 10 segundos y finalmente se fixea la señal de audio a un tiempo de 5 minutos.\n",
        "  El fixeo a 5 minutos se descarto\n",
        "  \"\"\"\n",
        "  if( native_sr != target_sr):  #resample\n",
        "    resampler = torchaudio.transforms.Resample(native_sr, target_sr)\n",
        "    signal = resampler(signal)\n",
        "  signal = stereo_to_mono(signal)\n",
        "  muestras = spliter(signal, target_sr, dur_sample)\n",
        "  fixed_signal = signal #fixed_signal = _time_fixer(signal, target_sr, dur_fix)\n",
        "  return fixed_signal, muestras, target_sr\n",
        "\n",
        "def normalizer(signal, threshold = 1e-12):\n",
        "  \"\"\"\n",
        "  Recibe una senial en formato tensor y un valor de tresh_hold. \n",
        "  Normaliza la senial a no ser que el valor de pico de la  senial sea menor al valor de threshold\n",
        "  \"\"\"\n",
        "  max_abs_val = signal.abs().max()\n",
        "  if (max_abs_val > threshold) and (max_abs_val != 1):\n",
        "    signal = signal / max_abs_val\n",
        "  return signal\n",
        "  \n",
        "#signal, sr = torchaudio.load(fPath)\n",
        "#signal, sr = preacondicionar_audio(signal, sr, target_sr)\n",
        "MelCalculator = torchaudio.transforms.MelSpectrogram(sample_rate=TARGET_SR,\n",
        "                                                       n_fft = N_FFT,\n",
        "                                                       hop_length = H_LEN,\n",
        "                                                       win_length= W_LEN,\n",
        "                                                       n_mels = N_MELS)\n",
        "\n",
        "MFCCCalculator = torchaudio.transforms.MFCC(sample_rate = TARGET_SR,\n",
        "                                            n_mfcc = int(N_MFCC),\n",
        "                                            dct_type = 2,\n",
        "                                            norm = 'ortho',\n",
        "                                            log_mels = False,\n",
        "                                            melkwargs = {\"n_fft\": N_FFT, \"hop_length\": H_LEN, \"n_mels\": N_MELS, \"center\": False},)\n"
      ]
    },
    {
      "cell_type": "markdown",
      "metadata": {},
      "source": [
        "# Resample de las respuestas al impulso RIR"
      ]
    },
    {
      "cell_type": "code",
      "execution_count": 17,
      "metadata": {},
      "outputs": [
        {
          "name": "stdout",
          "output_type": "stream",
          "text": [
            "..\\data\\RIR\n",
            "..\\data\\RIR_16K\n"
          ]
        }
      ],
      "source": [
        "PATH_RIR = os.path.join(root, \"RIR\")\n",
        "PATH_RIR_RESAMPLED = os.path.join(root, \"RIR_16K\")\n",
        "print(PATH_RIR)\n",
        "print(PATH_RIR_RESAMPLED)\n"
      ]
    },
    {
      "cell_type": "code",
      "execution_count": 18,
      "metadata": {},
      "outputs": [
        {
          "data": {
            "text/plain": [
              "['00_DocGen.ipynb',\n",
              " '01_Preprocesado.ipynb',\n",
              " '02_DataFramesGenerator.ipynb',\n",
              " 'desechados']"
            ]
          },
          "execution_count": 18,
          "metadata": {},
          "output_type": "execute_result"
        }
      ],
      "source": [
        "os.listdir()"
      ]
    },
    {
      "cell_type": "code",
      "execution_count": 19,
      "metadata": {},
      "outputs": [
        {
          "name": "stderr",
          "output_type": "stream",
          "text": [
            "  0%|          | 0/325 [00:00<?, ?it/s]"
          ]
        },
        {
          "name": "stderr",
          "output_type": "stream",
          "text": [
            "100%|██████████| 325/325 [00:05<00:00, 64.99it/s]\n"
          ]
        }
      ],
      "source": [
        "for f in tqdm(os.listdir(PATH_RIR)) :\n",
        "    rir, rir_sr = torchaudio.load(os.path.join(PATH_RIR, f))\n",
        "    rir = rir.to(device)\n",
        "    #stereo to mono\n",
        "    rir = torch.mean(rir, dim=0) #, keepdim= True\n",
        "    #resample\n",
        "    rir_resampler = torchaudio.transforms.Resample(rir_sr,TARGET_SR).to(device)\n",
        "    rir = rir_resampler(rir)\n",
        "    #fixing rir response in 10 seconds\n",
        "    rir = time_fixer(rir,TARGET_SR,TARGET_TIME)#padding/cut\n",
        "    #normalizando\n",
        "    rir = normalizer(rir)\n",
        "    #save\n",
        "    rir = rir.unsqueeze(0).cpu()\n",
        "    save_path = os.path.join(PATH_RIR_RESAMPLED,f)\n",
        "    torchaudio.save(save_path,rir,TARGET_SR)\n"
      ]
    },
    {
      "cell_type": "code",
      "execution_count": 20,
      "metadata": {},
      "outputs": [
        {
          "data": {
            "text/plain": [
              "torch.Size([1, 160000])"
            ]
          },
          "execution_count": 20,
          "metadata": {},
          "output_type": "execute_result"
        }
      ],
      "source": [
        "rir.shape"
      ]
    },
    {
      "cell_type": "markdown",
      "metadata": {},
      "source": [
        "# Resample de las muestrar de ruido"
      ]
    },
    {
      "cell_type": "code",
      "execution_count": 21,
      "metadata": {},
      "outputs": [
        {
          "name": "stdout",
          "output_type": "stream",
          "text": [
            "..\\data\\NOISE\n",
            "..\\data\\NOISE_16K\n"
          ]
        }
      ],
      "source": [
        "PATH_NOISE = os.path.join(root, \"NOISE\")\n",
        "PATH_NOISE_RESAMPLED = os.path.join(root, \"NOISE_16K\")\n",
        "print(PATH_NOISE)\n",
        "print(PATH_NOISE_RESAMPLED)\n"
      ]
    },
    {
      "cell_type": "code",
      "execution_count": 22,
      "metadata": {},
      "outputs": [
        {
          "name": "stderr",
          "output_type": "stream",
          "text": [
            "100%|██████████| 92/92 [00:02<00:00, 33.54it/s]\n"
          ]
        }
      ],
      "source": [
        "for f in tqdm(os.listdir(PATH_NOISE)[1:]) :\n",
        "    rir, rir_sr = torchaudio.load(os.path.join(PATH_NOISE, f))\n",
        "    rir = rir.to(device)\n",
        "    #stereo to mono\n",
        "    rir = torch.mean(rir, dim=0) #, keepdim= True\n",
        "    #resample\n",
        "    rir_resampler = torchaudio.transforms.Resample(rir_sr,TARGET_SR).to(device)\n",
        "    rir = rir_resampler(rir)\n",
        "    #fixing rir response in 10 seconds\n",
        "    rir = time_fixer(rir,TARGET_SR,TARGET_TIME)#padding/cut\n",
        "    #normalizando\n",
        "    rir = normalizer(rir)\n",
        "    #saving\n",
        "    rir = rir.unsqueeze(0).cpu()\n",
        "    save_path = os.path.join(PATH_NOISE_RESAMPLED,f)\n",
        "    torchaudio.save(save_path,rir,TARGET_SR)\n"
      ]
    },
    {
      "cell_type": "markdown",
      "metadata": {},
      "source": [
        "# CREANDO UNA BASE DE DATOS DE AUDIO EN 16K"
      ]
    },
    {
      "cell_type": "code",
      "execution_count": 16,
      "metadata": {},
      "outputs": [
        {
          "data": {
            "text/html": [
              "<div>\n",
              "<style scoped>\n",
              "    .dataframe tbody tr th:only-of-type {\n",
              "        vertical-align: middle;\n",
              "    }\n",
              "\n",
              "    .dataframe tbody tr th {\n",
              "        vertical-align: top;\n",
              "    }\n",
              "\n",
              "    .dataframe thead th {\n",
              "        text-align: right;\n",
              "    }\n",
              "</style>\n",
              "<table border=\"1\" class=\"dataframe\">\n",
              "  <thead>\n",
              "    <tr style=\"text-align: right;\">\n",
              "      <th></th>\n",
              "      <th>MFI</th>\n",
              "      <th>artist</th>\n",
              "      <th>album</th>\n",
              "      <th>song</th>\n",
              "      <th>localPath</th>\n",
              "      <th>duracion</th>\n",
              "    </tr>\n",
              "    <tr>\n",
              "      <th>fileTrak</th>\n",
              "      <th></th>\n",
              "      <th></th>\n",
              "      <th></th>\n",
              "      <th></th>\n",
              "      <th></th>\n",
              "      <th></th>\n",
              "    </tr>\n",
              "  </thead>\n",
              "  <tbody>\n",
              "    <tr>\n",
              "      <th>/audio/mujer/Ariana Grande/Brand New You (From 13)/01. Brand New You (feat. Brynn Williams &amp; Caitlin Gann).flac</th>\n",
              "      <td>mujer</td>\n",
              "      <td>Ariana Grande</td>\n",
              "      <td>Brand New You (From 13)</td>\n",
              "      <td>01. Brand New You (feat. Brynn Williams &amp; Cait...</td>\n",
              "      <td>/audio/mujer/Ariana Grande/Brand New You (From...</td>\n",
              "      <td>188.093333</td>\n",
              "    </tr>\n",
              "    <tr>\n",
              "      <th>/audio/mujer/Ariana Grande/Brand New You (From 13)/02. A Little More Homework (feat. Graham Phillips) (Single Version).flac</th>\n",
              "      <td>mujer</td>\n",
              "      <td>Ariana Grande</td>\n",
              "      <td>Brand New You (From 13)</td>\n",
              "      <td>02. A Little More Homework (feat. Graham Phill...</td>\n",
              "      <td>/audio/mujer/Ariana Grande/Brand New You (From...</td>\n",
              "      <td>302.733333</td>\n",
              "    </tr>\n",
              "    <tr>\n",
              "      <th>/audio/mujer/Ariana Grande/Christmas &amp; Chill/01. Intro.flac</th>\n",
              "      <td>mujer</td>\n",
              "      <td>Ariana Grande</td>\n",
              "      <td>Christmas &amp; Chill</td>\n",
              "      <td>01. Intro</td>\n",
              "      <td>/audio/mujer/Ariana Grande/Christmas &amp; Chill</td>\n",
              "      <td>65.693333</td>\n",
              "    </tr>\n",
              "    <tr>\n",
              "      <th>/audio/mujer/Ariana Grande/Christmas &amp; Chill/02. Wit It This Christmas.flac</th>\n",
              "      <td>mujer</td>\n",
              "      <td>Ariana Grande</td>\n",
              "      <td>Christmas &amp; Chill</td>\n",
              "      <td>02. Wit It This Christmas</td>\n",
              "      <td>/audio/mujer/Ariana Grande/Christmas &amp; Chill</td>\n",
              "      <td>161.280000</td>\n",
              "    </tr>\n",
              "    <tr>\n",
              "      <th>/audio/mujer/Ariana Grande/Christmas &amp; Chill/03. December.flac</th>\n",
              "      <td>mujer</td>\n",
              "      <td>Ariana Grande</td>\n",
              "      <td>Christmas &amp; Chill</td>\n",
              "      <td>03. December</td>\n",
              "      <td>/audio/mujer/Ariana Grande/Christmas &amp; Chill</td>\n",
              "      <td>116.266667</td>\n",
              "    </tr>\n",
              "  </tbody>\n",
              "</table>\n",
              "</div>"
            ],
            "text/plain": [
              "                                                      MFI         artist  \\\n",
              "fileTrak                                                                   \n",
              "/audio/mujer/Ariana Grande/Brand New You (From ...  mujer  Ariana Grande   \n",
              "/audio/mujer/Ariana Grande/Brand New You (From ...  mujer  Ariana Grande   \n",
              "/audio/mujer/Ariana Grande/Christmas & Chill/01...  mujer  Ariana Grande   \n",
              "/audio/mujer/Ariana Grande/Christmas & Chill/02...  mujer  Ariana Grande   \n",
              "/audio/mujer/Ariana Grande/Christmas & Chill/03...  mujer  Ariana Grande   \n",
              "\n",
              "                                                                      album  \\\n",
              "fileTrak                                                                      \n",
              "/audio/mujer/Ariana Grande/Brand New You (From ...  Brand New You (From 13)   \n",
              "/audio/mujer/Ariana Grande/Brand New You (From ...  Brand New You (From 13)   \n",
              "/audio/mujer/Ariana Grande/Christmas & Chill/01...        Christmas & Chill   \n",
              "/audio/mujer/Ariana Grande/Christmas & Chill/02...        Christmas & Chill   \n",
              "/audio/mujer/Ariana Grande/Christmas & Chill/03...        Christmas & Chill   \n",
              "\n",
              "                                                                                                 song  \\\n",
              "fileTrak                                                                                                \n",
              "/audio/mujer/Ariana Grande/Brand New You (From ...  01. Brand New You (feat. Brynn Williams & Cait...   \n",
              "/audio/mujer/Ariana Grande/Brand New You (From ...  02. A Little More Homework (feat. Graham Phill...   \n",
              "/audio/mujer/Ariana Grande/Christmas & Chill/01...                                          01. Intro   \n",
              "/audio/mujer/Ariana Grande/Christmas & Chill/02...                          02. Wit It This Christmas   \n",
              "/audio/mujer/Ariana Grande/Christmas & Chill/03...                                       03. December   \n",
              "\n",
              "                                                                                            localPath  \\\n",
              "fileTrak                                                                                                \n",
              "/audio/mujer/Ariana Grande/Brand New You (From ...  /audio/mujer/Ariana Grande/Brand New You (From...   \n",
              "/audio/mujer/Ariana Grande/Brand New You (From ...  /audio/mujer/Ariana Grande/Brand New You (From...   \n",
              "/audio/mujer/Ariana Grande/Christmas & Chill/01...       /audio/mujer/Ariana Grande/Christmas & Chill   \n",
              "/audio/mujer/Ariana Grande/Christmas & Chill/02...       /audio/mujer/Ariana Grande/Christmas & Chill   \n",
              "/audio/mujer/Ariana Grande/Christmas & Chill/03...       /audio/mujer/Ariana Grande/Christmas & Chill   \n",
              "\n",
              "                                                      duracion  \n",
              "fileTrak                                                        \n",
              "/audio/mujer/Ariana Grande/Brand New You (From ...  188.093333  \n",
              "/audio/mujer/Ariana Grande/Brand New You (From ...  302.733333  \n",
              "/audio/mujer/Ariana Grande/Christmas & Chill/01...   65.693333  \n",
              "/audio/mujer/Ariana Grande/Christmas & Chill/02...  161.280000  \n",
              "/audio/mujer/Ariana Grande/Christmas & Chill/03...  116.266667  "
            ]
          },
          "execution_count": 16,
          "metadata": {},
          "output_type": "execute_result"
        }
      ],
      "source": [
        "df.head()"
      ]
    },
    {
      "cell_type": "code",
      "execution_count": 23,
      "metadata": {},
      "outputs": [],
      "source": [
        "DATA_SET_NAME = \"masterDS\"\n",
        "dest_folder = os.path.join(root, \"masterDS\")"
      ]
    },
    {
      "cell_type": "code",
      "execution_count": 21,
      "metadata": {},
      "outputs": [
        {
          "data": {
            "text/html": [
              "<div>\n",
              "<style scoped>\n",
              "    .dataframe tbody tr th:only-of-type {\n",
              "        vertical-align: middle;\n",
              "    }\n",
              "\n",
              "    .dataframe tbody tr th {\n",
              "        vertical-align: top;\n",
              "    }\n",
              "\n",
              "    .dataframe thead th {\n",
              "        text-align: right;\n",
              "    }\n",
              "</style>\n",
              "<table border=\"1\" class=\"dataframe\">\n",
              "  <thead>\n",
              "    <tr style=\"text-align: right;\">\n",
              "      <th></th>\n",
              "      <th>MFI</th>\n",
              "      <th>artist</th>\n",
              "      <th>album</th>\n",
              "      <th>song</th>\n",
              "      <th>original_path</th>\n",
              "      <th>16k_path</th>\n",
              "      <th>16k_file</th>\n",
              "      <th>sample_full</th>\n",
              "    </tr>\n",
              "    <tr>\n",
              "      <th>original_file</th>\n",
              "      <th></th>\n",
              "      <th></th>\n",
              "      <th></th>\n",
              "      <th></th>\n",
              "      <th></th>\n",
              "      <th></th>\n",
              "      <th></th>\n",
              "      <th></th>\n",
              "    </tr>\n",
              "  </thead>\n",
              "  <tbody>\n",
              "  </tbody>\n",
              "</table>\n",
              "</div>"
            ],
            "text/plain": [
              "Empty DataFrame\n",
              "Columns: [MFI, artist, album, song, original_path, 16k_path, 16k_file, sample_full]\n",
              "Index: []"
            ]
          },
          "execution_count": 21,
          "metadata": {},
          "output_type": "execute_result"
        }
      ],
      "source": [
        "ndf = pd.DataFrame(columns=['MFI', 'artist', 'album', 'song', 'original_path', 'original_file', '16k_path', '16k_file', 'sample_full'])\n",
        "ndf.set_index('original_file', inplace=True)\n",
        "ndf.head()"
      ]
    },
    {
      "cell_type": "code",
      "execution_count": 22,
      "metadata": {},
      "outputs": [
        {
          "name": "stderr",
          "output_type": "stream",
          "text": [
            "100%|██████████| 1180/1180 [13:28<00:00,  1.46it/s]\n"
          ]
        }
      ],
      "source": [
        "data = []                                   # lista para guardar toda la metadata para generar un dataframe que permita levantar la info del dataset y que permita generar un dataloader\n",
        "errors = []                                 # lista para anotar que canciones no se pudieron levantar para depurarlar y/o excluirlas del dataset\n",
        "for f in tqdm(df.index):\n",
        "\n",
        "    trakPath = os.path.join(root+ '/' + f)\n",
        "    try:\n",
        "        #print('Loading:', trakPath)\n",
        "        signal, sr = torchaudio.load(trakPath)\n",
        "        signal = signal.to(device)\n",
        "    except:\n",
        "        errors.append(trakPath)\n",
        "        #print('Error:', trakPath)\n",
        "        continue\n",
        "    \n",
        "\n",
        "    i = 0 # indice para guardar las canciones\n",
        "    #stereo to mono\n",
        "    signal = torch.mean(signal, dim=0) #, keepdim= True\n",
        "    format = f.split(\".\")[-1]\n",
        "    #resample\n",
        "    song_resampler = torchaudio.transforms.Resample(sr,TARGET_SR).to(device)\n",
        "    signal = song_resampler(signal)\n",
        "    #normalizando\n",
        "    signal = normalizer(signal)\n",
        "    #spliteo la senial en segmentos de 10 segundos\n",
        "    splited_signal = signal.unfold(0, 10 * TARGET_SR, 10 * TARGET_SR)\n",
        "    #guardo la senial\n",
        "    signal = signal.unsqueeze(0).cpu()\n",
        "    save_path = os.path.join(dest_folder, df.loc[f]['song']+str(i)+\".\"+format)\n",
        "    torchaudio.save(save_path,signal,TARGET_SR)\n",
        "    #Agrego la info de los datos recien generados a la lista para generar el df que se va a usar para el dataset \n",
        "    data.append([df.loc[f]['MFI'],\n",
        "                 df.loc[f]['artist'] ,\n",
        "                 df.loc[f]['album'], \n",
        "                 df.loc[f]['song'], \n",
        "                 df.loc[f]['localPath'], \n",
        "                 f, \n",
        "                 dest_folder, save_path, 'full']) \n",
        "    for sample in splited_signal: #podria tener que saltearme la muestra 0 porque suele no tener la voz del cantante\n",
        "        i += 1\n",
        "        #guardo la senial\n",
        "        sample = sample.unsqueeze(0).cpu()\n",
        "        save_path = os.path.join(dest_folder, df.loc[f]['song']+str(i)+\".\"+format)\n",
        "        torchaudio.save(save_path,sample,TARGET_SR)\n",
        "        #Agrego la info de los datos recien generados a la lista para generar el df que se va a usar para el dataset \n",
        "        data.append([df.loc[f]['MFI'],\n",
        "                    df.loc[f]['artist'] ,\n",
        "                    df.loc[f]['album'], \n",
        "                    df.loc[f]['song'], \n",
        "                    df.loc[f]['localPath'], \n",
        "                    f, \n",
        "                    dest_folder, save_path, 'sample']) \n",
        "        #data.append([df.loc[f]['MFI'],df.loc[f]['artist'] , df.loc[f]['album'], df.loc[f]['song'], df.loc[f]['duracion'], df.loc[f]['localPath'], f, melFolder, melSave, mfccFolder, mfccSave, 'sample'])\n"
      ]
    },
    {
      "cell_type": "code",
      "execution_count": 24,
      "metadata": {},
      "outputs": [],
      "source": [
        "ndf = pd.DataFrame(data, columns=['MFI', \n",
        "                                  'artist', \n",
        "                                  'album', \n",
        "                                  'song', \n",
        "                                  'original_path', \n",
        "                                  'original_file', \n",
        "                                  '16k_path', \n",
        "                                  '16k_file', \n",
        "                                  'sample_full'\n",
        "])\n",
        "error_df = pd.DataFrame(errors, columns=['error_path'])\n",
        "ndf.head()\n",
        "ndf.to_csv(os.path.join(csvPath, DATA_SET_NAME + \".csv\"), index=False)\n"
      ]
    },
    {
      "cell_type": "code",
      "execution_count": 25,
      "metadata": {},
      "outputs": [
        {
          "data": {
            "text/html": [
              "<div>\n",
              "<style scoped>\n",
              "    .dataframe tbody tr th:only-of-type {\n",
              "        vertical-align: middle;\n",
              "    }\n",
              "\n",
              "    .dataframe tbody tr th {\n",
              "        vertical-align: top;\n",
              "    }\n",
              "\n",
              "    .dataframe thead th {\n",
              "        text-align: right;\n",
              "    }\n",
              "</style>\n",
              "<table border=\"1\" class=\"dataframe\">\n",
              "  <thead>\n",
              "    <tr style=\"text-align: right;\">\n",
              "      <th></th>\n",
              "      <th>error_path</th>\n",
              "    </tr>\n",
              "  </thead>\n",
              "  <tbody>\n",
              "  </tbody>\n",
              "</table>\n",
              "</div>"
            ],
            "text/plain": [
              "Empty DataFrame\n",
              "Columns: [error_path]\n",
              "Index: []"
            ]
          },
          "execution_count": 25,
          "metadata": {},
          "output_type": "execute_result"
        }
      ],
      "source": [
        "error_df.head()"
      ]
    },
    {
      "cell_type": "markdown",
      "metadata": {},
      "source": [
        "# TESTEOS"
      ]
    },
    {
      "cell_type": "markdown",
      "metadata": {},
      "source": [
        "### OBS: celda de testeo que usa las funciones definidas mas adelante\n",
        "mel = []\n",
        "mfcc = []\n",
        "for c in tqdm(classes):\n",
        "    file = df[df.artist == c].index[1]\n",
        "    song, rate = torchaudio.load(root+file)\n",
        "    song =  stereo_to_mono(song)\n",
        "    mel.append(MelCalculator(song))\n",
        "    mfcc.append(MFCCCalculator(song))\n",
        "print(classes)"
      ]
    },
    {
      "cell_type": "markdown",
      "metadata": {},
      "source": [
        "MFCCCalculator = torchaudio.transforms.MFCC(sample_rate = TARGET_SR,\n",
        "                                                n_mfcc = int(N_MFCC),\n",
        "                                                dct_type = 2,\n",
        "                                                norm = 'ortho',\n",
        "                                                log_mels = False,\n",
        "                                                melkwargs = {\"n_fft\": N_FFT, \"hop_length\": H_LEN, \"n_mels\": N_MELS, \"center\": False}).to(device)\n",
        "\n",
        "#load\n",
        "for file in tqdm(df[df.artist == classes[2]].index) :\n",
        "    audio_track, song_sr = torchaudio.load(root + file)\n",
        "    audio_track = audio_track.to(device)\n",
        "    #stereo to mono\n",
        "    audio_track = torch.mean(audio_track, dim=0) #, keepdim= True\n",
        "    #resample\n",
        "    song_resampler = torchaudio.transforms.Resample(song_sr,TARGET_SR).to(device)\n",
        "    audio_track = song_resampler(audio_track)\n",
        "\n",
        "    #load\n",
        "    RIR_LIST = os.listdir(root + \"/RIR\")\n",
        "    sample_rir, rir_sr = torchaudio.load(root+ \"/RIR/\" + RIR_LIST[1])\n",
        "    sample_rir = sample_rir.to(device)\n",
        "    #stereo to mono\n",
        "    sample_rir = torch.mean(sample_rir, dim=0) #, keepdim= True\n",
        "    #resample\n",
        "    rir_resampler = torchaudio.transforms.Resample(rir_sr,TARGET_SR).to(device)\n",
        "    sample_rir = rir_resampler(sample_rir)\n",
        "    #spliteo la senial\n",
        "    splited_audio = audio_track.unfold(0, 10 * TARGET_SR, 10 * TARGET_SR)\n",
        "    #calculo la fft\n",
        "    augmented = torchaudio.functional.fftconvolve(splited_audio, sample_rir.unsqueeze(0), \"full\" )\n",
        "    #Extraccion de MFCC\n",
        "    augmented_mfcc = MFCCCalculator(augmented)\n",
        "    #augmented = augmented.cpu()\n",
        "    #plot_spectrogram(augmented_mfcc, title = clas_dist.keys()[i])\n",
        "    #sd.play(augmented, TARGET_SR)\n",
        "    break\n",
        "augmented_mfcc = augmented_mfcc.cpu()\n",
        "plot_spectrogram(augmented_mfcc[0], title = clas_dist.keys()[0])\n"
      ]
    },
    {
      "cell_type": "markdown",
      "metadata": {},
      "source": [
        "augmented.shape"
      ]
    },
    {
      "cell_type": "markdown",
      "metadata": {},
      "source": [
        "splited_audio.shape"
      ]
    },
    {
      "cell_type": "markdown",
      "metadata": {},
      "source": [
        "TARGET_SR"
      ]
    },
    {
      "cell_type": "markdown",
      "metadata": {},
      "source": [
        "240000 / 16000"
      ]
    },
    {
      "cell_type": "markdown",
      "metadata": {},
      "source": [
        "# OBS: celda de testeo que usa las funciones definidas mas adelante \n",
        "i = 2\n",
        "#plot_spectrogram(mel[i], title = clas_dist.keys()[i])\n",
        "plot_spectrogram(mfcc[i], title = clas_dist.keys()[i])\n"
      ]
    },
    {
      "cell_type": "markdown",
      "metadata": {},
      "source": [
        "11 ~ "
      ]
    },
    {
      "cell_type": "markdown",
      "metadata": {},
      "source": [
        "k =  1\n",
        "RIR_LIST = os.listdir(root + \"/RIR\")\n",
        "sample_rir, rir_sr = torchaudio.load(root+ \"/RIR/\" + RIR_LIST[k])\n",
        "sample_rir.cuda()\n",
        "sample_rir = stereo_to_mono(sample_rir)\n",
        "augmented = torchaudio.functional.fftconvolve(song, sample_rir)\n",
        "rir_mfcc = MFCCCalculator(augmented)\n",
        "plot_spectrogram(rir_mfcc, title = clas_dist.keys()[i])\n",
        "sd.play(augmented, rate)\n"
      ]
    },
    {
      "cell_type": "markdown",
      "metadata": {},
      "source": [
        "sd.play(augmented, rate)"
      ]
    },
    {
      "cell_type": "markdown",
      "metadata": {},
      "source": [
        "sd.stop()"
      ]
    },
    {
      "cell_type": "markdown",
      "metadata": {},
      "source": [
        "# Desechado"
      ]
    },
    {
      "cell_type": "markdown",
      "metadata": {},
      "source": [
        "## Corriendo acondicionamiento de los datos "
      ]
    },
    {
      "cell_type": "markdown",
      "metadata": {
        "id": "bubjimBSnIZ8"
      },
      "source": [
        "#### M/F/I     indica si el artista es Male, Female, Instrumental\n",
        "#### artist    indica el nombre del artista o banda\n",
        "#### album\n",
        "#### song      indica el nombre de la cncion\n",
        "#### localPath indica la ruta de la carpeta donde esta contenida la cancion\n",
        "#### fileTrak  indica el nombre del archivo que contiene la pista de audio\n",
        "#### fileMel  indica el nombre del espectrograma de mel\n",
        "#### sample/full indica si el espectrograma es calculado respecto a toda la cancion o respecto a un sample de 10 seg\n",
        "ndf = pd.DataFrame(columns=['MFI', 'artist', 'album', 'song','localPath', 'fileTrak', 'Mel26', 'MCC13', 'sample_full'])\n",
        "ndf.set_index('fileTrak', inplace=True)\n"
      ]
    },
    {
      "cell_type": "markdown",
      "metadata": {},
      "source": [
        "def save_transform(signal, transform, fName, foldName, FORCE = False, Full = False):\n",
        "    if( not os.path.isdir(foldName)): #si no existe la carpeta la creo\n",
        "        os.mkdir(foldName)\n",
        "    if((not os.path.isfile(fName)) or FORCE): #Calculo el mel si la cancion no esta previamente cargada o si se indico FORCE ## ERROR\n",
        "        toSave = transform(signal)\n",
        "        torch.save(toSave, fName)"
      ]
    },
    {
      "cell_type": "markdown",
      "metadata": {},
      "source": [
        "melFolder = root + '/' + 'M26_noise'        #Carpeta donde se guardan los mel\n",
        "mfccFolder = root + '/' + 'MFCC13_noise'    # Carpeta donde se guardan los mfcc\n",
        "FORCE = False\n",
        "data = []                                   # lista para guardar toda la metadata para generar un dataframe que permita levantar la info del dataset y que permita generar un dataloader\n",
        "errors = []                                 # lista para anotar que canciones no se pudieron levantar para depurarlar y/o excluirlas del dataset\n",
        "for f in tqdm(df.index):\n",
        "\n",
        "    trakPath = root+ '/' + f\n",
        "    try:\n",
        "        #print('Loading:', trakPath)\n",
        "        signal, sr = torchaudio.load(trakPath)\n",
        "    except:\n",
        "        errors.append(trakPath)\n",
        "        #print('Error:', trakPath)\n",
        "        continue\n",
        "    \n",
        "    signal, muestras, sr = preacondicionar_audio(signal, sr, TARGET_SR)\n",
        "    melIndex = 0\n",
        "\n",
        "    \n",
        "    fileMel = df.loc[f]['song'] + ' ' + str(melIndex) +'.pt'    # Genero el nombre para el archivo del MEL  a generar\n",
        "    melSave =  melFolder + '/' + fileMel                        # Path donde se guarda el archivo\n",
        "    save_transform(signal, MelCalculator, melSave, melFolder, FORCE = FORCE, Full = True) #aplico el melCalculator a toda la cancion y luego la guardo en el archivo que se consiguio 2 lineas arriba\n",
        "\n",
        "    fileMfcc = df.loc[f]['song'] + ' ' + str(melIndex) +'.pt'   # Repito el proceso pero esta vez para el MFCC\n",
        "    mfccSave =  mfccFolder + '/' + fileMfcc #\n",
        "    save_transform(signal, MFCCCalculator, mfccSave, mfccFolder, FORCE = FORCE, Full = True)\n",
        "\n",
        "    data.append([df.loc[f]['MFI'],\n",
        "                 df.loc[f]['artist'] , \n",
        "                 df.loc[f]['album'], \n",
        "                 df.loc[f]['song'], \n",
        "                 df.loc[f]['duracion'], \n",
        "                 df.loc[f]['localPath'], \n",
        "                 f, melFolder, melSave, mfccFolder, mfccSave, 'full']) #Agrego la info de los datos recien generados a la lista para generar el df que se va a usar para el dataset \n",
        "\n",
        "    for sample in muestras: #podria tener que saltearme la muestra 0 porque suele no tener la voz del cantante\n",
        "        melIndex += 1\n",
        "        fileMel = df.loc[f]['song'] + ' ' + str(melIndex) +'.pt' #\n",
        "        melSave =  melFolder + '/' + fileMel #\n",
        "        save_transform(sample, MelCalculator, melSave, melFolder, FORCE = FORCE, Full = False)\n",
        "        \n",
        "        fileMfcc = df.loc[f]['song'] + ' ' + str(melIndex) +'.pt' #\n",
        "        mfccSave =  mfccFolder + '/' + fileMfcc #\n",
        "        save_transform(sample, MFCCCalculator, mfccSave, mfccFolder, FORCE = FORCE, Full = False)\n",
        "        data.append([df.loc[f]['MFI'],df.loc[f]['artist'] , df.loc[f]['album'], df.loc[f]['song'], df.loc[f]['duracion'], df.loc[f]['localPath'], f, melFolder, melSave, mfccFolder, mfccSave, 'sample'])\n",
        "\n"
      ]
    },
    {
      "cell_type": "markdown",
      "metadata": {
        "colab": {
          "base_uri": "https://localhost:8080/"
        },
        "id": "aoUsWGVnLTeL",
        "outputId": "2afca2bf-57a9-4238-d344-adbb9d162378"
      },
      "source": [
        "ndf = pd.DataFrame(data, columns=['MFI', 'artist', 'album', 'song', 'duracion', 'localPath', 'fileTrak', 'melFolder', 'fileMel', 'mfccFolder', 'fileMfcc', 'sample_full'])\n",
        "error_df = pd.DataFrame(errors, columns=['error_path'])\n",
        "ndf.head()"
      ]
    },
    {
      "cell_type": "markdown",
      "metadata": {},
      "source": [
        "for error in errors:\n",
        "    print(error)"
      ]
    },
    {
      "cell_type": "markdown",
      "metadata": {
        "id": "Nf9BzFEveoDY"
      },
      "source": [
        "ndf.to_csv(f\"{root}/woman_noise.csv\", index=False)\n",
        "error_df.to_csv(f'{root}/errors.csv', index=False)"
      ]
    },
    {
      "cell_type": "markdown",
      "metadata": {
        "id": "l19KLEhoBvIV"
      },
      "source": [
        "## Reconstructor"
      ]
    },
    {
      "cell_type": "markdown",
      "metadata": {
        "id": "YOkTsWPpB1wa"
      },
      "source": [
        "import numpy as np\n",
        "import matplotlib.pyplot as plt\n",
        "import librosa"
      ]
    },
    {
      "cell_type": "markdown",
      "metadata": {
        "colab": {
          "base_uri": "https://localhost:8080/"
        },
        "id": "MVRrEVHqVwf5",
        "outputId": "bb1475fd-7b22-44a3-93f6-1e1dc7c0c877"
      },
      "source": [
        "os.listdir(root + '/data')"
      ]
    },
    {
      "cell_type": "markdown",
      "metadata": {
        "colab": {
          "base_uri": "https://localhost:8080/"
        },
        "id": "JpJGKSJeByN7",
        "outputId": "83d6da29-5abf-4414-f4ba-08cc937d8a27"
      },
      "source": [
        "i_sample = 5\n",
        "mel_recuperado = torch.load(root + df.at[i_sample, 'localPath'] + '/' + df.at[i_sample, 'fileMel'])\n",
        "print(mel_recuperado.shape)"
      ]
    },
    {
      "cell_type": "markdown",
      "metadata": {
        "colab": {
          "base_uri": "https://localhost:8080/",
          "height": 409
        },
        "id": "Z_wXsgBKE7Ag",
        "outputId": "d0851534-97e8-43cb-b7c7-588e13dda349"
      },
      "source": [
        "plt.figure(figsize= (14, 5))\n",
        "librosa.display.specshow(librosa.power_to_db(mel_recuperado), sr=target_sr, hop_length=512, x_axis='time', y_axis='mel')"
      ]
    },
    {
      "cell_type": "markdown",
      "metadata": {
        "id": "hVaFxVH5E_Fx"
      },
      "source": []
    }
  ],
  "metadata": {
    "colab": {
      "provenance": []
    },
    "kernelspec": {
      "display_name": "Python 3",
      "language": "python",
      "name": "python3"
    },
    "language_info": {
      "codemirror_mode": {
        "name": "ipython",
        "version": 3
      },
      "file_extension": ".py",
      "mimetype": "text/x-python",
      "name": "python",
      "nbconvert_exporter": "python",
      "pygments_lexer": "ipython3",
      "version": "3.13.1"
    }
  },
  "nbformat": 4,
  "nbformat_minor": 0
}
