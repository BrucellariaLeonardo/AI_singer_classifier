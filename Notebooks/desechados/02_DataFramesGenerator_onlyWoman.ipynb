{
 "cells": [
  {
   "cell_type": "markdown",
   "metadata": {},
   "source": [
    "En este notebook spliteto el dataSet en 3 csv, uno para cada conjunto de datos"
   ]
  },
  {
   "cell_type": "code",
   "execution_count": 5,
   "metadata": {},
   "outputs": [],
   "source": [
    "import torch\n",
    "from torch.utils.data import Dataset\n",
    "import pandas as pd\n",
    "import math\n",
    "import numpy as np"
   ]
  },
  {
   "cell_type": "markdown",
   "metadata": {},
   "source": [
    "# Generando un csv para el training y para el validation set"
   ]
  },
  {
   "cell_type": "code",
   "execution_count": 23,
   "metadata": {},
   "outputs": [
    {
     "data": {
      "text/html": [
       "<div>\n",
       "<style scoped>\n",
       "    .dataframe tbody tr th:only-of-type {\n",
       "        vertical-align: middle;\n",
       "    }\n",
       "\n",
       "    .dataframe tbody tr th {\n",
       "        vertical-align: top;\n",
       "    }\n",
       "\n",
       "    .dataframe thead th {\n",
       "        text-align: right;\n",
       "    }\n",
       "</style>\n",
       "<table border=\"1\" class=\"dataframe\">\n",
       "  <thead>\n",
       "    <tr style=\"text-align: right;\">\n",
       "      <th></th>\n",
       "      <th>MFI</th>\n",
       "      <th>album</th>\n",
       "      <th>song</th>\n",
       "      <th>duracion</th>\n",
       "      <th>localPath</th>\n",
       "      <th>fileTrak</th>\n",
       "      <th>melFolder</th>\n",
       "      <th>fileMel</th>\n",
       "      <th>mfccFolder</th>\n",
       "      <th>fileMfcc</th>\n",
       "      <th>sample_full</th>\n",
       "    </tr>\n",
       "    <tr>\n",
       "      <th>artist</th>\n",
       "      <th></th>\n",
       "      <th></th>\n",
       "      <th></th>\n",
       "      <th></th>\n",
       "      <th></th>\n",
       "      <th></th>\n",
       "      <th></th>\n",
       "      <th></th>\n",
       "      <th></th>\n",
       "      <th></th>\n",
       "      <th></th>\n",
       "    </tr>\n",
       "  </thead>\n",
       "  <tbody>\n",
       "    <tr>\n",
       "      <th>Ariana Grande</th>\n",
       "      <td>mujer</td>\n",
       "      <td>Brand New You (From 13)</td>\n",
       "      <td>01. Brand New You (feat. Brynn Williams &amp; Cait...</td>\n",
       "      <td>188.093333</td>\n",
       "      <td>/audio/mujer/Ariana Grande/Brand New You (From...</td>\n",
       "      <td>/audio/mujer/Ariana Grande/Brand New You (From...</td>\n",
       "      <td>../data/M26</td>\n",
       "      <td>../data/M26/01. Brand New You (feat. Brynn Wil...</td>\n",
       "      <td>../data/MFCC13</td>\n",
       "      <td>../data/MFCC13/01. Brand New You (feat. Brynn ...</td>\n",
       "      <td>sample</td>\n",
       "    </tr>\n",
       "    <tr>\n",
       "      <th>Ariana Grande</th>\n",
       "      <td>mujer</td>\n",
       "      <td>Brand New You (From 13)</td>\n",
       "      <td>01. Brand New You (feat. Brynn Williams &amp; Cait...</td>\n",
       "      <td>188.093333</td>\n",
       "      <td>/audio/mujer/Ariana Grande/Brand New You (From...</td>\n",
       "      <td>/audio/mujer/Ariana Grande/Brand New You (From...</td>\n",
       "      <td>../data/M26</td>\n",
       "      <td>../data/M26/01. Brand New You (feat. Brynn Wil...</td>\n",
       "      <td>../data/MFCC13</td>\n",
       "      <td>../data/MFCC13/01. Brand New You (feat. Brynn ...</td>\n",
       "      <td>sample</td>\n",
       "    </tr>\n",
       "    <tr>\n",
       "      <th>Ariana Grande</th>\n",
       "      <td>mujer</td>\n",
       "      <td>Brand New You (From 13)</td>\n",
       "      <td>01. Brand New You (feat. Brynn Williams &amp; Cait...</td>\n",
       "      <td>188.093333</td>\n",
       "      <td>/audio/mujer/Ariana Grande/Brand New You (From...</td>\n",
       "      <td>/audio/mujer/Ariana Grande/Brand New You (From...</td>\n",
       "      <td>../data/M26</td>\n",
       "      <td>../data/M26/01. Brand New You (feat. Brynn Wil...</td>\n",
       "      <td>../data/MFCC13</td>\n",
       "      <td>../data/MFCC13/01. Brand New You (feat. Brynn ...</td>\n",
       "      <td>sample</td>\n",
       "    </tr>\n",
       "    <tr>\n",
       "      <th>Ariana Grande</th>\n",
       "      <td>mujer</td>\n",
       "      <td>Brand New You (From 13)</td>\n",
       "      <td>01. Brand New You (feat. Brynn Williams &amp; Cait...</td>\n",
       "      <td>188.093333</td>\n",
       "      <td>/audio/mujer/Ariana Grande/Brand New You (From...</td>\n",
       "      <td>/audio/mujer/Ariana Grande/Brand New You (From...</td>\n",
       "      <td>../data/M26</td>\n",
       "      <td>../data/M26/01. Brand New You (feat. Brynn Wil...</td>\n",
       "      <td>../data/MFCC13</td>\n",
       "      <td>../data/MFCC13/01. Brand New You (feat. Brynn ...</td>\n",
       "      <td>sample</td>\n",
       "    </tr>\n",
       "    <tr>\n",
       "      <th>Ariana Grande</th>\n",
       "      <td>mujer</td>\n",
       "      <td>Brand New You (From 13)</td>\n",
       "      <td>01. Brand New You (feat. Brynn Williams &amp; Cait...</td>\n",
       "      <td>188.093333</td>\n",
       "      <td>/audio/mujer/Ariana Grande/Brand New You (From...</td>\n",
       "      <td>/audio/mujer/Ariana Grande/Brand New You (From...</td>\n",
       "      <td>../data/M26</td>\n",
       "      <td>../data/M26/01. Brand New You (feat. Brynn Wil...</td>\n",
       "      <td>../data/MFCC13</td>\n",
       "      <td>../data/MFCC13/01. Brand New You (feat. Brynn ...</td>\n",
       "      <td>sample</td>\n",
       "    </tr>\n",
       "  </tbody>\n",
       "</table>\n",
       "</div>"
      ],
      "text/plain": [
       "                 MFI                    album  \\\n",
       "artist                                          \n",
       "Ariana Grande  mujer  Brand New You (From 13)   \n",
       "Ariana Grande  mujer  Brand New You (From 13)   \n",
       "Ariana Grande  mujer  Brand New You (From 13)   \n",
       "Ariana Grande  mujer  Brand New You (From 13)   \n",
       "Ariana Grande  mujer  Brand New You (From 13)   \n",
       "\n",
       "                                                            song    duracion  \\\n",
       "artist                                                                         \n",
       "Ariana Grande  01. Brand New You (feat. Brynn Williams & Cait...  188.093333   \n",
       "Ariana Grande  01. Brand New You (feat. Brynn Williams & Cait...  188.093333   \n",
       "Ariana Grande  01. Brand New You (feat. Brynn Williams & Cait...  188.093333   \n",
       "Ariana Grande  01. Brand New You (feat. Brynn Williams & Cait...  188.093333   \n",
       "Ariana Grande  01. Brand New You (feat. Brynn Williams & Cait...  188.093333   \n",
       "\n",
       "                                                       localPath  \\\n",
       "artist                                                             \n",
       "Ariana Grande  /audio/mujer/Ariana Grande/Brand New You (From...   \n",
       "Ariana Grande  /audio/mujer/Ariana Grande/Brand New You (From...   \n",
       "Ariana Grande  /audio/mujer/Ariana Grande/Brand New You (From...   \n",
       "Ariana Grande  /audio/mujer/Ariana Grande/Brand New You (From...   \n",
       "Ariana Grande  /audio/mujer/Ariana Grande/Brand New You (From...   \n",
       "\n",
       "                                                        fileTrak    melFolder  \\\n",
       "artist                                                                          \n",
       "Ariana Grande  /audio/mujer/Ariana Grande/Brand New You (From...  ../data/M26   \n",
       "Ariana Grande  /audio/mujer/Ariana Grande/Brand New You (From...  ../data/M26   \n",
       "Ariana Grande  /audio/mujer/Ariana Grande/Brand New You (From...  ../data/M26   \n",
       "Ariana Grande  /audio/mujer/Ariana Grande/Brand New You (From...  ../data/M26   \n",
       "Ariana Grande  /audio/mujer/Ariana Grande/Brand New You (From...  ../data/M26   \n",
       "\n",
       "                                                         fileMel  \\\n",
       "artist                                                             \n",
       "Ariana Grande  ../data/M26/01. Brand New You (feat. Brynn Wil...   \n",
       "Ariana Grande  ../data/M26/01. Brand New You (feat. Brynn Wil...   \n",
       "Ariana Grande  ../data/M26/01. Brand New You (feat. Brynn Wil...   \n",
       "Ariana Grande  ../data/M26/01. Brand New You (feat. Brynn Wil...   \n",
       "Ariana Grande  ../data/M26/01. Brand New You (feat. Brynn Wil...   \n",
       "\n",
       "                   mfccFolder  \\\n",
       "artist                          \n",
       "Ariana Grande  ../data/MFCC13   \n",
       "Ariana Grande  ../data/MFCC13   \n",
       "Ariana Grande  ../data/MFCC13   \n",
       "Ariana Grande  ../data/MFCC13   \n",
       "Ariana Grande  ../data/MFCC13   \n",
       "\n",
       "                                                        fileMfcc sample_full  \n",
       "artist                                                                        \n",
       "Ariana Grande  ../data/MFCC13/01. Brand New You (feat. Brynn ...      sample  \n",
       "Ariana Grande  ../data/MFCC13/01. Brand New You (feat. Brynn ...      sample  \n",
       "Ariana Grande  ../data/MFCC13/01. Brand New You (feat. Brynn ...      sample  \n",
       "Ariana Grande  ../data/MFCC13/01. Brand New You (feat. Brynn ...      sample  \n",
       "Ariana Grande  ../data/MFCC13/01. Brand New You (feat. Brynn ...      sample  "
      ]
     },
     "execution_count": 23,
     "metadata": {},
     "output_type": "execute_result"
    }
   ],
   "source": [
    "root = '../data'\n",
    "original = pd.read_csv(root+'/woman.csv')\n",
    "df = original[original['sample_full'] == 'sample']\n",
    "df.set_index('artist', inplace= True) #Decido el indice sobre el cual se va a iterar\n",
    "df.head()"
   ]
  },
  {
   "cell_type": "code",
   "execution_count": 25,
   "metadata": {},
   "outputs": [
    {
     "data": {
      "text/plain": [
       "['Ariana Grande', 'Katy Perry', 'Taylor Swift']"
      ]
     },
     "execution_count": 25,
     "metadata": {},
     "output_type": "execute_result"
    }
   ],
   "source": [
    "classes = list(np.unique(df.index))\n",
    "classes"
   ]
  },
  {
   "cell_type": "code",
   "execution_count": 86,
   "metadata": {},
   "outputs": [
    {
     "name": "stdout",
     "output_type": "stream",
     "text": [
      "Ariana Grande : 3911\n",
      "Katy Perry : 5419\n",
      "Taylor Swift : 4531\n"
     ]
    }
   ],
   "source": [
    "dfDic = {}\n",
    "m = float('inf')\n",
    "for c in classes:\n",
    "    dfDic[c] = df.loc[c]\n",
    "\n",
    "for c in classes:\n",
    "    l = len(dfDic[c])\n",
    "    print(f\"{c} : {l}\")\n",
    "    if (m > l):\n",
    "        m = l"
   ]
  },
  {
   "cell_type": "code",
   "execution_count": 88,
   "metadata": {},
   "outputs": [],
   "source": [
    "#mezclo los datasets, incluso antes de separarlos, asi saco de todas las canciones\n",
    "dfRand = {}\n",
    "for c in classes:\n",
    "    dfRand[c] = dfDic[c].sample(frac=1)"
   ]
  },
  {
   "cell_type": "code",
   "execution_count": 89,
   "metadata": {},
   "outputs": [],
   "source": [
    "#diesmo los datasets de mujeres e instrumentales para que todas las categorias tengan la misma cantidad\n",
    "# de muestrs\n",
    "\n",
    "dfDes = {}\n",
    "for c in classes:\n",
    "    dfDes[c] = dfRand[c][:m]"
   ]
  },
  {
   "cell_type": "code",
   "execution_count": 117,
   "metadata": {},
   "outputs": [],
   "source": [
    "# separo un 75% de las muestras para el trining y el 25% para los valid y tes sets\n",
    "\n",
    "lTrain = math.floor(m * 0.75)\n",
    "lVal = math.floor((m-lTrain) * 0.9)\n",
    "lTest = m - lTrain - lVal\n",
    "\n",
    "dfTrain = {}\n",
    "dfVal = {}\n",
    "dfTest = {}\n",
    "for c in classes:\n",
    "    dfTrain[c] = dfDes[c][:lTrain]\n",
    "    dfVal[c] = dfDes[c][lTrain:lTrain+lVal]\n",
    "    dfTest[c] = dfDes[c][lTrain+lVal:]"
   ]
  },
  {
   "cell_type": "code",
   "execution_count": 127,
   "metadata": {},
   "outputs": [
    {
     "data": {
      "text/plain": [
       "(2933, 880, 98)"
      ]
     },
     "execution_count": 127,
     "metadata": {},
     "output_type": "execute_result"
    }
   ],
   "source": [
    "#muestro cuantas muestras tiene cada set\n",
    "len(dfTrain[classes[0]]), len(dfVal[classes[0]]), len(dfTest[classes[0]])"
   ]
  },
  {
   "cell_type": "code",
   "execution_count": 143,
   "metadata": {},
   "outputs": [],
   "source": [
    "#concateno los sets\n",
    "train_set = pd.concat(dfTrain.values())\n",
    "train_set.reset_index(inplace=True)\n",
    "train_set.to_csv(root+'/onlywoman_train.csv', index = False)\n",
    "\n",
    "val_set = pd.concat(dfVal.values())\n",
    "val_set.reset_index(inplace=True)\n",
    "val_set.to_csv(root'/onlywoman_val.csv', index = False)\n",
    "\n",
    "test_set = pd.concat(dfTest.values())\n",
    "test_set.reset_index(inplace=True)\n",
    "test_set.to_csv(root'/onlywoman_test.csv', index = False)\n",
    "\n",
    "full_songs = original[original['sample_full'] == 'full']\n",
    "full_songs.to_csv(root'/onlywoman_full.csv')"
   ]
  },
  {
   "cell_type": "code",
   "execution_count": null,
   "metadata": {},
   "outputs": [],
   "source": []
  }
 ],
 "metadata": {
  "kernelspec": {
   "display_name": "torch",
   "language": "python",
   "name": "python3"
  },
  "language_info": {
   "codemirror_mode": {
    "name": "ipython",
    "version": 3
   },
   "file_extension": ".py",
   "mimetype": "text/x-python",
   "name": "python",
   "nbconvert_exporter": "python",
   "pygments_lexer": "ipython3",
   "version": "3.12.7"
  }
 },
 "nbformat": 4,
 "nbformat_minor": 2
}
