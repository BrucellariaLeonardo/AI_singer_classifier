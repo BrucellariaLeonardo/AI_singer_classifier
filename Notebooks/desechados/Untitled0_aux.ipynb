{
  "cells": [
    {
      "cell_type": "code",
      "execution_count": 1,
      "metadata": {
        "colab": {
          "base_uri": "https://localhost:8080/"
        },
        "id": "j4mn5mWYlb5H",
        "outputId": "3c3c5df5-979d-4fad-cb5f-47a1c277a836"
      },
      "outputs": [
        {
          "ename": "ModuleNotFoundError",
          "evalue": "No module named 'google'",
          "output_type": "error",
          "traceback": [
            "\u001b[1;31m---------------------------------------------------------------------------\u001b[0m",
            "\u001b[1;31mModuleNotFoundError\u001b[0m                       Traceback (most recent call last)",
            "Cell \u001b[1;32mIn[1], line 1\u001b[0m\n\u001b[1;32m----> 1\u001b[0m \u001b[38;5;28;01mfrom\u001b[39;00m \u001b[38;5;21;01mgoogle\u001b[39;00m\u001b[38;5;21;01m.\u001b[39;00m\u001b[38;5;21;01mcolab\u001b[39;00m \u001b[38;5;28;01mimport\u001b[39;00m drive\n\u001b[0;32m      2\u001b[0m drive\u001b[38;5;241m.\u001b[39mmount(\u001b[38;5;124m'\u001b[39m\u001b[38;5;124m/content/drive\u001b[39m\u001b[38;5;124m'\u001b[39m)\n\u001b[0;32m      3\u001b[0m root \u001b[38;5;241m=\u001b[39m \u001b[38;5;124m'\u001b[39m\u001b[38;5;124m/content/drive/MyDrive/Colab/Project\u001b[39m\u001b[38;5;124m'\u001b[39m\n",
            "\u001b[1;31mModuleNotFoundError\u001b[0m: No module named 'google'"
          ]
        }
      ],
      "source": [
        "from google.colab import drive\n",
        "drive.mount('/content/drive')\n",
        "root = '/content/drive/MyDrive/Colab/Project'"
      ]
    },
    {
      "cell_type": "code",
      "execution_count": 19,
      "metadata": {},
      "outputs": [],
      "source": [
        "TARGET_SR = 22000\n",
        "N_FFT = 1024,\n",
        "HOP_LENGHT = 512,\n",
        "N_MELS = 64"
      ]
    },
    {
      "cell_type": "code",
      "execution_count": 2,
      "metadata": {
        "id": "3c7oCE5amcCW"
      },
      "outputs": [],
      "source": [
        "import os\n",
        "import torch\n",
        "import torchaudio\n",
        "import pandas as pd"
      ]
    },
    {
      "cell_type": "code",
      "execution_count": 6,
      "metadata": {
        "colab": {
          "base_uri": "https://localhost:8080/"
        },
        "id": "y6axf5oSmgk0",
        "outputId": "7cd7c246-2ecd-46bc-851e-c370db5b8164"
      },
      "outputs": [
        {
          "data": {
            "text/plain": [
              "['hombre', 'Instrumental', 'Mujer']"
            ]
          },
          "execution_count": 6,
          "metadata": {},
          "output_type": "execute_result"
        }
      ],
      "source": [
        "root = './'\n",
        "os.listdir(root + '/data')"
      ]
    },
    {
      "cell_type": "code",
      "execution_count": 7,
      "metadata": {
        "id": "bubjimBSnIZ8"
      },
      "outputs": [],
      "source": [
        "# M/F/I     indica si el artista es Male, Female, Instrumental\n",
        "# artist    indica el nombre del artista o banda\n",
        "# album\n",
        "# song      indica el nombre de la cncion\n",
        "# localPath indica la ruta de la carpeta donde esta contenida la cancion\n",
        "# fileTrak  indica el nombre del archivo que contiene la pista de audio\n",
        "# fileMel  indica el nombre del espectrograma de mel\n",
        "# sample/full indica si el espectrograma es calculado respecto a toda la cancion o respecto a un sample de 10 seg\n",
        "df = pd.DataFrame(columns=['M/F/I', 'artist', 'album', 'song', 'localPath', 'fileTrak', 'fileMel', 'sample/full'])\n"
      ]
    },
    {
      "cell_type": "code",
      "execution_count": 17,
      "metadata": {
        "id": "dc-o0ir9oclm"
      },
      "outputs": [],
      "source": [
        "#Se extraen todos los datos que no requieren hacer cuentas\n",
        "res = []\n",
        "for genero in os.listdir(root + '/data'):\n",
        "  if genero.endswith('.csv'):\n",
        "    continue\n",
        "  for artista in os.listdir(root + '/data/' + genero):\n",
        "    for album in os.listdir(root + '/data/' + genero + '/' + artista):\n",
        "      if genero == 'Instrumental':\n",
        "        songName = os.path.splitext(album)[0]\n",
        "        localPath = '/data/' + genero + '/' + artista\n",
        "        res.append([genero, artista, genero ,songName, localPath, album])\n",
        "      else:\n",
        "        for song in os.listdir(root + '/data/' + genero + '/' + artista + '/' + album):\n",
        "          if song.endswith((\".mp3\", \".wav\", \".flac\")):\n",
        "            songName = os.path.splitext(song)[0]\n",
        "            localPath = '/data/' + genero + '/' + artista + '/' + album\n",
        "            res.append([genero, artista, album, songName, localPath, song])\n",
        "\n",
        "#adding de vector to de df\n",
        "df = pd.DataFrame(res, columns=['M/F/I', 'artist', 'album', 'song', 'localPath', 'fileTrak'])"
      ]
    },
    {
      "cell_type": "code",
      "execution_count": 18,
      "metadata": {
        "colab": {
          "base_uri": "https://localhost:8080/",
          "height": 453
        },
        "id": "-S8DQNeZtzli",
        "outputId": "6574a858-4968-41f5-c760-4f32b595db93"
      },
      "outputs": [],
      "source": [
        "df.to_csv(root + '/data' + '/metaData.csv', index= False)"
      ]
    },
    {
      "cell_type": "code",
      "execution_count": null,
      "metadata": {
        "id": "uyhBef1wvK66"
      },
      "outputs": [],
      "source": [
        "def _preacondicionar_audio(signal, native_sr):\n",
        "  #resample\n",
        "  if( native_sr != TARGET_SR):\n",
        "    resampler = torchaudio.transforms.Resample(native_sr, TARGET_SR)\n",
        "    signal = resampler(signal)\n",
        "  #conversion a mono\n",
        "  if(signal.shape[0] > 1):\n",
        "    signal = torch.mean(signal, dim=0 ) #, keepdim= True)\n",
        "  return signal, TARGET_SR\n",
        "  #padding\n",
        "  if(signal.shape[1] < 5*60*TARGET_SR):\n",
        "    padding = torch.zeros(1, 5*60*TARGET_SR - signal.shape[1])\n",
        "    signal = torch.cat((signal, padding))\n",
        "  elif(signal.shape[1] > 5*60*TARGET_SR):\n",
        "    signal = signal[:, :5*60*TARGET_SR]\n",
        "  return signal, TARGET_SR\n"
      ]
    },
    {
      "cell_type": "code",
      "execution_count": null,
      "metadata": {},
      "outputs": [],
      "source": [
        "MelCalculator = torchaudio.transforms.MelSpectrogram(sample_rate=TARGET_SR,\n",
        "                                                       n_fft = N_FFT,\n",
        "                                                       hop_length = HOP_LENGHT,\n",
        "                                                       n_mels = N_MELS)  \n",
        "  \n",
        "  for i, row in df.iterrows():\n",
        "    fPath = root + row['localPath'] + '/' + row['fileTrak']\n",
        "    signal, sr = torchaudio.load(fPath)\n",
        "    signal, sr = _preacondicionar_audio(signal, sr)\n",
        "    mel = MelCalculator(signal)\n",
        "    fileMel = root + row['localPath'] + '/' + row['song'] + '.pt'\n",
        "    torch.save(mel, fileMel)\n",
        "    #npsave(fileMel, mel)\n",
        "    df.at[i, 'fileMel'] = row['song'] + '.pt'"
      ]
    },
    {
      "cell_type": "code",
      "execution_count": null,
      "metadata": {
        "id": "YG85Nutqmrf1"
      },
      "outputs": [],
      "source": [
        "import os\n",
        "songs = []\n",
        "word = []\n",
        "for folder in os.listdir(PATH):\n",
        "  for filename in os.listdir(PATH + \"/\" + folder):\n",
        "    if filename.endswith((\".mp3\", \".wav\", \".flac\")):\n",
        "        fileDir = PATH + \"/\" + folder + \"/\" + filename\n",
        "    data = [folder.split(\"-\")[0], fileDir]\n",
        "    songs.append(data)\n",
        "for song in songs:\n",
        "  print( f\"Artista {song[0]} Cancion {song[1]}\")"
      ]
    }
  ],
  "metadata": {
    "colab": {
      "provenance": []
    },
    "kernelspec": {
      "display_name": "Python 3",
      "name": "python3"
    },
    "language_info": {
      "codemirror_mode": {
        "name": "ipython",
        "version": 3
      },
      "file_extension": ".py",
      "mimetype": "text/x-python",
      "name": "python",
      "nbconvert_exporter": "python",
      "pygments_lexer": "ipython3",
      "version": "3.11.3"
    }
  },
  "nbformat": 4,
  "nbformat_minor": 0
}
