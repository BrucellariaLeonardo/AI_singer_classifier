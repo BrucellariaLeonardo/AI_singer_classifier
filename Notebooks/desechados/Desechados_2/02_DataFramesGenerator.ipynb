{
 "cells": [
  {
   "cell_type": "markdown",
   "metadata": {},
   "source": [
    "En este notebook spliteto el dataSet en 3 csv, uno para cada conjunto de datos"
   ]
  },
  {
   "cell_type": "code",
   "execution_count": 47,
   "metadata": {},
   "outputs": [],
   "source": [
    "import torch\n",
    "from torch.utils.data import Dataset\n",
    "import pandas as pd\n",
    "import math"
   ]
  },
  {
   "cell_type": "markdown",
   "metadata": {},
   "source": [
    "# Generando un csv para el training y para el validation set"
   ]
  },
  {
   "cell_type": "code",
   "execution_count": 42,
   "metadata": {},
   "outputs": [
    {
     "data": {
      "text/html": [
       "<div>\n",
       "<style scoped>\n",
       "    .dataframe tbody tr th:only-of-type {\n",
       "        vertical-align: middle;\n",
       "    }\n",
       "\n",
       "    .dataframe tbody tr th {\n",
       "        vertical-align: top;\n",
       "    }\n",
       "\n",
       "    .dataframe thead th {\n",
       "        text-align: right;\n",
       "    }\n",
       "</style>\n",
       "<table border=\"1\" class=\"dataframe\">\n",
       "  <thead>\n",
       "    <tr style=\"text-align: right;\">\n",
       "      <th></th>\n",
       "      <th>M/F/I</th>\n",
       "      <th>artist</th>\n",
       "      <th>album</th>\n",
       "      <th>song</th>\n",
       "      <th>localPath</th>\n",
       "      <th>fileTrak</th>\n",
       "      <th>fileMel</th>\n",
       "      <th>sample/full</th>\n",
       "    </tr>\n",
       "  </thead>\n",
       "  <tbody>\n",
       "    <tr>\n",
       "      <th>1</th>\n",
       "      <td>hombre</td>\n",
       "      <td>Imagine Dragons</td>\n",
       "      <td>Evolve</td>\n",
       "      <td>01 Next To Me</td>\n",
       "      <td>/data/hombre/Imagine Dragons/Evolve</td>\n",
       "      <td>01 Next To Me.mp3</td>\n",
       "      <td>01 Next To Me 1.pt</td>\n",
       "      <td>sample</td>\n",
       "    </tr>\n",
       "    <tr>\n",
       "      <th>2</th>\n",
       "      <td>hombre</td>\n",
       "      <td>Imagine Dragons</td>\n",
       "      <td>Evolve</td>\n",
       "      <td>01 Next To Me</td>\n",
       "      <td>/data/hombre/Imagine Dragons/Evolve</td>\n",
       "      <td>01 Next To Me.mp3</td>\n",
       "      <td>01 Next To Me 2.pt</td>\n",
       "      <td>sample</td>\n",
       "    </tr>\n",
       "    <tr>\n",
       "      <th>3</th>\n",
       "      <td>hombre</td>\n",
       "      <td>Imagine Dragons</td>\n",
       "      <td>Evolve</td>\n",
       "      <td>01 Next To Me</td>\n",
       "      <td>/data/hombre/Imagine Dragons/Evolve</td>\n",
       "      <td>01 Next To Me.mp3</td>\n",
       "      <td>01 Next To Me 3.pt</td>\n",
       "      <td>sample</td>\n",
       "    </tr>\n",
       "    <tr>\n",
       "      <th>4</th>\n",
       "      <td>hombre</td>\n",
       "      <td>Imagine Dragons</td>\n",
       "      <td>Evolve</td>\n",
       "      <td>01 Next To Me</td>\n",
       "      <td>/data/hombre/Imagine Dragons/Evolve</td>\n",
       "      <td>01 Next To Me.mp3</td>\n",
       "      <td>01 Next To Me 4.pt</td>\n",
       "      <td>sample</td>\n",
       "    </tr>\n",
       "    <tr>\n",
       "      <th>5</th>\n",
       "      <td>hombre</td>\n",
       "      <td>Imagine Dragons</td>\n",
       "      <td>Evolve</td>\n",
       "      <td>01 Next To Me</td>\n",
       "      <td>/data/hombre/Imagine Dragons/Evolve</td>\n",
       "      <td>01 Next To Me.mp3</td>\n",
       "      <td>01 Next To Me 5.pt</td>\n",
       "      <td>sample</td>\n",
       "    </tr>\n",
       "  </tbody>\n",
       "</table>\n",
       "</div>"
      ],
      "text/plain": [
       "    M/F/I           artist   album           song  \\\n",
       "1  hombre  Imagine Dragons  Evolve  01 Next To Me   \n",
       "2  hombre  Imagine Dragons  Evolve  01 Next To Me   \n",
       "3  hombre  Imagine Dragons  Evolve  01 Next To Me   \n",
       "4  hombre  Imagine Dragons  Evolve  01 Next To Me   \n",
       "5  hombre  Imagine Dragons  Evolve  01 Next To Me   \n",
       "\n",
       "                             localPath           fileTrak             fileMel  \\\n",
       "1  /data/hombre/Imagine Dragons/Evolve  01 Next To Me.mp3  01 Next To Me 1.pt   \n",
       "2  /data/hombre/Imagine Dragons/Evolve  01 Next To Me.mp3  01 Next To Me 2.pt   \n",
       "3  /data/hombre/Imagine Dragons/Evolve  01 Next To Me.mp3  01 Next To Me 3.pt   \n",
       "4  /data/hombre/Imagine Dragons/Evolve  01 Next To Me.mp3  01 Next To Me 4.pt   \n",
       "5  /data/hombre/Imagine Dragons/Evolve  01 Next To Me.mp3  01 Next To Me 5.pt   \n",
       "\n",
       "  sample/full  \n",
       "1      sample  \n",
       "2      sample  \n",
       "3      sample  \n",
       "4      sample  \n",
       "5      sample  "
      ]
     },
     "execution_count": 42,
     "metadata": {},
     "output_type": "execute_result"
    }
   ],
   "source": [
    "df = pd.read_csv('./csv/data.csv')\n",
    "samples = df[df['sample/full'] == 'sample']\n",
    "samples.head()"
   ]
  },
  {
   "cell_type": "code",
   "execution_count": 43,
   "metadata": {},
   "outputs": [
    {
     "name": "stdout",
     "output_type": "stream",
     "text": [
      "Hombres:  6166\n",
      "Mujeres:  14482\n",
      "Instrum:  11196\n"
     ]
    }
   ],
   "source": [
    "hombres = samples[ samples[\"M/F/I\"] == 'hombre']\n",
    "mujeres = samples[ samples[\"M/F/I\"] == 'mujer']\n",
    "instrumentales = samples[ samples[\"M/F/I\"] == 'instrumental']\n",
    "print(\"Hombres: \", len(hombres))\n",
    "print(\"Mujeres: \", len(mujeres))\n",
    "print(\"Instrum: \", len(instrumentales))"
   ]
  },
  {
   "cell_type": "code",
   "execution_count": 44,
   "metadata": {},
   "outputs": [],
   "source": [
    "#mezclo los datasets, incluso antes de separarlos, asi saco de todas las canciones\n",
    "hombres_rand = hombres.sample(frac=1)\n",
    "mujeres_rand = mujeres.sample(frac=1)\n",
    "instrumentales_rand = instrumentales.sample(frac=1)"
   ]
  },
  {
   "cell_type": "code",
   "execution_count": 45,
   "metadata": {},
   "outputs": [],
   "source": [
    "#diesmo los datasets de mujeres e instrumentales para que todas las categorias tengan la misma cantidad\n",
    "# de muestrs\n",
    "mujeres_rand = mujeres_rand[:len(hombres_rand)]\n",
    "instrumentales_rand = instrumentales_rand[:len(hombres_rand)]"
   ]
  },
  {
   "cell_type": "code",
   "execution_count": 56,
   "metadata": {},
   "outputs": [],
   "source": [
    "# separo un 75% de las muestras para el trining y el 25% para los valid y tes sets\n",
    "\n",
    "separacion = math.floor(len(hombres_rand) * 0.75)\n",
    "hombres_train = hombres_rand[:separacion]\n",
    "hombres_val = hombres_rand[separacion:]\n",
    "\n",
    "mujeres_train = mujeres_rand[:separacion]\n",
    "mujeres_val = mujeres_rand[separacion:]\n",
    "\n",
    "instrumentales_train = instrumentales_rand[:separacion]\n",
    "instrumentales_val = instrumentales_rand[separacion:]"
   ]
  },
  {
   "cell_type": "code",
   "execution_count": 57,
   "metadata": {},
   "outputs": [],
   "source": [
    "#continua la selda anterior con la misma logica\n",
    "separacion_test = math.floor(len(hombres_val) * 0.1)\n",
    "\n",
    "hombres_test = hombres_val[:separacion_test]\n",
    "hombres_val = hombres_val[separacion_test:]\n",
    "\n",
    "mujeres_test = mujeres_val[:separacion_test]\n",
    "mujeres_val = mujeres_val[separacion_test:]\n",
    "\n",
    "instrumentales_test = instrumentales_val[:separacion_test]\n",
    "instrumentales_val = instrumentales_val[separacion_test:]"
   ]
  },
  {
   "cell_type": "code",
   "execution_count": 59,
   "metadata": {},
   "outputs": [
    {
     "data": {
      "text/plain": [
       "(4624, 1388, 154)"
      ]
     },
     "execution_count": 59,
     "metadata": {},
     "output_type": "execute_result"
    }
   ],
   "source": [
    "#muestro cuantas muestras tiene cada set\n",
    "len(hombres_train),len(hombres_val),len(hombres_test)"
   ]
  },
  {
   "cell_type": "code",
   "execution_count": 66,
   "metadata": {},
   "outputs": [],
   "source": [
    "#concateno los sets\n",
    "\n",
    "train_set = pd.concat([hombres_train, mujeres_train, instrumentales_train], axis= 0, ignore_index= False).sort_index()\n",
    "train_set.to_csv('./csv/train_set.csv')\n",
    "\n",
    "val_set = pd.concat([hombres_val, mujeres_val, instrumentales_val], axis= 0, ignore_index= False).sort_index()\n",
    "val_set.to_csv('./csv/validation_set.csv')\n",
    "\n",
    "test_set = pd.concat([hombres_test, mujeres_test, instrumentales_test], axis= 0, ignore_index= False).sort_index()\n",
    "test_set.to_csv('./csv/test_set.csv')\n",
    "\n",
    "full_songs = df[df['sample/full'] == 'full']\n",
    "full_songs.to_csv('./csv/full_songs.csv')"
   ]
  }
 ],
 "metadata": {
  "kernelspec": {
   "display_name": "Python 3",
   "language": "python",
   "name": "python3"
  },
  "language_info": {
   "codemirror_mode": {
    "name": "ipython",
    "version": 3
   },
   "file_extension": ".py",
   "mimetype": "text/x-python",
   "name": "python",
   "nbconvert_exporter": "python",
   "pygments_lexer": "ipython3",
   "version": "3.11.3"
  }
 },
 "nbformat": 4,
 "nbformat_minor": 2
}
