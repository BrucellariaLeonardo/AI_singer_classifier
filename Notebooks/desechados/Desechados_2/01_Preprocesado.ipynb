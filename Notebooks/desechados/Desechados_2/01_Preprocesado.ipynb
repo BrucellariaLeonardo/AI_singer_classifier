{
  "cells": [
    {
      "cell_type": "code",
      "execution_count": null,
      "metadata": {
        "colab": {
          "base_uri": "https://localhost:8080/"
        },
        "id": "j4mn5mWYlb5H",
        "outputId": "9237c165-8bcc-4525-de96-6f858569ea46"
      },
      "outputs": [],
      "source": [
        "from google.colab import drive\n",
        "drive.mount('/content/drive')\n",
        "root = '/content/drive/MyDrive/Colab/Project'"
      ]
    },
    {
      "cell_type": "markdown",
      "metadata": {},
      "source": [
        "Este notebook levanta la carpeta data que se encuentra en el mismo directorio que el propio notebook y a partir de ella genera una csv y procesa los archivos de audio encontrados para generar espectrogramas de mell"
      ]
    },
    {
      "cell_type": "code",
      "execution_count": 1,
      "metadata": {
        "id": "3c7oCE5amcCW"
      },
      "outputs": [],
      "source": [
        "import os\n",
        "import torch\n",
        "import torchaudio\n",
        "import pandas as pd\n",
        "import numpy as np\n",
        "from tqdm import tqdm\n",
        "import matplotlib.pyplot as plt"
      ]
    },
    {
      "cell_type": "code",
      "execution_count": 65,
      "metadata": {},
      "outputs": [],
      "source": [
        "%matplotlib qt5"
      ]
    },
    {
      "cell_type": "code",
      "execution_count": 2,
      "metadata": {
        "colab": {
          "base_uri": "https://localhost:8080/"
        },
        "id": "y6axf5oSmgk0",
        "outputId": "10509a86-5950-4769-8c0b-0a3baa138799"
      },
      "outputs": [
        {
          "data": {
            "text/plain": [
              "['audio', 'MetaData.csv']"
            ]
          },
          "execution_count": 2,
          "metadata": {},
          "output_type": "execute_result"
        }
      ],
      "source": [
        "#parametros para los calculos del mell\n",
        "TARGET_SR = 16000  # Normalmente el audio se sule usar a 16k aunque encontre papers que trabajan a 22050 o a 22k (ver V2)\n",
        "N_FFT = 512  #muestras de la fft\n",
        "W_LEN = 400  # Numero de muestras para la ventan de la  fft (seg_de_ventan *sr) \n",
        "H_LEN = 160 # paso de la ventana entre una fft y la siguiente (paso * sr)\n",
        "N_MELS = 26\n",
        "N_MFCC = 13\n",
        "#se suele usar una ventana de haning\n",
        "\n",
        "#creo una bariable root la cual se puede cambiar si se quiere trabajar con otro directorio,\n",
        "# pero a priori se deja en '.' para trabajar desde el directorio local del proyecto\n",
        "root = '../data'\n",
        "os.listdir(root)"
      ]
    },
    {
      "cell_type": "code",
      "execution_count": 3,
      "metadata": {},
      "outputs": [
        {
          "data": {
            "text/html": [
              "<div>\n",
              "<style scoped>\n",
              "    .dataframe tbody tr th:only-of-type {\n",
              "        vertical-align: middle;\n",
              "    }\n",
              "\n",
              "    .dataframe tbody tr th {\n",
              "        vertical-align: top;\n",
              "    }\n",
              "\n",
              "    .dataframe thead th {\n",
              "        text-align: right;\n",
              "    }\n",
              "</style>\n",
              "<table border=\"1\" class=\"dataframe\">\n",
              "  <thead>\n",
              "    <tr style=\"text-align: right;\">\n",
              "      <th></th>\n",
              "      <th>MFI</th>\n",
              "      <th>artist</th>\n",
              "      <th>album</th>\n",
              "      <th>song</th>\n",
              "      <th>localPath</th>\n",
              "      <th>duracion</th>\n",
              "    </tr>\n",
              "    <tr>\n",
              "      <th>fileTrak</th>\n",
              "      <th></th>\n",
              "      <th></th>\n",
              "      <th></th>\n",
              "      <th></th>\n",
              "      <th></th>\n",
              "      <th></th>\n",
              "    </tr>\n",
              "  </thead>\n",
              "  <tbody>\n",
              "    <tr>\n",
              "      <th>/audio/hombre/Imagine Dragons/Evolve/01 Next To Me.mp3</th>\n",
              "      <td>hombre</td>\n",
              "      <td>Imagine Dragons</td>\n",
              "      <td>Evolve</td>\n",
              "      <td>01 Next To Me</td>\n",
              "      <td>/audio/hombre/Imagine Dragons/Evolve</td>\n",
              "      <td>230.288889</td>\n",
              "    </tr>\n",
              "    <tr>\n",
              "      <th>/audio/hombre/Imagine Dragons/Evolve/02 I Don’t Know Why.mp3</th>\n",
              "      <td>hombre</td>\n",
              "      <td>Imagine Dragons</td>\n",
              "      <td>Evolve</td>\n",
              "      <td>02 I Don’t Know Why</td>\n",
              "      <td>/audio/hombre/Imagine Dragons/Evolve</td>\n",
              "      <td>190.120000</td>\n",
              "    </tr>\n",
              "    <tr>\n",
              "      <th>/audio/hombre/Imagine Dragons/Evolve/03 Whatever It Takes.mp3</th>\n",
              "      <td>hombre</td>\n",
              "      <td>Imagine Dragons</td>\n",
              "      <td>Evolve</td>\n",
              "      <td>03 Whatever It Takes</td>\n",
              "      <td>/audio/hombre/Imagine Dragons/Evolve</td>\n",
              "      <td>201.240000</td>\n",
              "    </tr>\n",
              "    <tr>\n",
              "      <th>/audio/hombre/Imagine Dragons/Evolve/04 Believer.mp3</th>\n",
              "      <td>hombre</td>\n",
              "      <td>Imagine Dragons</td>\n",
              "      <td>Evolve</td>\n",
              "      <td>04 Believer</td>\n",
              "      <td>/audio/hombre/Imagine Dragons/Evolve</td>\n",
              "      <td>204.346667</td>\n",
              "    </tr>\n",
              "    <tr>\n",
              "      <th>/audio/hombre/Imagine Dragons/Evolve/05 Walking The Wire.mp3</th>\n",
              "      <td>hombre</td>\n",
              "      <td>Imagine Dragons</td>\n",
              "      <td>Evolve</td>\n",
              "      <td>05 Walking The Wire</td>\n",
              "      <td>/audio/hombre/Imagine Dragons/Evolve</td>\n",
              "      <td>232.906667</td>\n",
              "    </tr>\n",
              "  </tbody>\n",
              "</table>\n",
              "</div>"
            ],
            "text/plain": [
              "                                                       MFI           artist  \\\n",
              "fileTrak                                                                      \n",
              "/audio/hombre/Imagine Dragons/Evolve/01 Next To...  hombre  Imagine Dragons   \n",
              "/audio/hombre/Imagine Dragons/Evolve/02 I Don’t...  hombre  Imagine Dragons   \n",
              "/audio/hombre/Imagine Dragons/Evolve/03 Whateve...  hombre  Imagine Dragons   \n",
              "/audio/hombre/Imagine Dragons/Evolve/04 Believe...  hombre  Imagine Dragons   \n",
              "/audio/hombre/Imagine Dragons/Evolve/05 Walking...  hombre  Imagine Dragons   \n",
              "\n",
              "                                                     album  \\\n",
              "fileTrak                                                     \n",
              "/audio/hombre/Imagine Dragons/Evolve/01 Next To...  Evolve   \n",
              "/audio/hombre/Imagine Dragons/Evolve/02 I Don’t...  Evolve   \n",
              "/audio/hombre/Imagine Dragons/Evolve/03 Whateve...  Evolve   \n",
              "/audio/hombre/Imagine Dragons/Evolve/04 Believe...  Evolve   \n",
              "/audio/hombre/Imagine Dragons/Evolve/05 Walking...  Evolve   \n",
              "\n",
              "                                                                    song  \\\n",
              "fileTrak                                                                   \n",
              "/audio/hombre/Imagine Dragons/Evolve/01 Next To...         01 Next To Me   \n",
              "/audio/hombre/Imagine Dragons/Evolve/02 I Don’t...   02 I Don’t Know Why   \n",
              "/audio/hombre/Imagine Dragons/Evolve/03 Whateve...  03 Whatever It Takes   \n",
              "/audio/hombre/Imagine Dragons/Evolve/04 Believe...           04 Believer   \n",
              "/audio/hombre/Imagine Dragons/Evolve/05 Walking...   05 Walking The Wire   \n",
              "\n",
              "                                                                               localPath  \\\n",
              "fileTrak                                                                                   \n",
              "/audio/hombre/Imagine Dragons/Evolve/01 Next To...  /audio/hombre/Imagine Dragons/Evolve   \n",
              "/audio/hombre/Imagine Dragons/Evolve/02 I Don’t...  /audio/hombre/Imagine Dragons/Evolve   \n",
              "/audio/hombre/Imagine Dragons/Evolve/03 Whateve...  /audio/hombre/Imagine Dragons/Evolve   \n",
              "/audio/hombre/Imagine Dragons/Evolve/04 Believe...  /audio/hombre/Imagine Dragons/Evolve   \n",
              "/audio/hombre/Imagine Dragons/Evolve/05 Walking...  /audio/hombre/Imagine Dragons/Evolve   \n",
              "\n",
              "                                                      duracion  \n",
              "fileTrak                                                        \n",
              "/audio/hombre/Imagine Dragons/Evolve/01 Next To...  230.288889  \n",
              "/audio/hombre/Imagine Dragons/Evolve/02 I Don’t...  190.120000  \n",
              "/audio/hombre/Imagine Dragons/Evolve/03 Whateve...  201.240000  \n",
              "/audio/hombre/Imagine Dragons/Evolve/04 Believe...  204.346667  \n",
              "/audio/hombre/Imagine Dragons/Evolve/05 Walking...  232.906667  "
            ]
          },
          "execution_count": 3,
          "metadata": {},
          "output_type": "execute_result"
        }
      ],
      "source": [
        "original = pd.read_csv(root+'/metaData.csv', index_col = \"fileTrak\")\n",
        "original.head()"
      ]
    },
    {
      "cell_type": "code",
      "execution_count": 69,
      "metadata": {},
      "outputs": [],
      "source": [
        "#Eleccion del subset a usar\n",
        "\n",
        "df = pd.concat([\n",
        "    original[original.MFI == 'mujer'] \n",
        "])\n",
        "#Elimino las canciones que duran menos de 10 segundos\n",
        "drops = df[df.duracion <= 10]\n",
        "if len(drops) != 0:\n",
        "    df = df.drop(drops.index)"
      ]
    },
    {
      "cell_type": "code",
      "execution_count": 73,
      "metadata": {},
      "outputs": [
        {
          "data": {
            "text/plain": [
              "['Ariana Grande', 'Katy Perry', 'Taylor Swift']"
            ]
          },
          "execution_count": 73,
          "metadata": {},
          "output_type": "execute_result"
        }
      ],
      "source": [
        "classes = list(np.unique(df.artist))\n",
        "classes"
      ]
    },
    {
      "cell_type": "code",
      "execution_count": 74,
      "metadata": {},
      "outputs": [
        {
          "data": {
            "text/plain": [
              "artist\n",
              "Ariana Grande    40151.390385\n",
              "Katy Perry       55384.137809\n",
              "Taylor Swift     46163.049569\n",
              "Name: duracion, dtype: float64"
            ]
          },
          "execution_count": 74,
          "metadata": {},
          "output_type": "execute_result"
        }
      ],
      "source": [
        "clas_dist = df.groupby(['artist'])['duracion'].sum()\n",
        "clas_dist"
      ]
    },
    {
      "cell_type": "code",
      "execution_count": 75,
      "metadata": {},
      "outputs": [
        {
          "data": {
            "image/png": "[encoded data removed]",
            "text/plain": [
              "<Figure size 640x480 with 1 Axes>"
            ]
          },
          "metadata": {},
          "output_type": "display_data"
        }
      ],
      "source": [
        "fig, ax = plt.subplots()\n",
        "ax.pie(clas_dist, labels = clas_dist.index, autopct='%1.1f%%', shadow = False, startangle=90)\n",
        "ax.axis('equal')\n",
        "plt.show()\n"
      ]
    },
    {
      "cell_type": "code",
      "execution_count": 72,
      "metadata": {},
      "outputs": [
        {
          "name": "stderr",
          "output_type": "stream",
          "text": [
            "100%|██████████| 3/3 [00:10<00:00,  3.61s/it]\n"
          ]
        }
      ],
      "source": [
        "mel = []\n",
        "mfcc = []\n",
        "for c in tqdm(classes):\n",
        "    file = df[df.artist == c].index[0]\n",
        "    song, rate = torchaudio.load(root+file)\n",
        "    song =  _stereo_to_mono(song)\n",
        "    mel.append(MelCalculator(song))\n",
        "    mfcc.append(MFCCCalculator(song))\n",
        "    "
      ]
    },
    {
      "cell_type": "code",
      "execution_count": 76,
      "metadata": {},
      "outputs": [
        {
          "ename": "NameError",
          "evalue": "name 'plot_spectrogram' is not defined",
          "output_type": "error",
          "traceback": [
            "\u001b[1;31m---------------------------------------------------------------------------\u001b[0m",
            "\u001b[1;31mNameError\u001b[0m                                 Traceback (most recent call last)",
            "Cell \u001b[1;32mIn[76], line 2\u001b[0m\n\u001b[0;32m      1\u001b[0m i \u001b[38;5;241m=\u001b[39m \u001b[38;5;241m2\u001b[39m\n\u001b[1;32m----> 2\u001b[0m \u001b[43mplot_spectrogram\u001b[49m(mel[i], title \u001b[38;5;241m=\u001b[39m clas_dist\u001b[38;5;241m.\u001b[39mkeys()[i])\n\u001b[0;32m      3\u001b[0m plot_spectrogram(mfcc[i], title \u001b[38;5;241m=\u001b[39m clas_dist\u001b[38;5;241m.\u001b[39mkeys()[i])\n",
            "\u001b[1;31mNameError\u001b[0m: name 'plot_spectrogram' is not defined"
          ]
        }
      ],
      "source": [
        "i = 2\n",
        "plot_spectrogram(mel[i], title = clas_dist.keys()[i])\n",
        "plot_spectrogram(mfcc[i], title = clas_dist.keys()[i])\n"
      ]
    },
    {
      "cell_type": "code",
      "execution_count": 37,
      "metadata": {},
      "outputs": [],
      "source": [
        "def plot_spectrogram(specgram, title=None, ylabel=\"freq_bin\", ax=None):\n",
        "    if ax is None:\n",
        "        _, ax = plt.subplots(1, 1)\n",
        "    if title is not None:\n",
        "        ax.set_title(title)\n",
        "    ax.set_ylabel(ylabel)\n",
        "    ax.imshow(librosa.power_to_db(specgram), origin=\"lower\", aspect=\"auto\", interpolation=\"nearest\")"
      ]
    },
    {
      "cell_type": "code",
      "execution_count": 77,
      "metadata": {
        "id": "kdjtx0IO0-oA"
      },
      "outputs": [],
      "source": [
        "def _stereo_to_mono(signal , keepdim = False):\n",
        "  \"\"\"\n",
        "  Colapsa todos los canales de la señal en no solo.\n",
        "  \"\"\"\n",
        "  if(signal.shape[0] > 1):\n",
        "    signal = torch.mean(signal, dim=0, keepdim= keepdim ) #, keepdim= True\n",
        "  return signal\n",
        "\n",
        "def _spliter(tensor, sr, time, truncar = True):\n",
        "  \"\"\"\n",
        "  Recibe un tensor y un tiempo en segundos.\n",
        "  Retorna el tensro original segmentado en muestras del tiempo recibido.\n",
        "  En caso de que el recorte no sea exacto, se le agrega zero padding al final.\n",
        "  \"\"\"\n",
        "  num_samples = int(sr * time)\n",
        "  resto = len(tensor)%num_samples\n",
        "  if truncar == True:\n",
        "    splited = torch.split(tensor[:len(tensor) - resto], num_samples)\n",
        "  else:\n",
        "    padding = torch.zeros(num_samples - resto)\n",
        "    splited = torch.split(torch.cat((tensor, padding)), num_samples)\n",
        "  return splited\n",
        "\n",
        "def _time_fixer(signal, sr, time):\n",
        "  \"\"\"\n",
        "  Recibe una señal y un tiempo en segundos.\n",
        "  En caso de que la señal dure menos de tiempo indicado se le agrega zero padding\n",
        "  al final.\n",
        "  En caso de que la señal dure mas de tiempo indicado se le recortan las ultimas muestras\n",
        "  \"\"\"\n",
        "  if(signal.shape[0] < time*sr):\n",
        "    padding = torch.zeros( time*sr - signal.shape[0])\n",
        "    fixed_signal = torch.cat((signal, padding))\n",
        "  elif(signal.shape[0] > time*sr):\n",
        "    fixed_signal = signal[:time*sr]\n",
        "  else:\n",
        "    fixed_signal = signal\n",
        "  return fixed_signal\n",
        "\n",
        "\n",
        "def _preacondicionar_audio(signal, native_sr, target_sr, dur_sample = 10, dur_fix = 5*60):\n",
        "  \"\"\"\n",
        "  Se genera un resample de la señal de audio, luego cambia el canal de audio a mono.\n",
        "  Despues se generan muestras de la señal de audio de 10 segundos y finalmente se fixea la señal de audio a un tiempo de 5 minutos.\n",
        "  \"\"\"\n",
        "  if( native_sr != target_sr):  #resample\n",
        "    resampler = torchaudio.transforms.Resample(native_sr, target_sr)\n",
        "    signal = resampler(signal)\n",
        "  signal = _stereo_to_mono(signal)\n",
        "  muestras = _spliter(signal, target_sr, dur_sample)\n",
        "  fixed_signal = signal #fixed_signal = _time_fixer(signal, target_sr, dur_fix)\n",
        "  return fixed_signal, muestras, target_sr\n",
        "\n",
        "#signal, sr = torchaudio.load(fPath)\n",
        "#signal, sr = _preacondicionar_audio(signal, sr, target_sr)\n",
        "MelCalculator = torchaudio.transforms.MelSpectrogram(sample_rate=TARGET_SR,\n",
        "                                                       n_fft = N_FFT,\n",
        "                                                       hop_length = H_LEN,\n",
        "                                                       win_length= W_LEN,\n",
        "                                                       n_mels = N_MELS)\n",
        "\n",
        "MFCCCalculator = torchaudio.transforms.MFCC(sample_rate = TARGET_SR,\n",
        "                                            n_mfcc = int(N_MFCC),\n",
        "                                            dct_type = 2,\n",
        "                                            norm = 'ortho',\n",
        "                                            log_mels = False,\n",
        "                                            melkwargs = {\"n_fft\": N_FFT, \"hop_length\": H_LEN, \"n_mels\": N_MELS, \"center\": False},)\n"
      ]
    },
    {
      "cell_type": "code",
      "execution_count": 8,
      "metadata": {
        "id": "bubjimBSnIZ8"
      },
      "outputs": [],
      "source": [
        "# M/F/I     indica si el artista es Male, Female, Instrumental\n",
        "# artist    indica el nombre del artista o banda\n",
        "# album\n",
        "# song      indica el nombre de la cncion\n",
        "# localPath indica la ruta de la carpeta donde esta contenida la cancion\n",
        "# fileTrak  indica el nombre del archivo que contiene la pista de audio\n",
        "# fileMel  indica el nombre del espectrograma de mel\n",
        "# sample/full indica si el espectrograma es calculado respecto a toda la cancion o respecto a un sample de 10 seg\n",
        "ndf = pd.DataFrame(columns=['MFI', 'artist', 'album', 'song', 'localPath', 'fileTrak', 'Mel26', 'MCC13', 'sample_full'])\n",
        "ndf.set_index('fileTrak', inplace=True)\n"
      ]
    },
    {
      "cell_type": "code",
      "execution_count": 78,
      "metadata": {},
      "outputs": [],
      "source": [
        "def save_transform(signal, transform, fName, foldName, FORCE = False, Full = False):\n",
        "    if( not os.path.isdir(foldName)):\n",
        "        os.mkdir(foldName)\n",
        "    if((not os.path.isfile(fName)) or FORCE): #Calculo el mel si la cancion no esta previamente cargada o si se indico FORCE ## ERROR\n",
        "        toSave = transform(signal)\n",
        "        torch.save(toSave, fName)"
      ]
    },
    {
      "cell_type": "code",
      "execution_count": 79,
      "metadata": {},
      "outputs": [
        {
          "name": "stderr",
          "output_type": "stream",
          "text": [
            "100%|██████████| 642/642 [19:38<00:00,  1.84s/it]\n"
          ]
        }
      ],
      "source": [
        "melFolder = root + '/' + 'M26'\n",
        "mfccFolder = root + '/' + 'MFCC13'\n",
        "FORCE = False\n",
        "data = []\n",
        "errors = []\n",
        "for f in tqdm(df.index):\n",
        "\n",
        "    trakPath = root+ '/' + f\n",
        "    try:\n",
        "        #print('Loading:', trakPath)\n",
        "        signal, sr = torchaudio.load(trakPath)\n",
        "    except:\n",
        "        errors.append(trakPath)\n",
        "        #print('Error:', trakPath)\n",
        "        continue\n",
        "    \n",
        "    signal, muestras, sr = _preacondicionar_audio(signal, sr, TARGET_SR)\n",
        "    melIndex = 0\n",
        "\n",
        "    fileMel = df.loc[f]['song'] + ' ' + str(melIndex) +'.pt' #\n",
        "    melSave =  melFolder + '/' + fileMel #\n",
        "    save_transform(signal, MelCalculator, melSave, melFolder, FORCE = FORCE, Full = True)\n",
        "\n",
        "    fileMfcc = df.loc[f]['song'] + ' ' + str(melIndex) +'.pt' #\n",
        "    mfccSave =  mfccFolder + '/' + fileMfcc #\n",
        "    save_transform(signal, MFCCCalculator, mfccSave, mfccFolder, FORCE = FORCE, Full = True)\n",
        "\n",
        "    data.append([df.loc[f]['MFI'],df.loc[f]['artist'] , df.loc[f]['album'], df.loc[f]['song'], df.loc[f]['duracion'], df.loc[f]['localPath'], f, melFolder, melSave, mfccFolder, mfccSave, 'full'])\n",
        "\n",
        "    for sample in muestras: #podria tener que saltearme la muestra 0 porque suele no tener la voz del cantante\n",
        "        melIndex += 1\n",
        "        fileMel = df.loc[f]['song'] + ' ' + str(melIndex) +'.pt' #\n",
        "        melSave =  melFolder + '/' + fileMel #\n",
        "        save_transform(sample, MelCalculator, melSave, melFolder, FORCE = FORCE, Full = False)\n",
        "        \n",
        "        fileMfcc = df.loc[f]['song'] + ' ' + str(melIndex) +'.pt' #\n",
        "        mfccSave =  mfccFolder + '/' + fileMfcc #\n",
        "        save_transform(sample, MFCCCalculator, mfccSave, mfccFolder, FORCE = FORCE, Full = False)\n",
        "        data.append([df.loc[f]['MFI'],df.loc[f]['artist'] , df.loc[f]['album'], df.loc[f]['song'], df.loc[f]['duracion'], df.loc[f]['localPath'], f, melFolder, melSave, mfccFolder, mfccSave, 'sample'])\n",
        "\n"
      ]
    },
    {
      "cell_type": "code",
      "execution_count": 80,
      "metadata": {
        "colab": {
          "base_uri": "https://localhost:8080/"
        },
        "id": "aoUsWGVnLTeL",
        "outputId": "2afca2bf-57a9-4238-d344-adbb9d162378"
      },
      "outputs": [
        {
          "data": {
            "text/html": [
              "<div>\n",
              "<style scoped>\n",
              "    .dataframe tbody tr th:only-of-type {\n",
              "        vertical-align: middle;\n",
              "    }\n",
              "\n",
              "    .dataframe tbody tr th {\n",
              "        vertical-align: top;\n",
              "    }\n",
              "\n",
              "    .dataframe thead th {\n",
              "        text-align: right;\n",
              "    }\n",
              "</style>\n",
              "<table border=\"1\" class=\"dataframe\">\n",
              "  <thead>\n",
              "    <tr style=\"text-align: right;\">\n",
              "      <th></th>\n",
              "      <th>MFI</th>\n",
              "      <th>artist</th>\n",
              "      <th>album</th>\n",
              "      <th>song</th>\n",
              "      <th>duracion</th>\n",
              "      <th>localPath</th>\n",
              "      <th>fileTrak</th>\n",
              "      <th>melFolder</th>\n",
              "      <th>fileMel</th>\n",
              "      <th>mfccFolder</th>\n",
              "      <th>fileMfcc</th>\n",
              "      <th>sample_full</th>\n",
              "    </tr>\n",
              "  </thead>\n",
              "  <tbody>\n",
              "    <tr>\n",
              "      <th>0</th>\n",
              "      <td>mujer</td>\n",
              "      <td>Ariana Grande</td>\n",
              "      <td>Brand New You (From 13)</td>\n",
              "      <td>01. Brand New You (feat. Brynn Williams &amp; Cait...</td>\n",
              "      <td>188.093333</td>\n",
              "      <td>/audio/mujer/Ariana Grande/Brand New You (From...</td>\n",
              "      <td>/audio/mujer/Ariana Grande/Brand New You (From...</td>\n",
              "      <td>../data/M26</td>\n",
              "      <td>../data/M26/01. Brand New You (feat. Brynn Wil...</td>\n",
              "      <td>../data/MFCC13</td>\n",
              "      <td>../data/MFCC13/01. Brand New You (feat. Brynn ...</td>\n",
              "      <td>full</td>\n",
              "    </tr>\n",
              "    <tr>\n",
              "      <th>1</th>\n",
              "      <td>mujer</td>\n",
              "      <td>Ariana Grande</td>\n",
              "      <td>Brand New You (From 13)</td>\n",
              "      <td>01. Brand New You (feat. Brynn Williams &amp; Cait...</td>\n",
              "      <td>188.093333</td>\n",
              "      <td>/audio/mujer/Ariana Grande/Brand New You (From...</td>\n",
              "      <td>/audio/mujer/Ariana Grande/Brand New You (From...</td>\n",
              "      <td>../data/M26</td>\n",
              "      <td>../data/M26/01. Brand New You (feat. Brynn Wil...</td>\n",
              "      <td>../data/MFCC13</td>\n",
              "      <td>../data/MFCC13/01. Brand New You (feat. Brynn ...</td>\n",
              "      <td>sample</td>\n",
              "    </tr>\n",
              "    <tr>\n",
              "      <th>2</th>\n",
              "      <td>mujer</td>\n",
              "      <td>Ariana Grande</td>\n",
              "      <td>Brand New You (From 13)</td>\n",
              "      <td>01. Brand New You (feat. Brynn Williams &amp; Cait...</td>\n",
              "      <td>188.093333</td>\n",
              "      <td>/audio/mujer/Ariana Grande/Brand New You (From...</td>\n",
              "      <td>/audio/mujer/Ariana Grande/Brand New You (From...</td>\n",
              "      <td>../data/M26</td>\n",
              "      <td>../data/M26/01. Brand New You (feat. Brynn Wil...</td>\n",
              "      <td>../data/MFCC13</td>\n",
              "      <td>../data/MFCC13/01. Brand New You (feat. Brynn ...</td>\n",
              "      <td>sample</td>\n",
              "    </tr>\n",
              "    <tr>\n",
              "      <th>3</th>\n",
              "      <td>mujer</td>\n",
              "      <td>Ariana Grande</td>\n",
              "      <td>Brand New You (From 13)</td>\n",
              "      <td>01. Brand New You (feat. Brynn Williams &amp; Cait...</td>\n",
              "      <td>188.093333</td>\n",
              "      <td>/audio/mujer/Ariana Grande/Brand New You (From...</td>\n",
              "      <td>/audio/mujer/Ariana Grande/Brand New You (From...</td>\n",
              "      <td>../data/M26</td>\n",
              "      <td>../data/M26/01. Brand New You (feat. Brynn Wil...</td>\n",
              "      <td>../data/MFCC13</td>\n",
              "      <td>../data/MFCC13/01. Brand New You (feat. Brynn ...</td>\n",
              "      <td>sample</td>\n",
              "    </tr>\n",
              "    <tr>\n",
              "      <th>4</th>\n",
              "      <td>mujer</td>\n",
              "      <td>Ariana Grande</td>\n",
              "      <td>Brand New You (From 13)</td>\n",
              "      <td>01. Brand New You (feat. Brynn Williams &amp; Cait...</td>\n",
              "      <td>188.093333</td>\n",
              "      <td>/audio/mujer/Ariana Grande/Brand New You (From...</td>\n",
              "      <td>/audio/mujer/Ariana Grande/Brand New You (From...</td>\n",
              "      <td>../data/M26</td>\n",
              "      <td>../data/M26/01. Brand New You (feat. Brynn Wil...</td>\n",
              "      <td>../data/MFCC13</td>\n",
              "      <td>../data/MFCC13/01. Brand New You (feat. Brynn ...</td>\n",
              "      <td>sample</td>\n",
              "    </tr>\n",
              "  </tbody>\n",
              "</table>\n",
              "</div>"
            ],
            "text/plain": [
              "     MFI         artist                    album  \\\n",
              "0  mujer  Ariana Grande  Brand New You (From 13)   \n",
              "1  mujer  Ariana Grande  Brand New You (From 13)   \n",
              "2  mujer  Ariana Grande  Brand New You (From 13)   \n",
              "3  mujer  Ariana Grande  Brand New You (From 13)   \n",
              "4  mujer  Ariana Grande  Brand New You (From 13)   \n",
              "\n",
              "                                                song    duracion  \\\n",
              "0  01. Brand New You (feat. Brynn Williams & Cait...  188.093333   \n",
              "1  01. Brand New You (feat. Brynn Williams & Cait...  188.093333   \n",
              "2  01. Brand New You (feat. Brynn Williams & Cait...  188.093333   \n",
              "3  01. Brand New You (feat. Brynn Williams & Cait...  188.093333   \n",
              "4  01. Brand New You (feat. Brynn Williams & Cait...  188.093333   \n",
              "\n",
              "                                           localPath  \\\n",
              "0  /audio/mujer/Ariana Grande/Brand New You (From...   \n",
              "1  /audio/mujer/Ariana Grande/Brand New You (From...   \n",
              "2  /audio/mujer/Ariana Grande/Brand New You (From...   \n",
              "3  /audio/mujer/Ariana Grande/Brand New You (From...   \n",
              "4  /audio/mujer/Ariana Grande/Brand New You (From...   \n",
              "\n",
              "                                            fileTrak    melFolder  \\\n",
              "0  /audio/mujer/Ariana Grande/Brand New You (From...  ../data/M26   \n",
              "1  /audio/mujer/Ariana Grande/Brand New You (From...  ../data/M26   \n",
              "2  /audio/mujer/Ariana Grande/Brand New You (From...  ../data/M26   \n",
              "3  /audio/mujer/Ariana Grande/Brand New You (From...  ../data/M26   \n",
              "4  /audio/mujer/Ariana Grande/Brand New You (From...  ../data/M26   \n",
              "\n",
              "                                             fileMel      mfccFolder  \\\n",
              "0  ../data/M26/01. Brand New You (feat. Brynn Wil...  ../data/MFCC13   \n",
              "1  ../data/M26/01. Brand New You (feat. Brynn Wil...  ../data/MFCC13   \n",
              "2  ../data/M26/01. Brand New You (feat. Brynn Wil...  ../data/MFCC13   \n",
              "3  ../data/M26/01. Brand New You (feat. Brynn Wil...  ../data/MFCC13   \n",
              "4  ../data/M26/01. Brand New You (feat. Brynn Wil...  ../data/MFCC13   \n",
              "\n",
              "                                            fileMfcc sample_full  \n",
              "0  ../data/MFCC13/01. Brand New You (feat. Brynn ...        full  \n",
              "1  ../data/MFCC13/01. Brand New You (feat. Brynn ...      sample  \n",
              "2  ../data/MFCC13/01. Brand New You (feat. Brynn ...      sample  \n",
              "3  ../data/MFCC13/01. Brand New You (feat. Brynn ...      sample  \n",
              "4  ../data/MFCC13/01. Brand New You (feat. Brynn ...      sample  "
            ]
          },
          "execution_count": 80,
          "metadata": {},
          "output_type": "execute_result"
        }
      ],
      "source": [
        "ndf = pd.DataFrame(data, columns=['MFI', 'artist', 'album', 'song', 'duracion', 'localPath', 'fileTrak', 'melFolder', 'fileMel', 'mfccFolder', 'fileMfcc', 'sample_full'])\n",
        "error_df = pd.DataFrame(errors, columns=['error_path'])\n",
        "ndf.head()"
      ]
    },
    {
      "cell_type": "code",
      "execution_count": 81,
      "metadata": {},
      "outputs": [],
      "source": [
        "for error in errors:\n",
        "    print(error)"
      ]
    },
    {
      "cell_type": "code",
      "execution_count": 82,
      "metadata": {
        "id": "Nf9BzFEveoDY"
      },
      "outputs": [],
      "source": [
        "ndf.to_csv(f\"{root}/woman.csv\", index=False)\n",
        "error_df.to_csv(f'{root}/errors.csv', index=False)"
      ]
    },
    {
      "cell_type": "markdown",
      "metadata": {
        "id": "l19KLEhoBvIV"
      },
      "source": [
        "# Reconstructor"
      ]
    },
    {
      "cell_type": "code",
      "execution_count": 141,
      "metadata": {
        "id": "YOkTsWPpB1wa"
      },
      "outputs": [],
      "source": [
        "import numpy as np\n",
        "import matplotlib.pyplot as plt\n",
        "import librosa"
      ]
    },
    {
      "cell_type": "code",
      "execution_count": null,
      "metadata": {
        "colab": {
          "base_uri": "https://localhost:8080/"
        },
        "id": "MVRrEVHqVwf5",
        "outputId": "bb1475fd-7b22-44a3-93f6-1e1dc7c0c877"
      },
      "outputs": [],
      "source": [
        "os.listdir(root + '/data')"
      ]
    },
    {
      "cell_type": "code",
      "execution_count": null,
      "metadata": {
        "colab": {
          "base_uri": "https://localhost:8080/"
        },
        "id": "JpJGKSJeByN7",
        "outputId": "83d6da29-5abf-4414-f4ba-08cc937d8a27"
      },
      "outputs": [],
      "source": [
        "i_sample = 5\n",
        "mel_recuperado = torch.load(root + df.at[i_sample, 'localPath'] + '/' + df.at[i_sample, 'fileMel'])\n",
        "print(mel_recuperado.shape)"
      ]
    },
    {
      "cell_type": "code",
      "execution_count": null,
      "metadata": {
        "colab": {
          "base_uri": "https://localhost:8080/",
          "height": 409
        },
        "id": "Z_wXsgBKE7Ag",
        "outputId": "d0851534-97e8-43cb-b7c7-588e13dda349"
      },
      "outputs": [],
      "source": [
        "plt.figure(figsize= (14, 5))\n",
        "librosa.display.specshow(librosa.power_to_db(mel_recuperado), sr=target_sr, hop_length=512, x_axis='time', y_axis='mel')"
      ]
    },
    {
      "cell_type": "code",
      "execution_count": null,
      "metadata": {
        "id": "hVaFxVH5E_Fx"
      },
      "outputs": [],
      "source": []
    }
  ],
  "metadata": {
    "colab": {
      "provenance": []
    },
    "kernelspec": {
      "display_name": "torch",
      "language": "python",
      "name": "python3"
    },
    "language_info": {
      "codemirror_mode": {
        "name": "ipython",
        "version": 3
      },
      "file_extension": ".py",
      "mimetype": "text/x-python",
      "name": "python",
      "nbconvert_exporter": "python",
      "pygments_lexer": "ipython3",
      "version": "3.12.7"
    }
  },
  "nbformat": 4,
  "nbformat_minor": 0
}
