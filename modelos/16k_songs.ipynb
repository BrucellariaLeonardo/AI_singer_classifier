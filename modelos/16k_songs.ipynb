{
 "cells": [
  {
   "cell_type": "code",
   "execution_count": null,
   "metadata": {},
   "outputs": [],
   "source": []
  },
  {
   "cell_type": "code",
   "execution_count": 1,
   "metadata": {},
   "outputs": [],
   "source": [
    "import os\n",
    "import pandas as pd\n",
    "from torch import nn\n",
    "from torch.utils.data import DataLoader\n",
    "import torch\n",
    "import torchaudio\n",
    "from tqdm import tqdm\n",
    "import matplotlib.pyplot as plt\n",
    "from torchsummary import summary\n",
    "import sounddevice as sd\n",
    "\n"
   ]
  },
  {
   "cell_type": "code",
   "execution_count": 4,
   "metadata": {},
   "outputs": [],
   "source": [
    "#Correr solo si se va a plotear spectrogramas\n",
    "\n",
    "import librosa\n",
    "\n",
    "def plot_spectrogram(specgram, title=None, ylabel=\"freq_bin\", ax=None):\n",
    "    if ax is None:\n",
    "        _, ax = plt.subplots(1, 1)\n",
    "    if title is not None:\n",
    "        ax.set_title(title)\n",
    "    ax.set_ylabel(ylabel)\n",
    "    ax.imshow(librosa.power_to_db(specgram), origin=\"lower\", aspect=\"auto\", interpolation=\"nearest\")"
   ]
  },
  {
   "cell_type": "code",
   "execution_count": 5,
   "metadata": {},
   "outputs": [],
   "source": [
    "if torch.cuda.is_available():\n",
    "    device = torch.device(\"cuda\")\n",
    "else:\n",
    "    device = torch.device(\"cpu\")"
   ]
  },
  {
   "cell_type": "code",
   "execution_count": 6,
   "metadata": {},
   "outputs": [],
   "source": [
    "#librerias locales\n",
    "#from ..libs import dataLoaders as mi_dataLoader\n",
    "#from ..libs import clasificador_padre as mi_clasificador\n",
    "from importlib.machinery import SourceFileLoader\n",
    "mi_dataLoader = SourceFileLoader('dataLoadersV2', '../libs/dataLoaders_16k.py').load_module()\n",
    "mi_clasificador = SourceFileLoader('clasificador_padre', '../libs/clasificador_padreV2.py').load_module()"
   ]
  },
  {
   "cell_type": "code",
   "execution_count": 7,
   "metadata": {},
   "outputs": [],
   "source": [
    "DataSetCanciones = mi_dataLoader.data_loader_16k\n",
    "DataSetRir = mi_dataLoader.data_loader_rir"
   ]
  },
  {
   "cell_type": "markdown",
   "metadata": {},
   "source": [
    "# Cargando los path"
   ]
  },
  {
   "cell_type": "code",
   "execution_count": 8,
   "metadata": {},
   "outputs": [],
   "source": [
    "dataSetName = '16k_songs'\n",
    "root = '.'"
   ]
  },
  {
   "cell_type": "code",
   "execution_count": 9,
   "metadata": {},
   "outputs": [],
   "source": [
    "\n",
    "while not os.path.isdir(os.path.join(root,\"data\")):\n",
    "    root = os.path.join(root,\"..\")\n",
    "\n",
    "Path_train = os.path.join(root,'data',dataSetName+'_train.csv')\n",
    "Path_val = os.path.join(root,'data',dataSetName+'_val.csv')\n",
    "Path_test = os.path.join(root,'data',dataSetName+'_test.csv')\n",
    "\n",
    "Path_rir = os.path.join(root,\"data\",\"RIR_16K\")\n",
    "Path_noise = os.path.join(root,\"data\",\"NOISE_16K\")"
   ]
  },
  {
   "cell_type": "markdown",
   "metadata": {},
   "source": [
    "#cargando los Df"
   ]
  },
  {
   "cell_type": "code",
   "execution_count": 10,
   "metadata": {},
   "outputs": [],
   "source": [
    "#cargo el data set\n",
    "trainDf = pd.read_csv(Path_train)\n",
    "testDf = pd.read_csv(Path_test)\n",
    "valDf = pd.read_csv(Path_val)\n"
   ]
  },
  {
   "cell_type": "markdown",
   "metadata": {},
   "source": [
    "\n",
    "#trainDataSet = DataLoaderCanciones(trainDf, file_col=\"16k_file\", target_col=\"artist\", seed = 98)\n",
    "#una muestra del data set\n",
    "#sample, target = testDataSet[0:9]\n",
    "#print(sample[0].shape, target)"
   ]
  },
  {
   "cell_type": "markdown",
   "metadata": {},
   "source": [
    "sd.play(sample[0], 16000)\n",
    "sd.wait(3)\n",
    "sd.stop()"
   ]
  },
  {
   "cell_type": "markdown",
   "metadata": {},
   "source": [
    "# Convolucionando canciones con RIR"
   ]
  },
  {
   "cell_type": "markdown",
   "metadata": {},
   "source": [
    "#a = torch.stack(sample).to(device)\n",
    "#b =torch.stack(rirData[:a.shape[0]]).to(device)"
   ]
  },
  {
   "cell_type": "markdown",
   "metadata": {},
   "source": [
    "def normalizer(signal, threshold = 1e-12):\n",
    "  \"\"\"\n",
    "  Recibe una senial en formato tensor y un valor de tresh_hold. \n",
    "  Normaliza la senial a no ser que el valor de pico de la  senial sea menor al valor de threshold\n",
    "  \"\"\"\n",
    "  max_abs_val = signal.abs().max(dim=1, keepdim=True)[0]\n",
    "  condition_mask = (max_abs_val > threshold) & (max_abs_val != 1.0)\n",
    "  divisors = torch.where(condition_mask, max_abs_val, torch.ones_like(max_abs_val))\n",
    "  normalized_batch = signal / divisors\n",
    "  return normalized_batch\n",
    "\n",
    "#res = torchaudio.functional.convolve(a,b,\"full\")[:,:10*TARGET_SR]\n",
    "#res = normalizer(res).unsqueeze(1)\n",
    "#res.shape\n",
    "#torch.conv1d(torch.stack(sample).unsqueeze(0),torch.stack(rirData[0:9]).unsqueeze(0),padding=\"same\")"
   ]
  },
  {
   "cell_type": "markdown",
   "metadata": {},
   "source": [
    "sd.play(res[0,0,0:16000*10].cpu(), 16000)\n",
    "sd.wait(3)\n",
    "sd.stop()"
   ]
  },
  {
   "cell_type": "markdown",
   "metadata": {},
   "source": [
    "# Procesando las canciones en un MFCC"
   ]
  },
  {
   "cell_type": "code",
   "execution_count": 11,
   "metadata": {},
   "outputs": [],
   "source": [
    "#parametros para los calculos del mell\n",
    "TARGET_SR = 16000  # Normalmente el audio se sule usar a 16k aunque encontre papers que trabajan a 22050 o a 22k (ver V2)\n",
    "N_FFT = 512  #muestras de la fft\n",
    "W_LEN = 400  # Numero de muestras para la ventan de la  fft (seg_de_ventan *sr) \n",
    "H_LEN = 160 # paso de la ventana entre una fft y la siguiente (paso * sr)\n",
    "N_MELS = 40#26\n",
    "N_MFCC = 32#13\n",
    "\n",
    "MFCCCalculator = torchaudio.transforms.MFCC(sample_rate = TARGET_SR,\n",
    "                                            n_mfcc = int(N_MFCC),\n",
    "                                            dct_type = 2,\n",
    "                                            norm = 'ortho',\n",
    "                                            log_mels = False,\n",
    "                                            melkwargs = {\"n_fft\": N_FFT, \"hop_length\": H_LEN, \"n_mels\": N_MELS, \"center\": False},\n",
    "                                            ).to(device)"
   ]
  },
  {
   "cell_type": "markdown",
   "metadata": {},
   "source": [
    "# Generando el DataSet"
   ]
  },
  {
   "cell_type": "code",
   "execution_count": 12,
   "metadata": {},
   "outputs": [],
   "source": [
    "DataSetConst = mi_dataLoader.DataSet_song_plus_rir_v4\n",
    "trainDataSet = DataSetConst(trainDf, \"16k_file\", \"artist\", Path_rir, os.listdir(Path_rir), rir_prob = 0.5, seed = 98)"
   ]
  },
  {
   "cell_type": "code",
   "execution_count": 13,
   "metadata": {},
   "outputs": [
    {
     "data": {
      "text/plain": [
       "8712"
      ]
     },
     "execution_count": 13,
     "metadata": {},
     "output_type": "execute_result"
    }
   ],
   "source": [
    "len(trainDataSet)"
   ]
  },
  {
   "cell_type": "code",
   "execution_count": 14,
   "metadata": {},
   "outputs": [],
   "source": [
    "mi_dataLoader = SourceFileLoader('dataLoadersV2', '../libs/dataLoaders_16k.py').load_module()\n",
    "mi_clasificador = SourceFileLoader('clasificador_padre', '../libs/clasificador_padreV2.py').load_module()\n",
    "DataSetConst = mi_dataLoader.DataSet_song_plus_rir_v4\n",
    "trainDataSet = DataSetConst(trainDf, \"16k_file\", \"artist\", Path_rir, os.listdir(Path_rir), rir_prob = 0.5, seed = 98)\n"
   ]
  },
  {
   "cell_type": "markdown",
   "metadata": {},
   "source": [
    "# Generando el DataLoader"
   ]
  },
  {
   "cell_type": "code",
   "execution_count": 15,
   "metadata": {},
   "outputs": [],
   "source": [
    "train_dataloader = DataLoader(trainDataSet, batch_size=2, shuffle=True,num_workers= 16, pin_memory=True)\n",
    "#muestra_data, muestra_target = next(iter(test_dataloader))\n",
    "#muestra_target"
   ]
  },
  {
   "cell_type": "code",
   "execution_count": null,
   "metadata": {},
   "outputs": [],
   "source": [
    "###Muestras de especrogramas\n",
    "import multiprocessing  \n",
    "import random\n",
    "from multiprocessing import Pool\n",
    "\n",
    "if __name__ == '__main__':\n",
    "    train_features = next(iter(train_dataloader))\n",
    "#print(f\"Feature batch shape: {train_features.size()}\")\n",
    "#print(f\"Labels batch shape: {train_labels.size()}\")\n",
    "#plot_spectrogram(train_features[0], train_labels[0])\n",
    "#img = train_features[0].squeeze()\n",
    "#label = train_labels[0]\n",
    "#plt.imshow(img, cmap=\"gray\")\n",
    "#plt.show()\n",
    "#print(f\"Label: {label}\")"
   ]
  },
  {
   "cell_type": "code",
   "execution_count": 48,
   "metadata": {},
   "outputs": [
    {
     "data": {
      "text/plain": [
       "[tensor([[ 0.3433,  0.3345,  0.2799,  ...,  0.0304,  0.2436, -0.1227],\n",
       "         [ 0.2995,  0.3028,  0.3457,  ...,  0.4174,  0.4074,  0.5173],\n",
       "         [-0.1052, -0.0877, -0.0834,  ...,  0.1168,  0.1176,  0.1191],\n",
       "         ...,\n",
       "         [-0.4376, -0.5025, -0.4923,  ..., -0.2704, -0.2596, -0.1519],\n",
       "         [ 0.1013,  0.1667,  0.1714,  ..., -0.0651,  0.0104,  0.0191],\n",
       "         [ 0.0705,  0.1400,  0.1454,  ...,  0.0511,  0.0540,  0.1028]]),\n",
       " tensor([[0., 1., 0.],\n",
       "         [1., 0., 0.],\n",
       "         [1., 0., 0.],\n",
       "         [1., 0., 0.],\n",
       "         [0., 0., 1.],\n",
       "         [0., 1., 0.],\n",
       "         [1., 0., 0.],\n",
       "         [1., 0., 0.],\n",
       "         [0., 1., 0.],\n",
       "         [1., 0., 0.],\n",
       "         [0., 0., 1.],\n",
       "         [1., 0., 0.],\n",
       "         [1., 0., 0.],\n",
       "         [0., 1., 0.],\n",
       "         [0., 1., 0.],\n",
       "         [0., 1., 0.],\n",
       "         [0., 0., 1.],\n",
       "         [0., 1., 0.],\n",
       "         [0., 1., 0.],\n",
       "         [1., 0., 0.],\n",
       "         [0., 0., 1.],\n",
       "         [0., 1., 0.],\n",
       "         [0., 1., 0.],\n",
       "         [0., 0., 1.],\n",
       "         [1., 0., 0.],\n",
       "         [0., 1., 0.],\n",
       "         [0., 1., 0.],\n",
       "         [0., 1., 0.],\n",
       "         [1., 0., 0.],\n",
       "         [0., 1., 0.],\n",
       "         [0., 0., 1.],\n",
       "         [0., 0., 1.],\n",
       "         [1., 0., 0.],\n",
       "         [0., 0., 1.],\n",
       "         [1., 0., 0.],\n",
       "         [0., 1., 0.],\n",
       "         [1., 0., 0.],\n",
       "         [0., 0., 1.],\n",
       "         [0., 1., 0.],\n",
       "         [0., 1., 0.],\n",
       "         [0., 0., 1.],\n",
       "         [0., 1., 0.],\n",
       "         [0., 0., 1.],\n",
       "         [0., 1., 0.],\n",
       "         [0., 1., 0.],\n",
       "         [1., 0., 0.],\n",
       "         [1., 0., 0.],\n",
       "         [0., 1., 0.],\n",
       "         [0., 1., 0.],\n",
       "         [0., 1., 0.],\n",
       "         [0., 0., 1.],\n",
       "         [0., 0., 1.],\n",
       "         [1., 0., 0.],\n",
       "         [1., 0., 0.],\n",
       "         [0., 0., 1.],\n",
       "         [0., 1., 0.],\n",
       "         [1., 0., 0.],\n",
       "         [0., 1., 0.],\n",
       "         [1., 0., 0.],\n",
       "         [0., 0., 1.],\n",
       "         [0., 1., 0.],\n",
       "         [1., 0., 0.],\n",
       "         [0., 1., 0.],\n",
       "         [0., 1., 0.],\n",
       "         [0., 0., 1.],\n",
       "         [0., 1., 0.],\n",
       "         [0., 1., 0.],\n",
       "         [0., 0., 1.],\n",
       "         [1., 0., 0.],\n",
       "         [0., 1., 0.],\n",
       "         [1., 0., 0.],\n",
       "         [0., 1., 0.],\n",
       "         [0., 0., 1.],\n",
       "         [0., 1., 0.],\n",
       "         [0., 0., 1.],\n",
       "         [0., 0., 1.],\n",
       "         [0., 0., 1.],\n",
       "         [1., 0., 0.],\n",
       "         [0., 1., 0.],\n",
       "         [0., 1., 0.],\n",
       "         [0., 0., 1.],\n",
       "         [1., 0., 0.],\n",
       "         [1., 0., 0.],\n",
       "         [0., 0., 1.],\n",
       "         [0., 1., 0.],\n",
       "         [1., 0., 0.],\n",
       "         [1., 0., 0.],\n",
       "         [0., 1., 0.],\n",
       "         [0., 0., 1.],\n",
       "         [0., 1., 0.],\n",
       "         [1., 0., 0.],\n",
       "         [0., 1., 0.],\n",
       "         [1., 0., 0.],\n",
       "         [0., 1., 0.],\n",
       "         [0., 1., 0.],\n",
       "         [1., 0., 0.],\n",
       "         [0., 0., 1.],\n",
       "         [0., 1., 0.],\n",
       "         [0., 0., 1.],\n",
       "         [1., 0., 0.],\n",
       "         [1., 0., 0.],\n",
       "         [0., 0., 1.],\n",
       "         [0., 1., 0.],\n",
       "         [1., 0., 0.],\n",
       "         [0., 0., 1.],\n",
       "         [0., 0., 1.],\n",
       "         [0., 0., 1.],\n",
       "         [0., 0., 1.],\n",
       "         [1., 0., 0.],\n",
       "         [0., 0., 1.],\n",
       "         [0., 0., 1.],\n",
       "         [1., 0., 0.],\n",
       "         [1., 0., 0.],\n",
       "         [0., 1., 0.],\n",
       "         [0., 1., 0.],\n",
       "         [1., 0., 0.],\n",
       "         [0., 1., 0.],\n",
       "         [0., 1., 0.],\n",
       "         [0., 0., 1.],\n",
       "         [1., 0., 0.],\n",
       "         [1., 0., 0.],\n",
       "         [1., 0., 0.],\n",
       "         [0., 0., 1.],\n",
       "         [1., 0., 0.],\n",
       "         [1., 0., 0.],\n",
       "         [0., 0., 1.],\n",
       "         [1., 0., 0.],\n",
       "         [0., 1., 0.]]),\n",
       " tensor([[ 1.0000,  0.0000,  0.0000,  ...,  0.0000,  0.0000,  0.0000],\n",
       "         [ 0.0020,  0.0026,  0.0023,  ...,  0.0000,  0.0000,  0.0000],\n",
       "         [-0.0054,  0.0053, -0.0053,  ...,  0.0000,  0.0000,  0.0000],\n",
       "         ...,\n",
       "         [ 1.0000,  0.0000,  0.0000,  ...,  0.0000,  0.0000,  0.0000],\n",
       "         [ 1.0000,  0.0000,  0.0000,  ...,  0.0000,  0.0000,  0.0000],\n",
       "         [ 1.0000,  0.0000,  0.0000,  ...,  0.0000,  0.0000,  0.0000]])]"
      ]
     },
     "execution_count": 48,
     "metadata": {},
     "output_type": "execute_result"
    }
   ],
   "source": [
    "train_features"
   ]
  },
  {
   "cell_type": "markdown",
   "metadata": {},
   "source": [
    "# instanciando un modelo"
   ]
  },
  {
   "cell_type": "code",
   "execution_count": 1,
   "metadata": {},
   "outputs": [
    {
     "ename": "NameError",
     "evalue": "name 'os' is not defined",
     "output_type": "error",
     "traceback": [
      "\u001b[31m---------------------------------------------------------------------------\u001b[39m",
      "\u001b[31mNameError\u001b[39m                                 Traceback (most recent call last)",
      "\u001b[36mCell\u001b[39m\u001b[36m \u001b[39m\u001b[32mIn[1]\u001b[39m\u001b[32m, line 1\u001b[39m\n\u001b[32m----> \u001b[39m\u001b[32m1\u001b[39m \u001b[43mos\u001b[49m.listdir(\u001b[33m'\u001b[39m\u001b[33m./save/state\u001b[39m\u001b[33m'\u001b[39m)\n\u001b[32m      2\u001b[39m pState = \u001b[33m\"\u001b[39m\u001b[33m./save/state/\u001b[39m\u001b[33m\"\u001b[39m\n\u001b[32m      3\u001b[39m pHist = \u001b[33m\"\u001b[39m\u001b[33m./save/history/\u001b[39m\u001b[33m\"\u001b[39m\n",
      "\u001b[31mNameError\u001b[39m: name 'os' is not defined"
     ]
    }
   ],
   "source": [
    "os.listdir('./save/state')\n",
    "pState = \"./save/state/\"\n",
    "pHist = \"./save/history/\"\n",
    "overWrite = False\n",
    "show_metrics = False\n",
    "sLoad = 0 #save state a cargar\n",
    "lr = 0.0001\n",
    "constructor = mi_clasificador.onlyWoman_MFCC_16k_v6\n",
    "\n",
    "weight_decay= 0.007"
   ]
  },
  {
   "cell_type": "code",
   "execution_count": 13,
   "metadata": {},
   "outputs": [
    {
     "data": {
      "text/plain": [
       "onlyWoman_MFCC_16k_v6(\n",
       "  (transformer): MFCC(\n",
       "    (amplitude_to_DB): AmplitudeToDB()\n",
       "    (MelSpectrogram): MelSpectrogram(\n",
       "      (spectrogram): Spectrogram()\n",
       "      (mel_scale): MelScale()\n",
       "    )\n",
       "  )\n",
       "  (inPut): Sequential(\n",
       "    (0): Conv2d(1, 32, kernel_size=(3, 3), stride=(1, 1), padding=(1, 1))\n",
       "    (1): ReLU(inplace=True)\n",
       "    (2): MaxPool2d(kernel_size=2, stride=2, padding=0, dilation=1, ceil_mode=False)\n",
       "  )\n",
       "  (chanelUp): Sequential(\n",
       "    (0): Conv2d(32, 64, kernel_size=(3, 3), stride=(1, 1), padding=(1, 1))\n",
       "    (1): ReLU(inplace=True)\n",
       "    (2): MaxPool2d(kernel_size=2, stride=2, padding=0, dilation=1, ceil_mode=False)\n",
       "    (3): Conv2d(64, 128, kernel_size=(3, 3), stride=(1, 1), padding=(1, 1))\n",
       "    (4): ReLU(inplace=True)\n",
       "    (5): MaxPool2d(kernel_size=2, stride=2, padding=0, dilation=1, ceil_mode=False)\n",
       "    (6): Conv2d(128, 256, kernel_size=(3, 3), stride=(1, 1), padding=(1, 1))\n",
       "    (7): ReLU(inplace=True)\n",
       "    (8): MaxPool2d(kernel_size=2, stride=2, padding=0, dilation=1, ceil_mode=False)\n",
       "  )\n",
       "  (justTime): Sequential(\n",
       "    (0): Conv2d(256, 256, kernel_size=(3, 3), stride=(1, 1), padding=(1, 1))\n",
       "    (1): ReLU(inplace=True)\n",
       "    (2): MaxPool2d(kernel_size=2, stride=2, padding=0, dilation=1, ceil_mode=False)\n",
       "  )\n",
       "  (out): Sequential(\n",
       "    (0): Linear(in_features=7936, out_features=4096, bias=True)\n",
       "    (1): ReLU(inplace=True)\n",
       "    (2): Linear(in_features=4096, out_features=128, bias=True)\n",
       "    (3): ReLU(inplace=True)\n",
       "    (4): Linear(in_features=128, out_features=3, bias=True)\n",
       "    (5): Softmax(dim=1)\n",
       "  )\n",
       ")"
      ]
     },
     "execution_count": 13,
     "metadata": {},
     "output_type": "execute_result"
    }
   ],
   "source": [
    "clasificador = constructor(list(trainDataSet.dictionary.keys()), MFCCCalculator)\n",
    "clasificador.to(device)"
   ]
  },
  {
   "cell_type": "markdown",
   "metadata": {},
   "source": [
    "res.shape"
   ]
  },
  {
   "cell_type": "markdown",
   "metadata": {},
   "source": [
    "#mfcc = MFCCCalculator(res[0]).to(device)\n",
    "pepe = clasificador(res)"
   ]
  },
  {
   "cell_type": "code",
   "execution_count": null,
   "metadata": {},
   "outputs": [
    {
     "name": "stdout",
     "output_type": "stream",
     "text": [
      "<bound method Module.modules of onlyWoman_MFCC_16k_v6(\n",
      "  (transformer): MFCC(\n",
      "    (amplitude_to_DB): AmplitudeToDB()\n",
      "    (MelSpectrogram): MelSpectrogram(\n",
      "      (spectrogram): Spectrogram()\n",
      "      (mel_scale): MelScale()\n",
      "    )\n",
      "  )\n",
      "  (inPut): Sequential(\n",
      "    (0): Conv2d(1, 32, kernel_size=(3, 3), stride=(1, 1), padding=(1, 1))\n",
      "    (1): ReLU(inplace=True)\n",
      "    (2): MaxPool2d(kernel_size=2, stride=2, padding=0, dilation=1, ceil_mode=False)\n",
      "  )\n",
      "  (chanelUp): Sequential(\n",
      "    (0): Conv2d(32, 64, kernel_size=(3, 3), stride=(1, 1), padding=(1, 1))\n",
      "    (1): ReLU(inplace=True)\n",
      "    (2): MaxPool2d(kernel_size=2, stride=2, padding=0, dilation=1, ceil_mode=False)\n",
      "    (3): Conv2d(64, 128, kernel_size=(3, 3), stride=(1, 1), padding=(1, 1))\n",
      "    (4): ReLU(inplace=True)\n",
      "    (5): MaxPool2d(kernel_size=2, stride=2, padding=0, dilation=1, ceil_mode=False)\n",
      "    (6): Conv2d(128, 256, kernel_size=(3, 3), stride=(1, 1), padding=(1, 1))\n",
      "    (7): ReLU(inplace=True)\n",
      "    (8): MaxPool2d(kernel_size=2, stride=2, padding=0, dilation=1, ceil_mode=False)\n",
      "  )\n",
      "  (justTime): Sequential(\n",
      "    (0): Conv2d(256, 256, kernel_size=(3, 3), stride=(1, 1), padding=(1, 1))\n",
      "    (1): ReLU(inplace=True)\n",
      "    (2): MaxPool2d(kernel_size=2, stride=2, padding=0, dilation=1, ceil_mode=False)\n",
      "  )\n",
      "  (out): Sequential(\n",
      "    (0): Linear(in_features=7936, out_features=4096, bias=True)\n",
      "    (1): ReLU(inplace=True)\n",
      "    (2): Linear(in_features=4096, out_features=128, bias=True)\n",
      "    (3): ReLU(inplace=True)\n",
      "    (4): Linear(in_features=128, out_features=3, bias=True)\n",
      "    (5): Softmax(dim=1)\n",
      "  )\n",
      ")>\n"
     ]
    }
   ],
   "source": [
    "def test_accur (prediccion, target_batch):\n",
    "    return(torch.argmax(target_batch, axis=1) == torch.argmax(prediccion, axis=1)).sum().item() / len(target_batch)\n",
    "\n",
    "\n",
    "if((len(os.listdir(pState)) == 0) or overWrite):\n",
    "    history = {}\n",
    "    history['loss'] = torch.empty(0)\n",
    "    history['acur'] = torch.empty(0)\n",
    "\n",
    "else:\n",
    "    history =  torch.load(pHist+os.listdir(pHist)[sLoad])\n",
    "\n",
    "    save_state = torch.load(pState+os.listdir(pState)[sLoad])\n",
    "    clasificador.load_state_dict(save_state)\n",
    "\n",
    "test_optimizer = torch.optim.Adam(clasificador.parameters(), lr=lr, weight_decay= weight_decay)\n",
    "test_criterion = torch.nn.CrossEntropyLoss()\n",
    "print(clasificador.modules)\n",
    "\n",
    "\n"
   ]
  },
  {
   "cell_type": "code",
   "execution_count": 27,
   "metadata": {},
   "outputs": [
    {
     "data": {
      "text/plain": [
       "ReLU(inplace=True)"
      ]
     },
     "execution_count": 27,
     "metadata": {},
     "output_type": "execute_result"
    }
   ],
   "source": [
    "clasificador.inPut[1]"
   ]
  },
  {
   "cell_type": "markdown",
   "metadata": {},
   "source": [
    "# Entrenando el modelo"
   ]
  },
  {
   "cell_type": "code",
   "execution_count": null,
   "metadata": {},
   "outputs": [
    {
     "name": "stderr",
     "output_type": "stream",
     "text": [
      "  0%|          | 0/2 [00:00<?, ?it/s]"
     ]
    }
   ],
   "source": [
    "%matplotlib qt5\n",
    "\n",
    "if show_metrics:\n",
    "    plt.ion()\n",
    "    fig, axes = plt.subplots(nrows=2, ncols=1, figsize = (6,6))\n",
    "    l1, = axes[0].plot([], [])\n",
    "    l2, = axes[1].plot([], [])\n",
    "    axes[0].set_xlabel('Epoch')\n",
    "    axes[0].set_ylabel('Acur')\n",
    "\n",
    "    axes[1].set_xlabel('Epoch')\n",
    "    axes[1].set_ylabel('Loss')\n",
    "\n",
    "for j in tqdm(range(2)):\n",
    "    for i in tqdm(range(2)):\n",
    "        loss_log, acur_log = clasificador.train_loop(1,train_dataloader, test_optimizer , test_criterion, test_accur, device)\n",
    "        history['loss'] = torch.cat((history['loss'], loss_log), dim=0)\n",
    "        history['acur'] = torch.cat((history['acur'], acur_log), dim=0)\n",
    "        \n",
    "        if show_metrics:\n",
    "            # Grafica\n",
    "            l1.set_data(range(len(history['acur'])), history['acur'])\n",
    "            axes[0].relim()  # Recalculate data limits\n",
    "            axes[0].autoscale_view()  # Rescale axes\n",
    "\n",
    "            l2.set_data(range(len(history['loss'])), history['loss'])\n",
    "            axes[1].relim()  # Recalculate data limits\n",
    "            axes[1].autoscale_view()  # Rescale axes\n",
    "            \n",
    "            fig.canvas.draw()  # Redraw the figure\n",
    "            fig.canvas.flush_events()  # Ensure events are processed\n",
    "            plt.pause(0.5)\n",
    "\n",
    "    save_state = clasificador.state_dict()\n",
    "    n = len(os.listdir(pState))\n",
    "    torch.save(save_state, f\"{pState}/ss_{n}.pt\")\n",
    "    torch.save(history, f\"{pHist}/hist_{n}.pt\")\n",
    "\n",
    "if show_metrics:\n",
    "    plt.ioff()\n",
    "    plt.show()"
   ]
  },
  {
   "cell_type": "markdown",
   "metadata": {},
   "source": [
    "# Validando"
   ]
  },
  {
   "cell_type": "code",
   "execution_count": 24,
   "metadata": {},
   "outputs": [
    {
     "name": "stderr",
     "output_type": "stream",
     "text": [
      "100%|██████████| 2613/2613 [00:07<00:00, 331.18it/s]\n"
     ]
    },
    {
     "name": "stdout",
     "output_type": "stream",
     "text": [
      "Cargando archivos RIR:\n"
     ]
    },
    {
     "name": "stderr",
     "output_type": "stream",
     "text": [
      "100%|██████████| 325/325 [00:00<00:00, 706.01it/s]\n"
     ]
    }
   ],
   "source": [
    "valDataSet = DataSetConst(valDf, \"16k_file\", \"artist\", Path_rir, os.listdir(Path_rir), rir_prob = 0, seed = 98)"
   ]
  },
  {
   "cell_type": "code",
   "execution_count": 25,
   "metadata": {},
   "outputs": [
    {
     "name": "stderr",
     "output_type": "stream",
     "text": [
      "  0%|          | 0/27 [00:00<?, ?it/s]"
     ]
    },
    {
     "name": "stderr",
     "output_type": "stream",
     "text": [
      "C:\\Users\\leona\\AppData\\Local\\Temp\\ipykernel_14276\\1863531830.py:15: UserWarning: To copy construct from a tensor, it is recommended to use sourceTensor.clone().detach() or sourceTensor.clone().detach().requires_grad_(True), rather than torch.tensor(sourceTensor).\n",
      "  targets.append(torch.tensor(muestra_target))\n",
      "100%|██████████| 27/27 [00:02<00:00, 12.96it/s]\n",
      "100%|██████████| 27/27 [01:37<00:00,  3.61s/it]"
     ]
    },
    {
     "name": "stdout",
     "output_type": "stream",
     "text": [
      "(0.6904457719237717, 0.8608547008547011)\n"
     ]
    },
    {
     "name": "stderr",
     "output_type": "stream",
     "text": [
      "\n"
     ]
    }
   ],
   "source": [
    "def acuracy_fn (prediccion, target_batch):\n",
    "    return(torch.argmax(target_batch, axis=1) == torch.argmax(prediccion, axis=1)).sum().item() / len(target_batch)\n",
    "\n",
    "\n",
    "#Carga de las muestras y el DataLoader\n",
    "#valDf = pd.read_csv(Path_val)\n",
    "#valDataSet = mi_dataLoader.clasification_dataset(valDf, file_col=\"fileMfcc\", target_col=\"artist\", seed = 98)\n",
    "val_dataloader = DataLoader(valDataSet, batch_size=100, shuffle=False)\n",
    "\n",
    "#Separando las muestras y los targets\n",
    "muestras = []\n",
    "targets = []\n",
    "for muestra_data, muestra_target, muestra_rir in tqdm(val_dataloader):\n",
    "    muestras.append(muestra_data)\n",
    "    targets.append(torch.tensor(muestra_target))\n",
    "\n",
    "loss_fn = torch.nn.CrossEntropyLoss()\n",
    "resultado_evalucion = clasificador.evaluate(val_dataloader, loss_fn, acuracy_fn, device)\n",
    "print(resultado_evalucion)\n"
   ]
  },
  {
   "cell_type": "markdown",
   "metadata": {},
   "source": [
    "A continuacion se levantan los distintos save state generados para generar una comparacion entre las distintas performance en el validation set"
   ]
  },
  {
   "cell_type": "code",
   "execution_count": 26,
   "metadata": {},
   "outputs": [
    {
     "name": "stderr",
     "output_type": "stream",
     "text": [
      "100%|██████████| 27/27 [01:36<00:00,  3.59s/it]\n",
      "100%|██████████| 27/27 [01:37<00:00,  3.61s/it]\n",
      "100%|██████████| 27/27 [01:37<00:00,  3.63s/it]\n",
      "100%|██████████| 27/27 [01:41<00:00,  3.77s/it]\n",
      "100%|██████████| 27/27 [01:33<00:00,  3.45s/it]\n",
      "100%|██████████| 27/27 [01:34<00:00,  3.51s/it]\n",
      "100%|██████████| 27/27 [01:33<00:00,  3.47s/it]\n",
      "100%|██████████| 27/27 [01:34<00:00,  3.51s/it]\n",
      "100%|██████████| 27/27 [01:34<00:00,  3.49s/it]\n",
      "100%|██████████| 27/27 [01:32<00:00,  3.42s/it]\n"
     ]
    },
    {
     "data": {
      "text/plain": [
       "[(0.9417261459209301, 0.5927065527065527),\n",
       " (0.7927345501052009, 0.761082621082621),\n",
       " (0.7561724340474164, 0.8023361823361823),\n",
       " (0.7501598993937174, 0.8019373219373221),\n",
       " (0.8395425346162584, 0.7107122507122506),\n",
       " (0.7648259268866645, 0.7905982905982905),\n",
       " (0.8374022598619815, 0.7035327635327637),\n",
       " (0.7038821578025818, 0.8482621082621081),\n",
       " (0.703118171956804, 0.8449287749287749),\n",
       " (0.6904457719237717, 0.8608547008547011)]"
      ]
     },
     "execution_count": 26,
     "metadata": {},
     "output_type": "execute_result"
    }
   ],
   "source": [
    "val_histo = []\n",
    "max_acur = 0\n",
    "mejor = None\n",
    "for ss_name in os.listdir(f\"{pState}/\"):\n",
    "    ss_load = torch.load(f\"{pState}{ss_name}\")\n",
    "    clasificador.load_state_dict(ss_load)\n",
    "    resultado_evalucion = clasificador.evaluate(val_dataloader, loss_fn, acuracy_fn, device)\n",
    "    val_histo.append(resultado_evalucion)\n",
    "    if resultado_evalucion[1] > max_acur:\n",
    "        max_acur = resultado_evalucion[1]\n",
    "        mejor = ss_load\n",
    "val_histo"
   ]
  },
  {
   "cell_type": "markdown",
   "metadata": {},
   "source": [
    "# Test set"
   ]
  },
  {
   "cell_type": "code",
   "execution_count": 52,
   "metadata": {},
   "outputs": [
    {
     "ename": "AttributeError",
     "evalue": "module 'dataLoadersV2' has no attribute 'clasification_dataset'",
     "output_type": "error",
     "traceback": [
      "\u001b[31m---------------------------------------------------------------------------\u001b[39m",
      "\u001b[31mAttributeError\u001b[39m                            Traceback (most recent call last)",
      "\u001b[36mCell\u001b[39m\u001b[36m \u001b[39m\u001b[32mIn[52]\u001b[39m\u001b[32m, line 3\u001b[39m\n\u001b[32m      1\u001b[39m \u001b[38;5;66;03m#Carga de las muestras y el DataLoader\u001b[39;00m\n\u001b[32m      2\u001b[39m testDf = pd.read_csv(Path_test)\n\u001b[32m----> \u001b[39m\u001b[32m3\u001b[39m testDataSet = \u001b[43mmi_dataLoader\u001b[49m\u001b[43m.\u001b[49m\u001b[43mclasification_dataset\u001b[49m(testDf, file_col=\u001b[33m\"\u001b[39m\u001b[33mfileMfcc\u001b[39m\u001b[33m\"\u001b[39m, target_col=\u001b[33m\"\u001b[39m\u001b[33martist\u001b[39m\u001b[33m\"\u001b[39m, seed = \u001b[32m98\u001b[39m)\n\u001b[32m      4\u001b[39m test_dataloader = DataLoader(testDataSet, batch_size=\u001b[32m100\u001b[39m, shuffle=\u001b[38;5;28;01mFalse\u001b[39;00m)\n\u001b[32m      6\u001b[39m clasificador.load_state_dict(mejor)\n",
      "\u001b[31mAttributeError\u001b[39m: module 'dataLoadersV2' has no attribute 'clasification_dataset'"
     ]
    }
   ],
   "source": [
    "#Carga de las muestras y el DataLoader\n",
    "testDf = pd.read_csv(Path_test)\n",
    "testDataSet = mi_dataLoader.clasification_dataset(testDf, file_col=\"fileMfcc\", target_col=\"artist\", seed = 98)\n",
    "test_dataloader = DataLoader(testDataSet, batch_size=100, shuffle=False)\n",
    "\n",
    "clasificador.load_state_dict(mejor)\n",
    "clasificador.evaluate(test_dataloader, loss_fn, acuracy_fn, device)"
   ]
  },
  {
   "cell_type": "markdown",
   "metadata": {},
   "source": [
    "## Codigo usado mientras se generaba la arquitectura (osea, codigo desechable)"
   ]
  },
  {
   "cell_type": "code",
   "execution_count": null,
   "metadata": {},
   "outputs": [],
   "source": [
    "mi_clasificador = SourceFileLoader('clasificador_padre', '../libs/clasificador_padre.py').load_module()"
   ]
  },
  {
   "cell_type": "code",
   "execution_count": 24,
   "metadata": {},
   "outputs": [
    {
     "data": {
      "text/plain": [
       "torch.Size([100, 13, 997])"
      ]
     },
     "execution_count": 24,
     "metadata": {},
     "output_type": "execute_result"
    }
   ],
   "source": [
    "muestra_data, muestra_target = next(iter(test_dataloader))\n",
    "#muestra = torch.stack(muestra, 0)\n",
    "muestra_data.shape"
   ]
  },
  {
   "cell_type": "code",
   "execution_count": 59,
   "metadata": {},
   "outputs": [],
   "source": [
    "mi_clasificador = SourceFileLoader('clasificador_padre', '../libs/clasificador_padre.py').load_module()\n",
    "clasificador = mi_clasificador.onlyWoman_MFCC_01(list(testDataSet.dictionary.keys()))"
   ]
  },
  {
   "cell_type": "code",
   "execution_count": 60,
   "metadata": {},
   "outputs": [
    {
     "name": "stdout",
     "output_type": "stream",
     "text": [
      "In: torch.Size([100, 13, 997])\n",
      "squeeze: torch.Size([100, 1, 13, 997])\n",
      "Shape post 1D:  torch.Size([100, 4, 15, 999])\n",
      "post flatten: torch.Size([100, 136136])\n",
      "Alive\n"
     ]
    },
    {
     "data": {
      "text/plain": [
       "torch.Size([100, 3])"
      ]
     },
     "execution_count": 60,
     "metadata": {},
     "output_type": "execute_result"
    }
   ],
   "source": [
    "res =clasificador(muestra_data)\n",
    "res.shape"
   ]
  },
  {
   "cell_type": "code",
   "execution_count": null,
   "metadata": {},
   "outputs": [
    {
     "ename": "NameError",
     "evalue": "name 'self' is not defined",
     "output_type": "error",
     "traceback": [
      "\u001b[1;31m---------------------------------------------------------------------------\u001b[0m",
      "\u001b[1;31mNameError\u001b[0m                                 Traceback (most recent call last)",
      "Cell \u001b[1;32mIn[45], line 2\u001b[0m\n\u001b[0;32m      1\u001b[0m out \u001b[38;5;241m=\u001b[39m nn\u001b[38;5;241m.\u001b[39mSequential(   \u001b[38;5;66;03m# bloque que acondiciona la salida\u001b[39;00m\n\u001b[1;32m----> 2\u001b[0m     nn\u001b[38;5;241m.\u001b[39mLinear(\u001b[38;5;241m*\u001b[39m\u001b[38;5;28;43mself\u001b[39;49m\u001b[38;5;241m.\u001b[39marchitecture[\u001b[38;5;241m-\u001b[39m\u001b[38;5;241m1\u001b[39m]), \u001b[38;5;66;03m#Lineal que sale a las clases objetivo\u001b[39;00m\n\u001b[0;32m      3\u001b[0m     nn\u001b[38;5;241m.\u001b[39mSoftmax( dim \u001b[38;5;241m=\u001b[39m \u001b[38;5;241m1\u001b[39m))\n",
      "\u001b[1;31mNameError\u001b[0m: name 'self' is not defined"
     ]
    }
   ],
   "source": [
    "out = nn.Sequential(   # bloque que acondiciona la salida\n",
    "    #nn.Linear(*self.architecture[-1]), #Lineal que sale a las clases objetivo\n",
    "    nn.Softmax( dim = 1))"
   ]
  },
  {
   "cell_type": "code",
   "execution_count": 61,
   "metadata": {},
   "outputs": [
    {
     "data": {
      "text/plain": [
       "tensor(1.1800, grad_fn=<DivBackward1>)"
      ]
     },
     "execution_count": 61,
     "metadata": {},
     "output_type": "execute_result"
    }
   ],
   "source": [
    "test_criterion(res,muestra_target)"
   ]
  },
  {
   "cell_type": "code",
   "execution_count": 62,
   "metadata": {},
   "outputs": [
    {
     "data": {
      "text/plain": [
       "0.3"
      ]
     },
     "execution_count": 62,
     "metadata": {},
     "output_type": "execute_result"
    }
   ],
   "source": [
    "test_accur (res, muestra_target)"
   ]
  },
  {
   "cell_type": "code",
   "execution_count": 64,
   "metadata": {},
   "outputs": [
    {
     "ename": "TypeError",
     "evalue": "_Clasificador_padre.__init__() missing 1 required positional argument: 'classes'",
     "output_type": "error",
     "traceback": [
      "\u001b[1;31m---------------------------------------------------------------------------\u001b[0m",
      "\u001b[1;31mTypeError\u001b[0m                                 Traceback (most recent call last)",
      "Cell \u001b[1;32mIn[64], line 2\u001b[0m\n\u001b[0;32m      1\u001b[0m \u001b[38;5;66;03m#importlib.reload(mi_clasificador)\u001b[39;00m\n\u001b[1;32m----> 2\u001b[0m clasificador \u001b[38;5;241m=\u001b[39m \u001b[43mmi_clasificador\u001b[49m\u001b[38;5;241;43m.\u001b[39;49m\u001b[43mClasificador_01\u001b[49m\u001b[43m(\u001b[49m\u001b[43mtestDataSet\u001b[49m\u001b[38;5;241;43m.\u001b[39;49m\u001b[43mdictionary\u001b[49m\u001b[38;5;241;43m.\u001b[39;49m\u001b[43mkeys\u001b[49m\u001b[43m(\u001b[49m\u001b[43m)\u001b[49m\u001b[43m)\u001b[49m\n\u001b[0;32m      3\u001b[0m res \u001b[38;5;241m=\u001b[39mclasificador(muestra_data)\n\u001b[0;32m      4\u001b[0m test_accur (res, muestra_target)\n",
      "File \u001b[1;32mc:\\Users\\Alenca\\Desktop\\ia\\Project\\libs\\clasificador_padre.py:144\u001b[0m, in \u001b[0;36mClasificador_01.__init__\u001b[1;34m(self, classes, load, architecture)\u001b[0m\n\u001b[0;32m    143\u001b[0m \u001b[38;5;28;01mdef\u001b[39;00m \u001b[38;5;21m__init__\u001b[39m(\u001b[38;5;28mself\u001b[39m, classes, load \u001b[38;5;241m=\u001b[39m \u001b[38;5;28;01mFalse\u001b[39;00m, architecture \u001b[38;5;241m=\u001b[39m []):\n\u001b[1;32m--> 144\u001b[0m   \u001b[38;5;28;43msuper\u001b[39;49m\u001b[43m(\u001b[49m\u001b[43m)\u001b[49m\u001b[38;5;241;43m.\u001b[39;49m\u001b[38;5;21;43m__init__\u001b[39;49m\u001b[43m(\u001b[49m\u001b[43m)\u001b[49m\n\u001b[0;32m    145\u001b[0m   \u001b[38;5;66;03m#Variables de entorno\u001b[39;00m\n\u001b[0;32m    146\u001b[0m   \u001b[38;5;28mself\u001b[39m\u001b[38;5;241m.\u001b[39mname \u001b[38;5;241m=\u001b[39m \u001b[38;5;124m\"\u001b[39m\u001b[38;5;124mclas_01\u001b[39m\u001b[38;5;124m\"\u001b[39m\n",
      "\u001b[1;31mTypeError\u001b[0m: _Clasificador_padre.__init__() missing 1 required positional argument: 'classes'"
     ]
    }
   ],
   "source": [
    "#importlib.reload(mi_clasificador)\n",
    "clasificador = mi_clasificador.Clasificador_01(testDataSet.dictionary.keys())\n",
    "res =clasificador(muestra_data)\n",
    "test_accur (res, muestra_target)\n"
   ]
  },
  {
   "cell_type": "code",
   "execution_count": 318,
   "metadata": {},
   "outputs": [
    {
     "data": {
      "text/plain": [
       "0.0"
      ]
     },
     "execution_count": 318,
     "metadata": {},
     "output_type": "execute_result"
    }
   ],
   "source": [
    "(torch.argmax(muestra_target, axis = 1) == torch.argmax(res, axis=1)).sum().item() / len(muestra_target)"
   ]
  },
  {
   "cell_type": "code",
   "execution_count": 319,
   "metadata": {},
   "outputs": [
    {
     "data": {
      "text/plain": [
       "tensor([False])"
      ]
     },
     "execution_count": 319,
     "metadata": {},
     "output_type": "execute_result"
    }
   ],
   "source": [
    "torch.argmax(muestra_target, axis = 1) == torch.argmax(res, axis=1)"
   ]
  },
  {
   "cell_type": "code",
   "execution_count": 42,
   "metadata": {},
   "outputs": [
    {
     "data": {
      "text/plain": [
       "(torch.Size([3, 3]), torch.Size([3, 3]))"
      ]
     },
     "execution_count": 42,
     "metadata": {},
     "output_type": "execute_result"
    }
   ],
   "source": [
    "muestra_target.shape, res.shape"
   ]
  },
  {
   "cell_type": "code",
   "execution_count": 43,
   "metadata": {},
   "outputs": [
    {
     "data": {
      "text/plain": [
       "tensor([0, 2, 2])"
      ]
     },
     "execution_count": 43,
     "metadata": {},
     "output_type": "execute_result"
    }
   ],
   "source": [
    "torch.argmax(res, axis = 1)"
   ]
  },
  {
   "cell_type": "code",
   "execution_count": 44,
   "metadata": {},
   "outputs": [
    {
     "data": {
      "text/plain": [
       "tensor([[9.9844e-01, 2.4358e-21, 1.5574e-03],\n",
       "        [1.7411e-05, 4.4522e-07, 9.9998e-01],\n",
       "        [0.0000e+00, 0.0000e+00, 1.0000e+00]], grad_fn=<SoftmaxBackward0>)"
      ]
     },
     "execution_count": 44,
     "metadata": {},
     "output_type": "execute_result"
    }
   ],
   "source": [
    "res"
   ]
  },
  {
   "cell_type": "code",
   "execution_count": 43,
   "metadata": {},
   "outputs": [
    {
     "data": {
      "text/plain": [
       "tensor([0, 0, 0, 0, 0])"
      ]
     },
     "execution_count": 43,
     "metadata": {},
     "output_type": "execute_result"
    }
   ],
   "source": [
    "torch.argmax(muestra_target, axis=1)"
   ]
  },
  {
   "cell_type": "code",
   "execution_count": 44,
   "metadata": {},
   "outputs": [
    {
     "data": {
      "text/plain": [
       "tensor([[1., 0., 0.],\n",
       "        [1., 0., 0.],\n",
       "        [1., 0., 0.],\n",
       "        [1., 0., 0.],\n",
       "        [1., 0., 0.]])"
      ]
     },
     "execution_count": 44,
     "metadata": {},
     "output_type": "execute_result"
    }
   ],
   "source": [
    "muestra_target"
   ]
  },
  {
   "cell_type": "code",
   "execution_count": 21,
   "metadata": {},
   "outputs": [
    {
     "data": {
      "text/plain": [
       "tensor([[False,  True, False],\n",
       "        [False,  True, False],\n",
       "        [False, False, False],\n",
       "        [False,  True, False],\n",
       "        [False, False, False]])"
      ]
     },
     "execution_count": 21,
     "metadata": {},
     "output_type": "execute_result"
    }
   ],
   "source": [
    "muestra_target == res"
   ]
  },
  {
   "cell_type": "code",
   "execution_count": 45,
   "metadata": {},
   "outputs": [
    {
     "data": {
      "text/plain": [
       "tensor([[0.0000e+00, 4.1355e-15, 1.0000e+00],\n",
       "        [0.0000e+00, 0.0000e+00, 1.0000e+00],\n",
       "        [0.0000e+00, 1.0000e+00, 4.7325e-08],\n",
       "        [0.0000e+00, 1.0000e+00, 4.9665e-37],\n",
       "        [1.1335e-33, 3.0150e-14, 1.0000e+00]], grad_fn=<SoftmaxBackward0>)"
      ]
     },
     "execution_count": 45,
     "metadata": {},
     "output_type": "execute_result"
    }
   ],
   "source": [
    "res"
   ]
  },
  {
   "cell_type": "code",
   "execution_count": null,
   "metadata": {},
   "outputs": [
    {
     "name": "stdout",
     "output_type": "stream",
     "text": [
      "Red:  torch.Size([128, 5, 28])\n",
      "Flat:  torch.Size([17920])\n",
      "Line:  torch.Size([3])\n",
      "Soft: torch.Size([3])\n"
     ]
    }
   ],
   "source": [
    "flat = nn.Flatten(start_dim = 0)\n",
    "lin = nn.Linear(17920,3)\n",
    "soft = nn.Softmax(dim = 0)\n",
    "\n",
    "print(\"Red: \",res.shape)\n",
    "aux = flat(res)\n",
    "print(\"Flat: \",aux.shape)\n",
    "aux = lin(aux)\n",
    "print(\"Line: \",aux.shape)\n",
    "aux = soft(aux)\n",
    "print(\"Soft:\",aux.shape)"
   ]
  },
  {
   "cell_type": "markdown",
   "metadata": {},
   "source": [
    "# Codigo testeo"
   ]
  },
  {
   "cell_type": "code",
   "execution_count": 14,
   "metadata": {},
   "outputs": [],
   "source": [
    "import random\n",
    "import numpy as np"
   ]
  },
  {
   "cell_type": "code",
   "execution_count": 15,
   "metadata": {},
   "outputs": [],
   "source": [
    "prob_mariano = 0.3"
   ]
  },
  {
   "cell_type": "code",
   "execution_count": 16,
   "metadata": {},
   "outputs": [],
   "source": [
    "mariano = torch.zeros(5)\n",
    "pepe = torch.stack([0*torch.ones(5)\n",
    "                ,1*torch.ones(5)\n",
    "                ,2*torch.ones(5)\n",
    "                ,3*torch.ones(5)]).to(device)\n"
   ]
  },
  {
   "cell_type": "code",
   "execution_count": null,
   "metadata": {},
   "outputs": [],
   "source": [
    "DataGen = mi_dataLoader.DataSet_song_plus_rir\n",
    "train_dataloader = DataGen(trainDf, \"16k_file\", \"artist\", Path_rir, os.listdir(Path_rir), rir_prob = 0.5, seed = 98, device  = device)"
   ]
  },
  {
   "cell_type": "code",
   "execution_count": null,
   "metadata": {},
   "outputs": [
    {
     "name": "stdout",
     "output_type": "stream",
     "text": [
      "0                 ..\\data\\16k_songs\\11. borderline14.flac\n",
      "1           ..\\data\\16k_songs\\07. sweetener (live)10.flac\n",
      "2                 ..\\data\\16k_songs\\06. six thirty12.flac\n",
      "3                   ..\\data\\16k_songs\\10. Sometimes5.flac\n",
      "4       ..\\data\\16k_songs\\14. Knew Better _ Forever Bo...\n",
      "                              ...                        \n",
      "8794                   ..\\data\\16k_songs\\02 Fifteen15.mp3\n",
      "8795                     ..\\data\\16k_songs\\03 Style18.mp3\n",
      "8796            ..\\data\\16k_songs\\08 Stay Beautiful18.mp3\n",
      "8797                  ..\\data\\16k_songs\\01 Fearless18.mp3\n",
      "8798    ..\\data\\16k_songs\\16 ME! (feat. Brendon Urie o...\n",
      "Name: 16k_file, Length: 8799, dtype: object\n"
     ]
    },
    {
     "name": "stderr",
     "output_type": "stream",
     "text": [
      "100%|██████████| 8799/8799 [00:33<00:00, 260.35it/s]\n"
     ]
    },
    {
     "name": "stdout",
     "output_type": "stream",
     "text": [
      "Cargando archivos RIR:\n"
     ]
    },
    {
     "name": "stderr",
     "output_type": "stream",
     "text": [
      "100%|██████████| 325/325 [00:00<00:00, 567.16it/s]\n"
     ]
    }
   ],
   "source": []
  },
  {
   "cell_type": "code",
   "execution_count": null,
   "metadata": {},
   "outputs": [],
   "source": [
    "def sampler(song, rir, rir_prob, device):\n",
    "    if(type(rir) == list):\n",
    "        rir = torch.stack(rir)\n",
    "    if(type(song) == list):\n",
    "        song = torch.stack(song)\n",
    "    rir = rir.to(device)\n",
    "    song = song.to(device)\n",
    "    \n",
    "    #genero una respuesta al impulso ideal (La identidad de la convolucion)\n",
    "    impulse = torch.zeros(rir.shape[1], device=device)\n",
    "    impulse[0] = 1\n",
    "    # Tiro una \"moneda\" para cada cancion y genero una mascara comparando \n",
    "    # el resultado con la probabilidad de convolucion\n",
    "    sample_mask = torch.rand(song.shape[0], device=device) < rir_prob\n",
    "    #Para cada muestra elijo un rir aleatoreo\n",
    "    rir_sampler = torch.randint(0,rir.shape[0],(song.shape[0],), device=device)\n",
    "    \n",
    "    #Genero las lista de seniales a convolucionar con las canciones\n",
    "    # Sobre Sample_mask: Primero se transforma en una columna y despues lo expando hasta la cantidad de muestras temporales de rir\n",
    "    # Sobre rir[rir_sampler]: genera un nuevo tensor donde cada fila corresponde al indice que marca rir_sampler\n",
    "    # Sobre torch.were: Dependiendo del valor de sample_mask, selecciona un valor de rir[rir_sampler] o de impulse\n",
    "    samples = torch.where(sample_mask.unsqueeze(-1).expand(sample_mask.shape[0], rir.shape[1]), rir[rir_sampler], impulse)\n",
    "    return sample_mask, rir[rir_sampler], samples"
   ]
  }
 ],
 "metadata": {
  "kernelspec": {
   "display_name": "Python 3",
   "language": "python",
   "name": "python3"
  },
  "language_info": {
   "codemirror_mode": {
    "name": "ipython",
    "version": 3
   },
   "file_extension": ".py",
   "mimetype": "text/x-python",
   "name": "python",
   "nbconvert_exporter": "python",
   "pygments_lexer": "ipython3",
   "version": "3.13.1"
  }
 },
 "nbformat": 4,
 "nbformat_minor": 2
}
