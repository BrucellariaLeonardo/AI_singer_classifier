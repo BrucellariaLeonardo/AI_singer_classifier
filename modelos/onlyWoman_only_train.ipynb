{
 "cells": [
  {
   "cell_type": "code",
   "execution_count": null,
   "metadata": {},
   "outputs": [],
   "source": [
    "#Correr solo si se va a plotear spectrogramas\n",
    "\n",
    "import librosa\n",
    "\n",
    "def plot_spectrogram(specgram, title=None, ylabel=\"freq_bin\", ax=None):\n",
    "    if ax is None:\n",
    "        _, ax = plt.subplots(1, 1)\n",
    "    if title is not None:\n",
    "        ax.set_title(title)\n",
    "    ax.set_ylabel(ylabel)\n",
    "    ax.imshow(librosa.power_to_db(specgram), origin=\"lower\", aspect=\"auto\", interpolation=\"nearest\")"
   ]
  },
  {
   "cell_type": "code",
   "execution_count": null,
   "metadata": {},
   "outputs": [],
   "source": [
    "import os\n",
    "import pandas as pd\n",
    "from torch import nn\n",
    "from torch.utils.data import DataLoader\n",
    "import torch\n",
    "from tqdm import tqdm\n",
    "import matplotlib.pyplot as plt\n",
    "from torchsummary import summary\n",
    "\n"
   ]
  },
  {
   "cell_type": "code",
   "execution_count": null,
   "metadata": {},
   "outputs": [],
   "source": [
    "#librerias locales\n",
    "#from ..libs import dataLoaders as mi_dataLoader\n",
    "#from ..libs import clasificador_padre as mi_clasificador\n",
    "from importlib.machinery import SourceFileLoader\n",
    "mi_dataLoader = SourceFileLoader('dataLoadersV2', '../libs/dataLoadersV2.py').load_module()\n",
    "mi_clasificador = SourceFileLoader('clasificador_padre', '../libs/clasificador_padre.py').load_module()"
   ]
  },
  {
   "cell_type": "markdown",
   "metadata": {},
   "source": [
    "# Cargando un DataSet"
   ]
  },
  {
   "cell_type": "code",
   "execution_count": null,
   "metadata": {},
   "outputs": [],
   "source": [
    "root = '../'\n",
    "Path_train = root + 'data/onlywoman_train.csv'\n",
    "Path_val = root + 'data/onlywoman_val.csv'\n",
    "Path_test = root + 'data/onlywoman_test.csv'"
   ]
  },
  {
   "cell_type": "code",
   "execution_count": null,
   "metadata": {},
   "outputs": [],
   "source": [
    "testDf = pd.read_csv(Path_train)\n",
    "testDf.keys()"
   ]
  },
  {
   "cell_type": "code",
   "execution_count": null,
   "metadata": {},
   "outputs": [],
   "source": [
    "testDataSet = mi_dataLoader.clasification_dataset(testDf, file_col=\"fileMfcc\", target_col=\"artist\", seed = 98)"
   ]
  },
  {
   "cell_type": "code",
   "execution_count": null,
   "metadata": {},
   "outputs": [],
   "source": [
    "sample, target = testDataSet[0:9]\n",
    "sample[0].shape, target"
   ]
  },
  {
   "cell_type": "markdown",
   "metadata": {},
   "source": [
    "# Generando el DataLoader"
   ]
  },
  {
   "cell_type": "code",
   "execution_count": null,
   "metadata": {},
   "outputs": [],
   "source": [
    "\n",
    "#def collate_fn(batch):\n",
    "#    _mels = torch.stack([item[0] for item in batch], dim = 0)\n",
    "#    _targets = torch.stack([torch.tensor(item[1]) for item in batch], dim=0)\n",
    "#    return _mels, _targets\n",
    "\n",
    "test_dataloader = DataLoader(testDataSet, batch_size=100, shuffle=True)\n",
    "muestra_data, muestra_target = next(iter(test_dataloader))\n",
    "muestra_target"
   ]
  },
  {
   "cell_type": "code",
   "execution_count": null,
   "metadata": {},
   "outputs": [],
   "source": [
    "# Display image and label.\n",
    "train_features, train_labels = next(iter(test_dataloader))\n",
    "print(f\"Feature batch shape: {train_features.size()}\")\n",
    "print(f\"Labels batch shape: {train_labels.size()}\")\n",
    "plot_spectrogram(train_features[0], train_labels[0])\n",
    "#img = train_features[0].squeeze()\n",
    "#label = train_labels[0]\n",
    "#plt.imshow(img, cmap=\"gray\")\n",
    "#plt.show()\n",
    "#print(f\"Label: {label}\")"
   ]
  },
  {
   "cell_type": "markdown",
   "metadata": {},
   "source": [
    "# instanciando un modelo"
   ]
  },
  {
   "cell_type": "code",
   "execution_count": null,
   "metadata": {},
   "outputs": [],
   "source": [
    "history = []"
   ]
  },
  {
   "cell_type": "code",
   "execution_count": null,
   "metadata": {},
   "outputs": [],
   "source": [
    "\n",
    "clasificador = mi_clasificador.onlyWoman_MFCC_02(list(testDataSet.dictionary.keys()))\n",
    "s = 0\n",
    "#clasificador.architecture"
   ]
  },
  {
   "cell_type": "code",
   "execution_count": null,
   "metadata": {},
   "outputs": [],
   "source": [
    "if torch.cuda.is_available():\n",
    "    device = torch.device(\"cuda\")\n",
    "    print(f\"Hay {torch.cuda.device_count()} GPU(s) disponibles.\")\n",
    "    print(f\"GPU activa: {torch.cuda.get_device_name(0)}\")\n",
    "else:\n",
    "    device = torch.device(\"cpu\")\n",
    "    print(\"CUDA no está disponible, se utilizará la CPU.\")\n",
    "clasificador.to(device)"
   ]
  },
  {
   "cell_type": "code",
   "execution_count": null,
   "metadata": {},
   "outputs": [],
   "source": [
    "def test_accur (prediccion, target_batch):\n",
    "    return(torch.argmax(target_batch, axis=1) == torch.argmax(prediccion, axis=1)).sum().item() / len(target_batch)"
   ]
  },
  {
   "cell_type": "code",
   "execution_count": null,
   "metadata": {},
   "outputs": [],
   "source": [
    "    test_optimizer = torch.optim.Adam(clasificador.parameters(), lr=0.0001)\n",
    "    test_criterion = torch.nn.CrossEntropyLoss()"
   ]
  },
  {
   "cell_type": "code",
   "execution_count": null,
   "metadata": {},
   "outputs": [],
   "source": [
    "j = 1"
   ]
  },
  {
   "cell_type": "code",
   "execution_count": null,
   "metadata": {},
   "outputs": [],
   "source": [
    "for i in range(10):\n",
    "    loss_log, acur_log = clasificador.train_loop(1, test_dataloader, test_optimizer , test_criterion, test_accur, device)\n",
    "    save_state = clasificador.state_dict()\n",
    "    #torch.save(save_state, f\"{root}modelos/temp/ow_2_{j}.pt\")\n",
    "    #mi_clasificador.save_model(clasificador,f\"{root}modelos/temp/saveState_{i}.pt\")\n",
    "    history.append((loss_log, acur_log))\n",
    "    j = j+1"
   ]
  },
  {
   "cell_type": "code",
   "execution_count": null,
   "metadata": {},
   "outputs": [],
   "source": [
    "torch.save(history, f\"{root}modelos/temp/history_ow_2_30epoch.pt\")\n"
   ]
  },
  {
   "cell_type": "code",
   "execution_count": null,
   "metadata": {},
   "outputs": [],
   "source": [
    "loss_log = history[1][0]\n",
    "acur_log = history[1][1]"
   ]
  },
  {
   "cell_type": "code",
   "execution_count": null,
   "metadata": {},
   "outputs": [],
   "source": [
    "fig, axes = plt.subplots(nrows=2, ncols=1, figsize = (14,14))\n",
    "\n",
    "# Graficar en el primer subplot\n",
    "axes[0].plot(range(len(acur_log)), acur_log, 'r-', label='Acuracy')\n",
    "axes[0].set_xlabel('Epoch')\n",
    "axes[0].set_ylabel('Acur')\n",
    "axes[0].legend()\n",
    "\n",
    "axes[1].plot(range(len(acur_log)), loss_log, 'r-', label='Loss')\n",
    "axes[1].set_xlabel('Epoch')\n",
    "axes[1].set_ylabel('Loss')\n",
    "axes[1].legend()"
   ]
  },
  {
   "cell_type": "markdown",
   "metadata": {},
   "source": [
    "# Validando"
   ]
  },
  {
   "cell_type": "code",
   "execution_count": null,
   "metadata": {},
   "outputs": [],
   "source": [
    "#Carga de las muestras y el DataLoader\n",
    "#Path_val = './csv/validation_set.csv'\n",
    "valDf = pd.read_csv(Path_val)\n",
    "valDataSet = mi_dataLoader.clasification_dataset(valDf, file_col=\"fileMfcc\", target_col=\"artist\", seed = 98)\n",
    "val_dataloader = DataLoader(valDataSet, batch_size=100, shuffle=False)\n"
   ]
  },
  {
   "cell_type": "code",
   "execution_count": null,
   "metadata": {},
   "outputs": [],
   "source": [
    "j"
   ]
  },
  {
   "cell_type": "code",
   "execution_count": null,
   "metadata": {},
   "outputs": [],
   "source": [
    "# Cargo el modelo\n",
    "save_state = torch.load(root+f\"/modelos/temp/ow_2_{j-1}.pt\")\n",
    "clasificador = mi_clasificador.onlyWoman_MFCC_02(list(valDataSet.dictionary.keys()))\n",
    "clasificador.load_state_dict(save_state)"
   ]
  },
  {
   "cell_type": "code",
   "execution_count": null,
   "metadata": {},
   "outputs": [],
   "source": [
    "#Separando las muestras y los targets\n",
    "muestras = []\n",
    "targets = []\n",
    "for muestra_data, muestra_target in val_dataloader:\n",
    "    muestras.append(muestra_data)\n",
    "    targets.append(torch.tensor(muestra_target))\n",
    "    print(len(muestras)*100,\"/\",len(valDataSet))\n",
    "muestras[0].shape"
   ]
  },
  {
   "cell_type": "code",
   "execution_count": null,
   "metadata": {},
   "outputs": [],
   "source": [
    "def acuracy_fn (prediccion, target_batch):\n",
    "    return(torch.argmax(target_batch, axis=1) == torch.argmax(prediccion, axis=1)).sum().item() / len(target_batch)\n",
    "\n",
    "loss_fn = torch.nn.CrossEntropyLoss()"
   ]
  },
  {
   "cell_type": "code",
   "execution_count": null,
   "metadata": {},
   "outputs": [],
   "source": [
    "resultado_evalucion = clasificador.evaluate(val_dataloader, loss_fn, acuracy_fn,device)"
   ]
  },
  {
   "cell_type": "code",
   "execution_count": null,
   "metadata": {},
   "outputs": [],
   "source": [
    "resultado_evalucion #valid despues de cargar save state"
   ]
  },
  {
   "cell_type": "code",
   "execution_count": null,
   "metadata": {},
   "outputs": [],
   "source": [
    "evalHisto.append(resultado_evalucion)"
   ]
  },
  {
   "cell_type": "code",
   "execution_count": null,
   "metadata": {},
   "outputs": [],
   "source": [
    "evalHisto"
   ]
  },
  {
   "cell_type": "markdown",
   "metadata": {},
   "source": [
    "# espacio para el train"
   ]
  },
  {
   "cell_type": "code",
   "execution_count": null,
   "metadata": {},
   "outputs": [],
   "source": [
    "for l in tqdm(range(5)):\n",
    "    for i in range(10):\n",
    "        loss_log, acur_log = clasificador.train_loop(1, test_dataloader, test_optimizer , test_criterion, test_accur, device)\n",
    "        save_state = clasificador.state_dict()\n",
    "        #torch.save(save_state, f\"{root}modelos/temp/ow_2_{j}.pt\")\n",
    "        #mi_clasificador.save_model(clasificador,f\"{root}modelos/temp/saveState_{i}.pt\")\n",
    "        history.append((loss_log, acur_log))\n",
    "        j = j+1\n",
    "    torch.save(history, f\"{root}modelos/temp/history_ow_2_{j-1}epoch.pt\")\n",
    "    resultado_evalucion = clasificador.evaluate(val_dataloader, loss_fn, acuracy_fn,device)\n",
    "    evalHisto.append(resultado_evalucion)\n",
    "    print(evalHisto)"
   ]
  },
  {
   "cell_type": "code",
   "execution_count": null,
   "metadata": {},
   "outputs": [],
   "source": [
    "evalHisto"
   ]
  },
  {
   "cell_type": "markdown",
   "metadata": {},
   "source": [
    "## Codigo usado mientras se generaba la arquitectura (osea, codigo desechable)"
   ]
  },
  {
   "cell_type": "code",
   "execution_count": null,
   "metadata": {},
   "outputs": [],
   "source": [
    "mi_clasificador = SourceFileLoader('clasificador_padre', '../libs/clasificador_padre.py').load_module()"
   ]
  },
  {
   "cell_type": "code",
   "execution_count": null,
   "metadata": {},
   "outputs": [],
   "source": [
    "muestra_data, muestra_target = next(iter(test_dataloader))\n",
    "#muestra = torch.stack(muestra, 0)\n",
    "muestra_data.shape"
   ]
  },
  {
   "cell_type": "code",
   "execution_count": null,
   "metadata": {},
   "outputs": [],
   "source": [
    "mi_clasificador = SourceFileLoader('clasificador_padre', '../libs/clasificador_padre.py').load_module()\n",
    "clasificador = mi_clasificador.onlyWoman_MFCC_01(list(testDataSet.dictionary.keys()))"
   ]
  },
  {
   "cell_type": "code",
   "execution_count": null,
   "metadata": {},
   "outputs": [],
   "source": [
    "res =clasificador(muestra_data)\n",
    "res.shape"
   ]
  },
  {
   "cell_type": "code",
   "execution_count": null,
   "metadata": {},
   "outputs": [],
   "source": [
    "out = nn.Sequential(   # bloque que acondiciona la salida\n",
    "    nn.Linear(*self.architecture[-1]), #Lineal que sale a las clases objetivo\n",
    "    nn.Softmax( dim = 1))"
   ]
  },
  {
   "cell_type": "code",
   "execution_count": null,
   "metadata": {},
   "outputs": [],
   "source": [
    "test_criterion(res,muestra_target)"
   ]
  },
  {
   "cell_type": "code",
   "execution_count": null,
   "metadata": {},
   "outputs": [],
   "source": [
    "test_accur (res, muestra_target)"
   ]
  },
  {
   "cell_type": "code",
   "execution_count": null,
   "metadata": {},
   "outputs": [],
   "source": [
    "#importlib.reload(mi_clasificador)\n",
    "clasificador = mi_clasificador.Clasificador_01(testDataSet.dictionary.keys())\n",
    "res =clasificador(muestra_data)\n",
    "test_accur (res, muestra_target)\n"
   ]
  },
  {
   "cell_type": "code",
   "execution_count": null,
   "metadata": {},
   "outputs": [],
   "source": [
    "(torch.argmax(muestra_target, axis = 1) == torch.argmax(res, axis=1)).sum().item() / len(muestra_target)"
   ]
  },
  {
   "cell_type": "code",
   "execution_count": null,
   "metadata": {},
   "outputs": [],
   "source": [
    "torch.argmax(muestra_target, axis = 1) == torch.argmax(res, axis=1)"
   ]
  },
  {
   "cell_type": "code",
   "execution_count": null,
   "metadata": {},
   "outputs": [],
   "source": [
    "muestra_target.shape, res.shape"
   ]
  },
  {
   "cell_type": "code",
   "execution_count": null,
   "metadata": {},
   "outputs": [],
   "source": [
    "torch.argmax(res, axis = 1)"
   ]
  },
  {
   "cell_type": "code",
   "execution_count": null,
   "metadata": {},
   "outputs": [],
   "source": [
    "res"
   ]
  },
  {
   "cell_type": "code",
   "execution_count": null,
   "metadata": {},
   "outputs": [],
   "source": [
    "torch.argmax(muestra_target, axis=1)"
   ]
  },
  {
   "cell_type": "code",
   "execution_count": null,
   "metadata": {},
   "outputs": [],
   "source": [
    "muestra_target"
   ]
  },
  {
   "cell_type": "code",
   "execution_count": null,
   "metadata": {},
   "outputs": [],
   "source": [
    "muestra_target == res"
   ]
  },
  {
   "cell_type": "code",
   "execution_count": null,
   "metadata": {},
   "outputs": [],
   "source": [
    "res"
   ]
  },
  {
   "cell_type": "code",
   "execution_count": null,
   "metadata": {},
   "outputs": [],
   "source": [
    "flat = nn.Flatten(start_dim = 0)\n",
    "lin = nn.Linear(17920,3)\n",
    "soft = nn.Softmax(dim = 0)\n",
    "\n",
    "print(\"Red: \",res.shape)\n",
    "aux = flat(res)\n",
    "print(\"Flat: \",aux.shape)\n",
    "aux = lin(aux)\n",
    "print(\"Line: \",aux.shape)\n",
    "aux = soft(aux)\n",
    "print(\"Soft:\",aux.shape)"
   ]
  }
 ],
 "metadata": {
  "kernelspec": {
   "display_name": "Python 3",
   "language": "python",
   "name": "python3"
  },
  "language_info": {
   "codemirror_mode": {
    "name": "ipython",
    "version": 3
   },
   "file_extension": ".py",
   "mimetype": "text/x-python",
   "name": "python",
   "nbconvert_exporter": "python",
   "pygments_lexer": "ipython3",
   "version": "3.13.1"
  }
 },
 "nbformat": 4,
 "nbformat_minor": 2
}
