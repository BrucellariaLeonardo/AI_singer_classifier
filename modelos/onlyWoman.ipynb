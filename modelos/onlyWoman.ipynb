{
 "cells": [
  {
   "cell_type": "code",
   "execution_count": 1,
   "metadata": {},
   "outputs": [],
   "source": [
    "#Correr solo si se va a plotear spectrogramas\n",
    "\n",
    "import librosa\n",
    "\n",
    "def plot_spectrogram(specgram, title=None, ylabel=\"freq_bin\", ax=None):\n",
    "    if ax is None:\n",
    "        _, ax = plt.subplots(1, 1)\n",
    "    if title is not None:\n",
    "        ax.set_title(title)\n",
    "    ax.set_ylabel(ylabel)\n",
    "    ax.imshow(librosa.power_to_db(specgram), origin=\"lower\", aspect=\"auto\", interpolation=\"nearest\")"
   ]
  },
  {
   "cell_type": "code",
   "execution_count": 2,
   "metadata": {},
   "outputs": [],
   "source": [
    "import os\n",
    "import pandas as pd\n",
    "from torch import nn\n",
    "from torch.utils.data import DataLoader\n",
    "import torch\n",
    "from tqdm import tqdm\n",
    "import matplotlib.pyplot as plt\n",
    "from torchsummary import summary\n",
    "\n"
   ]
  },
  {
   "cell_type": "code",
   "execution_count": 3,
   "metadata": {},
   "outputs": [],
   "source": [
    "#librerias locales\n",
    "#from ..libs import dataLoaders as mi_dataLoader\n",
    "#from ..libs import clasificador_padre as mi_clasificador\n",
    "from importlib.machinery import SourceFileLoader\n",
    "mi_dataLoader = SourceFileLoader('dataLoadersV2', '../libs/dataLoadersV2.py').load_module()\n",
    "mi_clasificador = SourceFileLoader('clasificador_padre', '../libs/clasificador_padre.py').load_module()"
   ]
  },
  {
   "cell_type": "markdown",
   "metadata": {},
   "source": [
    "# Cargando un DataSet"
   ]
  },
  {
   "cell_type": "code",
   "execution_count": 4,
   "metadata": {},
   "outputs": [],
   "source": [
    "dataSetName = 'onlywoman'\n",
    "root = './'\n",
    "while not os.path.isdir(f'{root}data'):\n",
    "    root += '../'\n",
    "Path_train = root+'data/'+dataSetName+'_train.csv'\n",
    "Path_val = root+'data/'+dataSetName+'_val.csv'\n",
    "Path_test = root+'data/'+dataSetName+'_test.csv'"
   ]
  },
  {
   "cell_type": "code",
   "execution_count": 5,
   "metadata": {},
   "outputs": [
    {
     "name": "stderr",
     "output_type": "stream",
     "text": [
      "100%|██████████| 8799/8799 [00:02<00:00, 3401.16it/s]"
     ]
    },
    {
     "name": "stdout",
     "output_type": "stream",
     "text": [
      "torch.Size([13, 997]) [tensor([1., 0., 0.]), tensor([1., 0., 0.]), tensor([1., 0., 0.]), tensor([1., 0., 0.]), tensor([1., 0., 0.]), tensor([1., 0., 0.]), tensor([1., 0., 0.]), tensor([1., 0., 0.]), tensor([1., 0., 0.])]\n"
     ]
    },
    {
     "name": "stderr",
     "output_type": "stream",
     "text": [
      "\n"
     ]
    }
   ],
   "source": [
    "#cargo el data set\n",
    "testDf = pd.read_csv(Path_train)\n",
    "testDataSet = mi_dataLoader.clasification_dataset(testDf, file_col=\"fileMfcc\", target_col=\"artist\", seed = 98)\n",
    "#una muestra del data set\n",
    "sample, target = testDataSet[0:9]\n",
    "print(sample[0].shape, target)"
   ]
  },
  {
   "cell_type": "markdown",
   "metadata": {},
   "source": [
    "# Generando el DataLoader"
   ]
  },
  {
   "cell_type": "code",
   "execution_count": 6,
   "metadata": {},
   "outputs": [],
   "source": [
    "test_dataloader = DataLoader(testDataSet, batch_size=500, shuffle=True)\n",
    "#muestra_data, muestra_target = next(iter(test_dataloader))\n",
    "#muestra_target"
   ]
  },
  {
   "cell_type": "code",
   "execution_count": 7,
   "metadata": {},
   "outputs": [],
   "source": [
    "###Muestras de especrogramas\n",
    "\n",
    "#train_features, train_labels = next(iter(test_dataloader))\n",
    "#print(f\"Feature batch shape: {train_features.size()}\")\n",
    "#print(f\"Labels batch shape: {train_labels.size()}\")\n",
    "#plot_spectrogram(train_features[0], train_labels[0])\n",
    "#img = train_features[0].squeeze()\n",
    "#label = train_labels[0]\n",
    "#plt.imshow(img, cmap=\"gray\")\n",
    "#plt.show()\n",
    "#print(f\"Label: {label}\")"
   ]
  },
  {
   "cell_type": "markdown",
   "metadata": {},
   "source": [
    "# instanciando un modelo"
   ]
  },
  {
   "cell_type": "code",
   "execution_count": 8,
   "metadata": {},
   "outputs": [],
   "source": [
    "os.listdir('./save/state')\n",
    "pState = \"./save/state/\"\n",
    "pHist = \"./save/history/\"\n",
    "overWrite = False\n",
    "show_metrics = True\n",
    "sLoad = 4 #save state a cargar\n",
    "lr = 0.0001\n",
    "constructor = mi_clasificador.onlyWoman_MFCC_05_N2"
   ]
  },
  {
   "cell_type": "code",
   "execution_count": 9,
   "metadata": {},
   "outputs": [
    {
     "name": "stdout",
     "output_type": "stream",
     "text": [
      "Hay 1 GPU(s) disponibles.\n",
      "GPU activa: NVIDIA GeForce RTX 4050 Laptop GPU\n",
      "<bound method Module.modules of onlyWoman_MFCC_05_N2(\n",
      "  (inPut): Sequential(\n",
      "    (0): Conv2d(1, 4, kernel_size=(3, 3), stride=(1, 1), padding=(2, 2))\n",
      "    (1): ReLU()\n",
      "  )\n",
      "  (chanelUp): Sequential(\n",
      "    (0): BatchNorm2d(4, eps=1e-05, momentum=0.1, affine=True, track_running_stats=True)\n",
      "    (1): ReLU()\n",
      "    (2): Conv2d(4, 16, kernel_size=(1, 7), stride=(1, 1))\n",
      "    (3): ReLU()\n",
      "    (4): Conv2d(16, 32, kernel_size=(1, 7), stride=(1, 1))\n",
      "    (5): ReLU()\n",
      "    (6): Conv2d(32, 64, kernel_size=(1, 7), stride=(1, 2))\n",
      "    (7): ReLU()\n",
      "    (8): MaxPool2d(kernel_size=(1, 2), stride=(1, 2), padding=0, dilation=1, ceil_mode=False)\n",
      "    (9): BatchNorm2d(64, eps=1e-05, momentum=0.1, affine=True, track_running_stats=True)\n",
      "  )\n",
      "  (justTime): Sequential(\n",
      "    (0): Conv2d(64, 64, kernel_size=(3, 7), stride=(1, 2))\n",
      "    (1): ReLU()\n",
      "    (2): Conv2d(64, 64, kernel_size=(3, 7), stride=(1, 2))\n",
      "    (3): ReLU()\n",
      "    (4): MaxPool2d(kernel_size=(1, 2), stride=(1, 2), padding=0, dilation=1, ceil_mode=False)\n",
      "    (5): BatchNorm2d(64, eps=1e-05, momentum=0.1, affine=True, track_running_stats=True)\n",
      "  )\n",
      "  (out): Sequential(\n",
      "    (0): Linear(in_features=19712, out_features=1500, bias=True)\n",
      "    (1): ReLU()\n",
      "    (2): Linear(in_features=1500, out_features=1000, bias=True)\n",
      "    (3): ReLU()\n",
      "    (4): Linear(in_features=1000, out_features=500, bias=True)\n",
      "    (5): ReLU()\n",
      "    (6): Linear(in_features=500, out_features=100, bias=True)\n",
      "    (7): ReLU()\n",
      "    (8): Linear(in_features=100, out_features=10, bias=True)\n",
      "    (9): ReLU()\n",
      "    (10): Linear(in_features=10, out_features=3, bias=True)\n",
      "    (11): Softmax(dim=1)\n",
      "  )\n",
      ")>\n"
     ]
    }
   ],
   "source": [
    "def test_accur (prediccion, target_batch):\n",
    "    return(torch.argmax(target_batch, axis=1) == torch.argmax(prediccion, axis=1)).sum().item() / len(target_batch)\n",
    "\n",
    "\n",
    "if((len(os.listdir(pState)) == 0) or overWrite):\n",
    "    history = {}\n",
    "    history['loss'] = torch.empty(0)\n",
    "    history['acur'] = torch.empty(0)\n",
    "\n",
    "    clasificador = constructor(list(testDataSet.dictionary.keys()))\n",
    "else:\n",
    "    history =  torch.load(pHist+os.listdir(pHist)[sLoad])\n",
    "\n",
    "    save_state = torch.load(pState+os.listdir(pState)[sLoad])\n",
    "    clasificador = constructor(list(testDataSet.dictionary.keys()))\n",
    "    clasificador.load_state_dict(save_state)\n",
    "\n",
    "test_optimizer = torch.optim.Adam(clasificador.parameters(), lr=lr)\n",
    "test_criterion = torch.nn.CrossEntropyLoss()\n",
    "\n",
    "#envio el modelo a la grafica si esta disponible\n",
    "if torch.cuda.is_available():\n",
    "    device = torch.device(\"cuda\")\n",
    "    print(f\"Hay {torch.cuda.device_count()} GPU(s) disponibles.\")\n",
    "    print(f\"GPU activa: {torch.cuda.get_device_name(0)}\")\n",
    "else:\n",
    "    device = torch.device(\"cpu\")\n",
    "    #print(\"CUDA no está disponible, se utilizará la CPU.\")\n",
    "clasificador.to(device)\n",
    "print(clasificador.modules)\n",
    "\n"
   ]
  },
  {
   "cell_type": "markdown",
   "metadata": {},
   "source": [
    "# Entrenando el modelo"
   ]
  },
  {
   "cell_type": "code",
   "execution_count": 10,
   "metadata": {},
   "outputs": [],
   "source": [
    "show_metrics = False"
   ]
  },
  {
   "cell_type": "code",
   "execution_count": 13,
   "metadata": {},
   "outputs": [
    {
     "name": "stdout",
     "output_type": "stream",
     "text": [
      "Epoch 0 of 1 / Loss: 0.5994521975517273 / Accuracy: 0.9542876482009888\n",
      "Epoch 0 of 1 / Loss: 0.5918563604354858 / Accuracy: 0.9611018300056458\n",
      "Epoch 0 of 1 / Loss: 0.586625337600708 / Accuracy: 0.9658796191215515\n",
      "Epoch 0 of 1 / Loss: 0.5821231603622437 / Accuracy: 0.9704024791717529\n",
      "Epoch 0 of 1 / Loss: 0.5788730978965759 / Accuracy: 0.9730327129364014\n",
      "Epoch 0 of 1 / Loss: 0.5762735605239868 / Accuracy: 0.9757740497589111\n",
      "Epoch 0 of 1 / Loss: 0.57389235496521 / Accuracy: 0.9778105020523071\n",
      "Epoch 0 of 1 / Loss: 0.5725435614585876 / Accuracy: 0.9790728092193604\n",
      "Epoch 0 of 1 / Loss: 0.5715665817260742 / Accuracy: 0.9799617528915405\n",
      "Epoch 0 of 1 / Loss: 0.5714296698570251 / Accuracy: 0.9801437854766846\n"
     ]
    }
   ],
   "source": [
    "%matplotlib qt5\n",
    "\n",
    "if show_metrics:\n",
    "    plt.ion()\n",
    "    fig, axes = plt.subplots(nrows=2, ncols=1, figsize = (6,6))\n",
    "    l1, = axes[0].plot([], [])\n",
    "    l2, = axes[1].plot([], [])\n",
    "    axes[0].set_xlabel('Epoch')\n",
    "    axes[0].set_ylabel('Acur')\n",
    "\n",
    "    axes[1].set_xlabel('Epoch')\n",
    "    axes[1].set_ylabel('Loss')\n",
    "\n",
    "for i in range(10):\n",
    "    loss_log, acur_log = clasificador.train_loop(1, test_dataloader, test_optimizer , test_criterion, test_accur, device)\n",
    "    history['loss'] = torch.cat((history['loss'], loss_log), dim=0)\n",
    "    history['acur'] = torch.cat((history['acur'], acur_log), dim=0)\n",
    "    \n",
    "    if show_metrics:\n",
    "        # Grafica\n",
    "        l1.set_data(range(len(history['acur'])), history['acur'])\n",
    "        axes[0].relim()  # Recalculate data limits\n",
    "        axes[0].autoscale_view()  # Rescale axes\n",
    "\n",
    "        l2.set_data(range(len(history['loss'])), history['loss'])\n",
    "        axes[1].relim()  # Recalculate data limits\n",
    "        axes[1].autoscale_view()  # Rescale axes\n",
    "        \n",
    "        fig.canvas.draw()  # Redraw the figure\n",
    "        fig.canvas.flush_events()  # Ensure events are processed\n",
    "        plt.pause(0.5)\n",
    "\n",
    "save_state = clasificador.state_dict()\n",
    "n = len(os.listdir(pState))\n",
    "torch.save(save_state, f\"{pState}/ss_{n}.pt\")\n",
    "torch.save(history, f\"{pHist}/hist_{n}.pt\")\n",
    "\n",
    "if show_metrics:\n",
    "    plt.ioff()\n",
    "    plt.show()"
   ]
  },
  {
   "cell_type": "markdown",
   "metadata": {},
   "source": [
    "# Validando"
   ]
  },
  {
   "cell_type": "code",
   "execution_count": 15,
   "metadata": {},
   "outputs": [
    {
     "name": "stderr",
     "output_type": "stream",
     "text": [
      "100%|██████████| 2640/2640 [00:00<00:00, 3193.70it/s]\n",
      "  0%|          | 0/27 [00:00<?, ?it/s]C:\\Users\\leona\\AppData\\Local\\Temp\\ipykernel_26192\\3220346858.py:15: UserWarning: To copy construct from a tensor, it is recommended to use sourceTensor.clone().detach() or sourceTensor.clone().detach().requires_grad_(True), rather than torch.tensor(sourceTensor).\n",
      "  targets.append(torch.tensor(muestra_target))\n",
      "100%|██████████| 27/27 [00:00<00:00, 582.39it/s]\n",
      "100%|██████████| 27/27 [00:03<00:00,  7.20it/s]"
     ]
    },
    {
     "name": "stdout",
     "output_type": "stream",
     "text": [
      "(0.6613621027381332, 0.8881481481481482)\n"
     ]
    },
    {
     "name": "stderr",
     "output_type": "stream",
     "text": [
      "\n"
     ]
    }
   ],
   "source": [
    "def acuracy_fn (prediccion, target_batch):\n",
    "    return(torch.argmax(target_batch, axis=1) == torch.argmax(prediccion, axis=1)).sum().item() / len(target_batch)\n",
    "\n",
    "\n",
    "#Carga de las muestras y el DataLoader\n",
    "valDf = pd.read_csv(Path_val)\n",
    "valDataSet = mi_dataLoader.clasification_dataset(valDf, file_col=\"fileMfcc\", target_col=\"artist\", seed = 98)\n",
    "val_dataloader = DataLoader(valDataSet, batch_size=100, shuffle=False)\n",
    "\n",
    "#Separando las muestras y los targets\n",
    "muestras = []\n",
    "targets = []\n",
    "for muestra_data, muestra_target in tqdm(val_dataloader):\n",
    "    muestras.append(muestra_data)\n",
    "    targets.append(torch.tensor(muestra_target))\n",
    "\n",
    "loss_fn = torch.nn.CrossEntropyLoss()\n",
    "resultado_evalucion = clasificador.evaluate(val_dataloader, loss_fn, acuracy_fn, device)\n",
    "print(resultado_evalucion)\n"
   ]
  },
  {
   "cell_type": "markdown",
   "metadata": {},
   "source": [
    "A continuacion se levantan los distintos save state generados para generar una comparacion entre las distintas performance en el validation set"
   ]
  },
  {
   "cell_type": "code",
   "execution_count": 14,
   "metadata": {},
   "outputs": [
    {
     "name": "stderr",
     "output_type": "stream",
     "text": [
      "100%|██████████| 27/27 [00:05<00:00,  4.66it/s]\n",
      "100%|██████████| 27/27 [00:03<00:00,  6.84it/s]\n"
     ]
    },
    {
     "data": {
      "text/plain": [
       "[(0.6752566871819673, 0.8790740740740742),\n",
       " (0.6613621027381332, 0.8881481481481482)]"
      ]
     },
     "execution_count": 14,
     "metadata": {},
     "output_type": "execute_result"
    }
   ],
   "source": [
    "val_histo = []\n",
    "max_acur = 0\n",
    "mejor = None\n",
    "for ss_name in os.listdir(f\"{pState}/\"):\n",
    "    ss_load = torch.load(f\"{pState}{ss_name}\")\n",
    "    clasificador.load_state_dict(ss_load)\n",
    "    resultado_evalucion = clasificador.evaluate(val_dataloader, loss_fn, acuracy_fn, device)\n",
    "    val_histo.append(resultado_evalucion)\n",
    "    if resultado_evalucion[1] > max_acur:\n",
    "        max_acur = resultado_evalucion[1]\n",
    "        mejor = ss_load\n",
    "val_histo"
   ]
  },
  {
   "cell_type": "markdown",
   "metadata": {},
   "source": [
    "# Test set"
   ]
  },
  {
   "cell_type": "code",
   "execution_count": 53,
   "metadata": {},
   "outputs": [
    {
     "name": "stderr",
     "output_type": "stream",
     "text": [
      "100%|██████████| 294/294 [00:00<00:00, 2606.03it/s]\n",
      "100%|██████████| 3/3 [00:00<00:00,  6.33it/s]\n"
     ]
    },
    {
     "data": {
      "text/plain": [
       "(0.6555488705635071, 0.887872340425532)"
      ]
     },
     "execution_count": 53,
     "metadata": {},
     "output_type": "execute_result"
    }
   ],
   "source": [
    "#Carga de las muestras y el DataLoader\n",
    "testDf = pd.read_csv(Path_test)\n",
    "testDataSet = mi_dataLoader.clasification_dataset(testDf, file_col=\"fileMfcc\", target_col=\"artist\", seed = 98)\n",
    "test_dataloader = DataLoader(testDataSet, batch_size=100, shuffle=False)\n",
    "\n",
    "clasificador.load_state_dict(mejor)\n",
    "clasificador.evaluate(test_dataloader, loss_fn, acuracy_fn, device)"
   ]
  },
  {
   "cell_type": "markdown",
   "metadata": {},
   "source": [
    "## Codigo usado mientras se generaba la arquitectura (osea, codigo desechable)"
   ]
  },
  {
   "cell_type": "code",
   "execution_count": null,
   "metadata": {},
   "outputs": [],
   "source": [
    "mi_clasificador = SourceFileLoader('clasificador_padre', '../libs/clasificador_padre.py').load_module()"
   ]
  },
  {
   "cell_type": "code",
   "execution_count": 24,
   "metadata": {},
   "outputs": [
    {
     "data": {
      "text/plain": [
       "torch.Size([100, 13, 997])"
      ]
     },
     "execution_count": 24,
     "metadata": {},
     "output_type": "execute_result"
    }
   ],
   "source": [
    "muestra_data, muestra_target = next(iter(test_dataloader))\n",
    "#muestra = torch.stack(muestra, 0)\n",
    "muestra_data.shape"
   ]
  },
  {
   "cell_type": "code",
   "execution_count": 59,
   "metadata": {},
   "outputs": [],
   "source": [
    "mi_clasificador = SourceFileLoader('clasificador_padre', '../libs/clasificador_padre.py').load_module()\n",
    "clasificador = mi_clasificador.onlyWoman_MFCC_01(list(testDataSet.dictionary.keys()))"
   ]
  },
  {
   "cell_type": "code",
   "execution_count": 60,
   "metadata": {},
   "outputs": [
    {
     "name": "stdout",
     "output_type": "stream",
     "text": [
      "In: torch.Size([100, 13, 997])\n",
      "squeeze: torch.Size([100, 1, 13, 997])\n",
      "Shape post 1D:  torch.Size([100, 4, 15, 999])\n",
      "post flatten: torch.Size([100, 136136])\n",
      "Alive\n"
     ]
    },
    {
     "data": {
      "text/plain": [
       "torch.Size([100, 3])"
      ]
     },
     "execution_count": 60,
     "metadata": {},
     "output_type": "execute_result"
    }
   ],
   "source": [
    "res =clasificador(muestra_data)\n",
    "res.shape"
   ]
  },
  {
   "cell_type": "code",
   "execution_count": 45,
   "metadata": {},
   "outputs": [
    {
     "ename": "NameError",
     "evalue": "name 'self' is not defined",
     "output_type": "error",
     "traceback": [
      "\u001b[1;31m---------------------------------------------------------------------------\u001b[0m",
      "\u001b[1;31mNameError\u001b[0m                                 Traceback (most recent call last)",
      "Cell \u001b[1;32mIn[45], line 2\u001b[0m\n\u001b[0;32m      1\u001b[0m out \u001b[38;5;241m=\u001b[39m nn\u001b[38;5;241m.\u001b[39mSequential(   \u001b[38;5;66;03m# bloque que acondiciona la salida\u001b[39;00m\n\u001b[1;32m----> 2\u001b[0m     nn\u001b[38;5;241m.\u001b[39mLinear(\u001b[38;5;241m*\u001b[39m\u001b[38;5;28;43mself\u001b[39;49m\u001b[38;5;241m.\u001b[39marchitecture[\u001b[38;5;241m-\u001b[39m\u001b[38;5;241m1\u001b[39m]), \u001b[38;5;66;03m#Lineal que sale a las clases objetivo\u001b[39;00m\n\u001b[0;32m      3\u001b[0m     nn\u001b[38;5;241m.\u001b[39mSoftmax( dim \u001b[38;5;241m=\u001b[39m \u001b[38;5;241m1\u001b[39m))\n",
      "\u001b[1;31mNameError\u001b[0m: name 'self' is not defined"
     ]
    }
   ],
   "source": [
    "out = nn.Sequential(   # bloque que acondiciona la salida\n",
    "    nn.Linear(*self.architecture[-1]), #Lineal que sale a las clases objetivo\n",
    "    nn.Softmax( dim = 1))"
   ]
  },
  {
   "cell_type": "code",
   "execution_count": 61,
   "metadata": {},
   "outputs": [
    {
     "data": {
      "text/plain": [
       "tensor(1.1800, grad_fn=<DivBackward1>)"
      ]
     },
     "execution_count": 61,
     "metadata": {},
     "output_type": "execute_result"
    }
   ],
   "source": [
    "test_criterion(res,muestra_target)"
   ]
  },
  {
   "cell_type": "code",
   "execution_count": 62,
   "metadata": {},
   "outputs": [
    {
     "data": {
      "text/plain": [
       "0.3"
      ]
     },
     "execution_count": 62,
     "metadata": {},
     "output_type": "execute_result"
    }
   ],
   "source": [
    "test_accur (res, muestra_target)"
   ]
  },
  {
   "cell_type": "code",
   "execution_count": 64,
   "metadata": {},
   "outputs": [
    {
     "ename": "TypeError",
     "evalue": "_Clasificador_padre.__init__() missing 1 required positional argument: 'classes'",
     "output_type": "error",
     "traceback": [
      "\u001b[1;31m---------------------------------------------------------------------------\u001b[0m",
      "\u001b[1;31mTypeError\u001b[0m                                 Traceback (most recent call last)",
      "Cell \u001b[1;32mIn[64], line 2\u001b[0m\n\u001b[0;32m      1\u001b[0m \u001b[38;5;66;03m#importlib.reload(mi_clasificador)\u001b[39;00m\n\u001b[1;32m----> 2\u001b[0m clasificador \u001b[38;5;241m=\u001b[39m \u001b[43mmi_clasificador\u001b[49m\u001b[38;5;241;43m.\u001b[39;49m\u001b[43mClasificador_01\u001b[49m\u001b[43m(\u001b[49m\u001b[43mtestDataSet\u001b[49m\u001b[38;5;241;43m.\u001b[39;49m\u001b[43mdictionary\u001b[49m\u001b[38;5;241;43m.\u001b[39;49m\u001b[43mkeys\u001b[49m\u001b[43m(\u001b[49m\u001b[43m)\u001b[49m\u001b[43m)\u001b[49m\n\u001b[0;32m      3\u001b[0m res \u001b[38;5;241m=\u001b[39mclasificador(muestra_data)\n\u001b[0;32m      4\u001b[0m test_accur (res, muestra_target)\n",
      "File \u001b[1;32mc:\\Users\\Alenca\\Desktop\\ia\\Project\\libs\\clasificador_padre.py:144\u001b[0m, in \u001b[0;36mClasificador_01.__init__\u001b[1;34m(self, classes, load, architecture)\u001b[0m\n\u001b[0;32m    143\u001b[0m \u001b[38;5;28;01mdef\u001b[39;00m \u001b[38;5;21m__init__\u001b[39m(\u001b[38;5;28mself\u001b[39m, classes, load \u001b[38;5;241m=\u001b[39m \u001b[38;5;28;01mFalse\u001b[39;00m, architecture \u001b[38;5;241m=\u001b[39m []):\n\u001b[1;32m--> 144\u001b[0m   \u001b[38;5;28;43msuper\u001b[39;49m\u001b[43m(\u001b[49m\u001b[43m)\u001b[49m\u001b[38;5;241;43m.\u001b[39;49m\u001b[38;5;21;43m__init__\u001b[39;49m\u001b[43m(\u001b[49m\u001b[43m)\u001b[49m\n\u001b[0;32m    145\u001b[0m   \u001b[38;5;66;03m#Variables de entorno\u001b[39;00m\n\u001b[0;32m    146\u001b[0m   \u001b[38;5;28mself\u001b[39m\u001b[38;5;241m.\u001b[39mname \u001b[38;5;241m=\u001b[39m \u001b[38;5;124m\"\u001b[39m\u001b[38;5;124mclas_01\u001b[39m\u001b[38;5;124m\"\u001b[39m\n",
      "\u001b[1;31mTypeError\u001b[0m: _Clasificador_padre.__init__() missing 1 required positional argument: 'classes'"
     ]
    }
   ],
   "source": [
    "#importlib.reload(mi_clasificador)\n",
    "clasificador = mi_clasificador.Clasificador_01(testDataSet.dictionary.keys())\n",
    "res =clasificador(muestra_data)\n",
    "test_accur (res, muestra_target)\n"
   ]
  },
  {
   "cell_type": "code",
   "execution_count": 318,
   "metadata": {},
   "outputs": [
    {
     "data": {
      "text/plain": [
       "0.0"
      ]
     },
     "execution_count": 318,
     "metadata": {},
     "output_type": "execute_result"
    }
   ],
   "source": [
    "(torch.argmax(muestra_target, axis = 1) == torch.argmax(res, axis=1)).sum().item() / len(muestra_target)"
   ]
  },
  {
   "cell_type": "code",
   "execution_count": 319,
   "metadata": {},
   "outputs": [
    {
     "data": {
      "text/plain": [
       "tensor([False])"
      ]
     },
     "execution_count": 319,
     "metadata": {},
     "output_type": "execute_result"
    }
   ],
   "source": [
    "torch.argmax(muestra_target, axis = 1) == torch.argmax(res, axis=1)"
   ]
  },
  {
   "cell_type": "code",
   "execution_count": 42,
   "metadata": {},
   "outputs": [
    {
     "data": {
      "text/plain": [
       "(torch.Size([3, 3]), torch.Size([3, 3]))"
      ]
     },
     "execution_count": 42,
     "metadata": {},
     "output_type": "execute_result"
    }
   ],
   "source": [
    "muestra_target.shape, res.shape"
   ]
  },
  {
   "cell_type": "code",
   "execution_count": 43,
   "metadata": {},
   "outputs": [
    {
     "data": {
      "text/plain": [
       "tensor([0, 2, 2])"
      ]
     },
     "execution_count": 43,
     "metadata": {},
     "output_type": "execute_result"
    }
   ],
   "source": [
    "torch.argmax(res, axis = 1)"
   ]
  },
  {
   "cell_type": "code",
   "execution_count": 44,
   "metadata": {},
   "outputs": [
    {
     "data": {
      "text/plain": [
       "tensor([[9.9844e-01, 2.4358e-21, 1.5574e-03],\n",
       "        [1.7411e-05, 4.4522e-07, 9.9998e-01],\n",
       "        [0.0000e+00, 0.0000e+00, 1.0000e+00]], grad_fn=<SoftmaxBackward0>)"
      ]
     },
     "execution_count": 44,
     "metadata": {},
     "output_type": "execute_result"
    }
   ],
   "source": [
    "res"
   ]
  },
  {
   "cell_type": "code",
   "execution_count": 43,
   "metadata": {},
   "outputs": [
    {
     "data": {
      "text/plain": [
       "tensor([0, 0, 0, 0, 0])"
      ]
     },
     "execution_count": 43,
     "metadata": {},
     "output_type": "execute_result"
    }
   ],
   "source": [
    "torch.argmax(muestra_target, axis=1)"
   ]
  },
  {
   "cell_type": "code",
   "execution_count": 44,
   "metadata": {},
   "outputs": [
    {
     "data": {
      "text/plain": [
       "tensor([[1., 0., 0.],\n",
       "        [1., 0., 0.],\n",
       "        [1., 0., 0.],\n",
       "        [1., 0., 0.],\n",
       "        [1., 0., 0.]])"
      ]
     },
     "execution_count": 44,
     "metadata": {},
     "output_type": "execute_result"
    }
   ],
   "source": [
    "muestra_target"
   ]
  },
  {
   "cell_type": "code",
   "execution_count": 21,
   "metadata": {},
   "outputs": [
    {
     "data": {
      "text/plain": [
       "tensor([[False,  True, False],\n",
       "        [False,  True, False],\n",
       "        [False, False, False],\n",
       "        [False,  True, False],\n",
       "        [False, False, False]])"
      ]
     },
     "execution_count": 21,
     "metadata": {},
     "output_type": "execute_result"
    }
   ],
   "source": [
    "muestra_target == res"
   ]
  },
  {
   "cell_type": "code",
   "execution_count": 45,
   "metadata": {},
   "outputs": [
    {
     "data": {
      "text/plain": [
       "tensor([[0.0000e+00, 4.1355e-15, 1.0000e+00],\n",
       "        [0.0000e+00, 0.0000e+00, 1.0000e+00],\n",
       "        [0.0000e+00, 1.0000e+00, 4.7325e-08],\n",
       "        [0.0000e+00, 1.0000e+00, 4.9665e-37],\n",
       "        [1.1335e-33, 3.0150e-14, 1.0000e+00]], grad_fn=<SoftmaxBackward0>)"
      ]
     },
     "execution_count": 45,
     "metadata": {},
     "output_type": "execute_result"
    }
   ],
   "source": [
    "res"
   ]
  },
  {
   "cell_type": "code",
   "execution_count": null,
   "metadata": {},
   "outputs": [
    {
     "name": "stdout",
     "output_type": "stream",
     "text": [
      "Red:  torch.Size([128, 5, 28])\n",
      "Flat:  torch.Size([17920])\n",
      "Line:  torch.Size([3])\n",
      "Soft: torch.Size([3])\n"
     ]
    }
   ],
   "source": [
    "flat = nn.Flatten(start_dim = 0)\n",
    "lin = nn.Linear(17920,3)\n",
    "soft = nn.Softmax(dim = 0)\n",
    "\n",
    "print(\"Red: \",res.shape)\n",
    "aux = flat(res)\n",
    "print(\"Flat: \",aux.shape)\n",
    "aux = lin(aux)\n",
    "print(\"Line: \",aux.shape)\n",
    "aux = soft(aux)\n",
    "print(\"Soft:\",aux.shape)"
   ]
  }
 ],
 "metadata": {
  "kernelspec": {
   "display_name": "Python 3",
   "language": "python",
   "name": "python3"
  },
  "language_info": {
   "codemirror_mode": {
    "name": "ipython",
    "version": 3
   },
   "file_extension": ".py",
   "mimetype": "text/x-python",
   "name": "python",
   "nbconvert_exporter": "python",
   "pygments_lexer": "ipython3",
   "version": "3.13.1"
  }
 },
 "nbformat": 4,
 "nbformat_minor": 2
}
