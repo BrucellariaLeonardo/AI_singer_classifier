{
 "cells": [
  {
   "cell_type": "code",
   "execution_count": null,
   "metadata": {},
   "outputs": [],
   "source": []
  },
  {
   "cell_type": "code",
   "execution_count": 30,
   "metadata": {},
   "outputs": [],
   "source": [
    "import os\n",
    "import pandas as pd\n",
    "from torch import nn\n",
    "from torch.utils.data import DataLoader\n",
    "import torch\n",
    "import torchaudio\n",
    "from tqdm import tqdm\n",
    "import matplotlib.pyplot as plt\n",
    "from torchsummary import summary\n",
    "import sounddevice as sd\n",
    "\n"
   ]
  },
  {
   "cell_type": "code",
   "execution_count": 31,
   "metadata": {},
   "outputs": [],
   "source": [
    "#Correr solo si se va a plotear spectrogramas\n",
    "\n",
    "import librosa\n",
    "\n",
    "def plot_spectrogram(specgram, title=None, ylabel=\"freq_bin\", ax=None):\n",
    "    if ax is None:\n",
    "        _, ax = plt.subplots(1, 1)\n",
    "    if title is not None:\n",
    "        ax.set_title(title)\n",
    "    ax.set_ylabel(ylabel)\n",
    "    ax.imshow(librosa.power_to_db(specgram), origin=\"lower\", aspect=\"auto\", interpolation=\"nearest\")"
   ]
  },
  {
   "cell_type": "code",
   "execution_count": 32,
   "metadata": {},
   "outputs": [],
   "source": [
    "if torch.cuda.is_available():\n",
    "    device = torch.device(\"cuda\")\n",
    "else:\n",
    "    device = torch.device(\"cpu\")"
   ]
  },
  {
   "cell_type": "code",
   "execution_count": 33,
   "metadata": {},
   "outputs": [],
   "source": [
    "#librerias locales\n",
    "#from ..libs import dataLoaders as mi_dataLoader\n",
    "#from ..libs import clasificador_padre as mi_clasificador\n",
    "from importlib.machinery import SourceFileLoader\n",
    "mi_dataLoader = SourceFileLoader('dataLoadersV2', '../libs/dataLoaders_16k.py').load_module()\n",
    "mi_clasificador = SourceFileLoader('clasificador_padre', '../libs/clasificador_padreV2.py').load_module()"
   ]
  },
  {
   "cell_type": "code",
   "execution_count": 34,
   "metadata": {},
   "outputs": [],
   "source": [
    "DataSetConst = mi_dataLoader.DataSet_song_plus_rir_v4\n",
    "#DataSetRir = mi_dataLoader.data_loader_rir\n",
    "\n",
    "#import dataLoaders_16k as DataSetLib # Assumes dataLoaders_16k.py is in ../libs\n",
    "#import clasificador_padreV2 as ModelLib # Assumes clasificador_padreV2.py is in ../libs\n",
    "#DataSetConst = DataSetLib.DataSet_song_plus_rir_v4\n",
    "#ModelConst = ModelLib.onlyWoman_MFCC_16k_v8"
   ]
  },
  {
   "cell_type": "markdown",
   "metadata": {},
   "source": [
    "# Cargando los path"
   ]
  },
  {
   "cell_type": "code",
   "execution_count": 35,
   "metadata": {},
   "outputs": [],
   "source": [
    "dataSetName = '16k_songs'\n",
    "root = '.'"
   ]
  },
  {
   "cell_type": "code",
   "execution_count": 36,
   "metadata": {},
   "outputs": [],
   "source": [
    "\n",
    "while not os.path.isdir(os.path.join(root,\"data\")):\n",
    "    root = os.path.join(root,\"..\")\n",
    "\n",
    "Path_train = os.path.join(root,'data',dataSetName+'_train.csv')\n",
    "Path_val = os.path.join(root,'data',dataSetName+'_val.csv')\n",
    "Path_test = os.path.join(root,'data',dataSetName+'_test.csv')\n",
    "\n",
    "Path_rir = os.path.join(root,\"data\",\"RIR_16K\")\n",
    "Path_noise = os.path.join(root,\"data\",\"NOISE_16K\")"
   ]
  },
  {
   "cell_type": "markdown",
   "metadata": {},
   "source": [
    "#cargando los Df"
   ]
  },
  {
   "cell_type": "code",
   "execution_count": 37,
   "metadata": {},
   "outputs": [],
   "source": [
    "#cargo el data set\n",
    "trainDf = pd.read_csv(Path_train)\n",
    "testDf = pd.read_csv(Path_test)\n",
    "valDf = pd.read_csv(Path_val)\n"
   ]
  },
  {
   "cell_type": "code",
   "execution_count": 38,
   "metadata": {},
   "outputs": [],
   "source": [
    "trainDataSet = DataSetConst(trainDf, \"16k_file\", \"artist\", Path_rir, os.listdir(Path_rir), rir_prob = 0.5, seed = 98)\n"
   ]
  },
  {
   "cell_type": "code",
   "execution_count": 39,
   "metadata": {},
   "outputs": [
    {
     "data": {
      "text/plain": [
       "'..\\\\data\\\\16k_songs\\\\01. Moonlight8.flac'"
      ]
     },
     "execution_count": 39,
     "metadata": {},
     "output_type": "execute_result"
    }
   ],
   "source": [
    "trainDataSet.song_paths[1]"
   ]
  },
  {
   "cell_type": "code",
   "execution_count": 40,
   "metadata": {},
   "outputs": [
    {
     "data": {
      "text/plain": [
       "tensor([-0.0885, -0.1273, -0.0650,  ..., -0.1635, -0.1725, -0.1981])"
      ]
     },
     "execution_count": 40,
     "metadata": {},
     "output_type": "execute_result"
    }
   ],
   "source": [
    "torchaudio.load(trainDataSet.song_paths[1])[0].squeeze(0)"
   ]
  },
  {
   "cell_type": "code",
   "execution_count": 41,
   "metadata": {},
   "outputs": [],
   "source": [
    "train_dataloader = DataLoader(trainDataSet, batch_size= 128,\n",
    "                                  shuffle=True)"
   ]
  },
  {
   "cell_type": "code",
   "execution_count": 42,
   "metadata": {},
   "outputs": [],
   "source": [
    "a = train_dataloader.__iter__()"
   ]
  },
  {
   "cell_type": "code",
   "execution_count": 43,
   "metadata": {},
   "outputs": [],
   "source": [
    "b = a.__next__()"
   ]
  },
  {
   "cell_type": "code",
   "execution_count": 44,
   "metadata": {},
   "outputs": [
    {
     "data": {
      "text/plain": [
       "torch.Size([128, 160000])"
      ]
     },
     "execution_count": 44,
     "metadata": {},
     "output_type": "execute_result"
    }
   ],
   "source": [
    "b[2].shape"
   ]
  },
  {
   "cell_type": "markdown",
   "metadata": {},
   "source": [
    "sd.play(sample[0], 16000)\n",
    "sd.wait(3)\n",
    "sd.stop()"
   ]
  },
  {
   "cell_type": "markdown",
   "metadata": {},
   "source": [
    "# Convolucionando canciones con RIR"
   ]
  },
  {
   "cell_type": "markdown",
   "metadata": {},
   "source": [
    "#a = torch.stack(sample).to(device)\n",
    "#b =torch.stack(rirData[:a.shape[0]]).to(device)"
   ]
  },
  {
   "cell_type": "markdown",
   "metadata": {},
   "source": [
    "def normalizer(signal, threshold = 1e-12):\n",
    "  \"\"\"\n",
    "  Recibe una senial en formato tensor y un valor de tresh_hold. \n",
    "  Normaliza la senial a no ser que el valor de pico de la  senial sea menor al valor de threshold\n",
    "  \"\"\"\n",
    "  max_abs_val = signal.abs().max(dim=1, keepdim=True)[0]\n",
    "  condition_mask = (max_abs_val > threshold) & (max_abs_val != 1.0)\n",
    "  divisors = torch.where(condition_mask, max_abs_val, torch.ones_like(max_abs_val))\n",
    "  normalized_batch = signal / divisors\n",
    "  return normalized_batch\n",
    "\n",
    "#res = torchaudio.functional.convolve(a,b,\"full\")[:,:10*TARGET_SR]\n",
    "#res = normalizer(res).unsqueeze(1)\n",
    "#res.shape\n",
    "#torch.conv1d(torch.stack(sample).unsqueeze(0),torch.stack(rirData[0:9]).unsqueeze(0),padding=\"same\")"
   ]
  },
  {
   "cell_type": "markdown",
   "metadata": {},
   "source": [
    "sd.play(res[0,0,0:16000*10].cpu(), 16000)\n",
    "sd.wait(3)\n",
    "sd.stop()"
   ]
  },
  {
   "cell_type": "markdown",
   "metadata": {},
   "source": [
    "# Procesando las canciones en un MFCC"
   ]
  },
  {
   "cell_type": "code",
   "execution_count": 45,
   "metadata": {},
   "outputs": [],
   "source": [
    "#parametros para los calculos del mell\n",
    "TARGET_SR = 16000  # Normalmente el audio se sule usar a 16k aunque encontre papers que trabajan a 22050 o a 22k (ver V2)\n",
    "N_FFT = 512  #muestras de la fft\n",
    "W_LEN = 400  # Numero de muestras para la ventan de la  fft (seg_de_ventan *sr) \n",
    "H_LEN = 160 # paso de la ventana entre una fft y la siguiente (paso * sr)\n",
    "N_MELS = 40#26\n",
    "N_MFCC = 32#13\n",
    "\n",
    "MFCCCalculator = torchaudio.transforms.MFCC(sample_rate = TARGET_SR,\n",
    "                                            n_mfcc = int(N_MFCC),\n",
    "                                            dct_type = 2,\n",
    "                                            norm = 'ortho',\n",
    "                                            log_mels = False,\n",
    "                                            melkwargs = {\"n_fft\": N_FFT, \"hop_length\": H_LEN, \"n_mels\": N_MELS, \"center\": False},\n",
    "                                            ).to(device)"
   ]
  },
  {
   "cell_type": "markdown",
   "metadata": {},
   "source": [
    "# Generando el DataSet"
   ]
  },
  {
   "cell_type": "code",
   "execution_count": 46,
   "metadata": {},
   "outputs": [],
   "source": [
    "DataSetConst = mi_dataLoader.DataSet_song_plus_rir_v4\n",
    "trainDataSet = DataSetConst(trainDf, \"16k_file\", \"artist\", Path_rir, os.listdir(Path_rir), rir_prob = 0.5, seed = 98)"
   ]
  },
  {
   "cell_type": "code",
   "execution_count": 47,
   "metadata": {},
   "outputs": [
    {
     "data": {
      "text/plain": [
       "14520"
      ]
     },
     "execution_count": 47,
     "metadata": {},
     "output_type": "execute_result"
    }
   ],
   "source": [
    "len(trainDataSet)"
   ]
  },
  {
   "cell_type": "code",
   "execution_count": 48,
   "metadata": {},
   "outputs": [],
   "source": [
    "mi_dataLoader = SourceFileLoader('dataLoadersV2', '../libs/dataLoaders_16k.py').load_module()\n",
    "mi_clasificador = SourceFileLoader('clasificador_padre', '../libs/clasificador_padreV2.py').load_module()\n",
    "DataSetConst = mi_dataLoader.DataSet_song_plus_rir_v4\n",
    "trainDataSet = DataSetConst(trainDf, \"16k_file\", \"artist\", Path_rir, os.listdir(Path_rir), rir_prob = 0.5, seed = 98)\n"
   ]
  },
  {
   "cell_type": "markdown",
   "metadata": {},
   "source": [
    "# Generando el DataLoader"
   ]
  },
  {
   "cell_type": "code",
   "execution_count": 49,
   "metadata": {},
   "outputs": [],
   "source": [
    "train_dataloader = DataLoader(trainDataSet, batch_size=10)\n",
    "#muestra_data, muestra_target = next(iter(test_dataloader))\n",
    "#muestra_target"
   ]
  },
  {
   "cell_type": "code",
   "execution_count": 50,
   "metadata": {},
   "outputs": [],
   "source": [
    "###Muestras de especrogramas\n",
    "import multiprocessing  \n",
    "import random\n",
    "from multiprocessing import Pool\n",
    "\n",
    "if __name__ == '__main__':\n",
    "    train_features = next(iter(train_dataloader))\n",
    "#print(f\"Feature batch shape: {train_features.size()}\")\n",
    "#print(f\"Labels batch shape: {train_labels.size()}\")\n",
    "#plot_spectrogram(train_features[0], train_labels[0])\n",
    "#img = train_features[0].squeeze()\n",
    "#label = train_labels[0]\n",
    "#plt.imshow(img, cmap=\"gray\")\n",
    "#plt.show()\n",
    "#print(f\"Label: {label}\")"
   ]
  },
  {
   "cell_type": "code",
   "execution_count": 51,
   "metadata": {},
   "outputs": [
    {
     "data": {
      "text/plain": [
       "[tensor([[-0.0167, -0.0164, -0.0157,  ...,  0.0512,  0.0095, -0.0076],\n",
       "         [-0.0885, -0.1273, -0.0650,  ..., -0.1635, -0.1725, -0.1981],\n",
       "         [ 0.4641,  0.4393,  0.3556,  ...,  0.7559,  0.5722,  0.3820],\n",
       "         ...,\n",
       "         [-0.0284, -0.1655, -0.3495,  ..., -0.1546, -0.0964, -0.1586],\n",
       "         [ 0.1359,  0.0207,  0.0494,  ..., -0.4147, -0.4169, -0.4376],\n",
       "         [ 0.0673, -0.0220, -0.0782,  ..., -0.4796, -0.4644, -0.4511]]),\n",
       " tensor([[1., 0., 0., 0., 0.],\n",
       "         [1., 0., 0., 0., 0.],\n",
       "         [1., 0., 0., 0., 0.],\n",
       "         [1., 0., 0., 0., 0.],\n",
       "         [1., 0., 0., 0., 0.],\n",
       "         [1., 0., 0., 0., 0.],\n",
       "         [1., 0., 0., 0., 0.],\n",
       "         [1., 0., 0., 0., 0.],\n",
       "         [1., 0., 0., 0., 0.],\n",
       "         [1., 0., 0., 0., 0.]]),\n",
       " tensor([[ 1.3733e-03,  1.2817e-03,  1.0071e-03,  ...,  0.0000e+00,\n",
       "           0.0000e+00,  0.0000e+00],\n",
       "         [ 1.0000e+00,  0.0000e+00,  0.0000e+00,  ...,  0.0000e+00,\n",
       "           0.0000e+00,  0.0000e+00],\n",
       "         [ 1.0000e+00,  0.0000e+00,  0.0000e+00,  ...,  0.0000e+00,\n",
       "           0.0000e+00,  0.0000e+00],\n",
       "         ...,\n",
       "         [ 1.0000e+00,  0.0000e+00,  0.0000e+00,  ...,  0.0000e+00,\n",
       "           0.0000e+00,  0.0000e+00],\n",
       "         [-4.9953e-04, -6.8356e-04, -1.0253e-03,  ...,  0.0000e+00,\n",
       "           0.0000e+00,  0.0000e+00],\n",
       "         [ 1.0000e+00,  0.0000e+00,  0.0000e+00,  ...,  0.0000e+00,\n",
       "           0.0000e+00,  0.0000e+00]])]"
      ]
     },
     "execution_count": 51,
     "metadata": {},
     "output_type": "execute_result"
    }
   ],
   "source": [
    "train_features"
   ]
  },
  {
   "cell_type": "markdown",
   "metadata": {},
   "source": [
    "# instanciando un modelo"
   ]
  },
  {
   "cell_type": "code",
   "execution_count": null,
   "metadata": {},
   "outputs": [],
   "source": [
    "os.listdir('./save/state')\n",
    "pState = \"./save/state/\"\n",
    "pHist = \"./save/history/\"\n",
    "overWrite = False\n",
    "show_metrics = False\n",
    "sLoad = 0 #save state a cargar\n",
    "lr = 0.0001\n",
    "constructor = mi_clasificador.onlyWoman_MFCC_16k_v8\n",
    "\n",
    "weight_decay= 0.007"
   ]
  },
  {
   "cell_type": "code",
   "execution_count": 53,
   "metadata": {},
   "outputs": [
    {
     "data": {
      "text/plain": [
       "dict_keys(['Ariana Grande', 'Katy Perry', 'Metallica', 'Pink Floyd', 'Taylor Swift'])"
      ]
     },
     "execution_count": 53,
     "metadata": {},
     "output_type": "execute_result"
    }
   ],
   "source": [
    "trainDataSet.dictionary.keys()"
   ]
  },
  {
   "cell_type": "code",
   "execution_count": 54,
   "metadata": {},
   "outputs": [
    {
     "data": {
      "text/plain": [
       "onlyWoman_MFCC_16k_v6(\n",
       "  (transformer): MFCC(\n",
       "    (amplitude_to_DB): AmplitudeToDB()\n",
       "    (MelSpectrogram): MelSpectrogram(\n",
       "      (spectrogram): Spectrogram()\n",
       "      (mel_scale): MelScale()\n",
       "    )\n",
       "  )\n",
       "  (inPut): Sequential(\n",
       "    (0): Conv2d(1, 32, kernel_size=(3, 3), stride=(1, 1), padding=(1, 1))\n",
       "    (1): ReLU(inplace=True)\n",
       "    (2): MaxPool2d(kernel_size=2, stride=2, padding=0, dilation=1, ceil_mode=False)\n",
       "  )\n",
       "  (chanelUp): Sequential(\n",
       "    (0): Conv2d(32, 64, kernel_size=(3, 3), stride=(1, 1), padding=(1, 1))\n",
       "    (1): ReLU(inplace=True)\n",
       "    (2): MaxPool2d(kernel_size=2, stride=2, padding=0, dilation=1, ceil_mode=False)\n",
       "    (3): Conv2d(64, 128, kernel_size=(3, 3), stride=(1, 1), padding=(1, 1))\n",
       "    (4): ReLU(inplace=True)\n",
       "    (5): MaxPool2d(kernel_size=2, stride=2, padding=0, dilation=1, ceil_mode=False)\n",
       "    (6): Conv2d(128, 256, kernel_size=(3, 3), stride=(1, 1), padding=(1, 1))\n",
       "    (7): ReLU(inplace=True)\n",
       "    (8): MaxPool2d(kernel_size=2, stride=2, padding=0, dilation=1, ceil_mode=False)\n",
       "  )\n",
       "  (justTime): Sequential(\n",
       "    (0): Conv2d(256, 256, kernel_size=(3, 3), stride=(1, 1), padding=(1, 1))\n",
       "    (1): ReLU(inplace=True)\n",
       "    (2): MaxPool2d(kernel_size=2, stride=2, padding=0, dilation=1, ceil_mode=False)\n",
       "  )\n",
       "  (out): Sequential(\n",
       "    (0): Linear(in_features=7936, out_features=4096, bias=True)\n",
       "    (1): ReLU(inplace=True)\n",
       "    (2): Linear(in_features=4096, out_features=128, bias=True)\n",
       "    (3): ReLU(inplace=True)\n",
       "    (4): Linear(in_features=128, out_features=3, bias=True)\n",
       "    (5): Softmax(dim=1)\n",
       "  )\n",
       ")"
      ]
     },
     "execution_count": 54,
     "metadata": {},
     "output_type": "execute_result"
    }
   ],
   "source": [
    "clasificador = constructor(list(trainDataSet.dictionary.keys()), MFCCCalculator)\n",
    "clasificador.to(device)"
   ]
  },
  {
   "cell_type": "markdown",
   "metadata": {},
   "source": [
    "res.shape"
   ]
  },
  {
   "cell_type": "markdown",
   "metadata": {},
   "source": [
    "#mfcc = MFCCCalculator(res[0]).to(device)\n",
    "pepe = clasificador(res)"
   ]
  },
  {
   "cell_type": "code",
   "execution_count": 55,
   "metadata": {},
   "outputs": [
    {
     "name": "stdout",
     "output_type": "stream",
     "text": [
      "<bound method Module.modules of onlyWoman_MFCC_16k_v6(\n",
      "  (transformer): MFCC(\n",
      "    (amplitude_to_DB): AmplitudeToDB()\n",
      "    (MelSpectrogram): MelSpectrogram(\n",
      "      (spectrogram): Spectrogram()\n",
      "      (mel_scale): MelScale()\n",
      "    )\n",
      "  )\n",
      "  (inPut): Sequential(\n",
      "    (0): Conv2d(1, 32, kernel_size=(3, 3), stride=(1, 1), padding=(1, 1))\n",
      "    (1): ReLU(inplace=True)\n",
      "    (2): MaxPool2d(kernel_size=2, stride=2, padding=0, dilation=1, ceil_mode=False)\n",
      "  )\n",
      "  (chanelUp): Sequential(\n",
      "    (0): Conv2d(32, 64, kernel_size=(3, 3), stride=(1, 1), padding=(1, 1))\n",
      "    (1): ReLU(inplace=True)\n",
      "    (2): MaxPool2d(kernel_size=2, stride=2, padding=0, dilation=1, ceil_mode=False)\n",
      "    (3): Conv2d(64, 128, kernel_size=(3, 3), stride=(1, 1), padding=(1, 1))\n",
      "    (4): ReLU(inplace=True)\n",
      "    (5): MaxPool2d(kernel_size=2, stride=2, padding=0, dilation=1, ceil_mode=False)\n",
      "    (6): Conv2d(128, 256, kernel_size=(3, 3), stride=(1, 1), padding=(1, 1))\n",
      "    (7): ReLU(inplace=True)\n",
      "    (8): MaxPool2d(kernel_size=2, stride=2, padding=0, dilation=1, ceil_mode=False)\n",
      "  )\n",
      "  (justTime): Sequential(\n",
      "    (0): Conv2d(256, 256, kernel_size=(3, 3), stride=(1, 1), padding=(1, 1))\n",
      "    (1): ReLU(inplace=True)\n",
      "    (2): MaxPool2d(kernel_size=2, stride=2, padding=0, dilation=1, ceil_mode=False)\n",
      "  )\n",
      "  (out): Sequential(\n",
      "    (0): Linear(in_features=7936, out_features=4096, bias=True)\n",
      "    (1): ReLU(inplace=True)\n",
      "    (2): Linear(in_features=4096, out_features=128, bias=True)\n",
      "    (3): ReLU(inplace=True)\n",
      "    (4): Linear(in_features=128, out_features=3, bias=True)\n",
      "    (5): Softmax(dim=1)\n",
      "  )\n",
      ")>\n"
     ]
    }
   ],
   "source": [
    "def test_accur (prediccion, target_batch):\n",
    "    return(torch.argmax(target_batch, axis=1) == torch.argmax(prediccion, axis=1)).sum().item() / len(target_batch)\n",
    "\n",
    "\n",
    "if((len(os.listdir(pState)) == 0) or overWrite):\n",
    "    history = {}\n",
    "    history['loss'] = torch.empty(0)\n",
    "    history['acur'] = torch.empty(0)\n",
    "\n",
    "else:\n",
    "    history =  torch.load(pHist+os.listdir(pHist)[sLoad])\n",
    "\n",
    "    save_state = torch.load(pState+os.listdir(pState)[sLoad])\n",
    "    clasificador.load_state_dict(save_state)\n",
    "\n",
    "test_optimizer = torch.optim.Adam(clasificador.parameters(), lr=lr, weight_decay= weight_decay)\n",
    "test_criterion = torch.nn.CrossEntropyLoss()\n",
    "print(clasificador.modules)\n",
    "\n",
    "\n"
   ]
  },
  {
   "cell_type": "code",
   "execution_count": 56,
   "metadata": {},
   "outputs": [
    {
     "data": {
      "text/plain": [
       "ReLU(inplace=True)"
      ]
     },
     "execution_count": 56,
     "metadata": {},
     "output_type": "execute_result"
    }
   ],
   "source": [
    "clasificador.inPut[1]"
   ]
  },
  {
   "cell_type": "markdown",
   "metadata": {},
   "source": [
    "# Entrenando el modelo"
   ]
  },
  {
   "cell_type": "code",
   "execution_count": 57,
   "metadata": {},
   "outputs": [
    {
     "name": "stderr",
     "output_type": "stream",
     "text": [
      "  0%|          | 0/2 [00:00<?, ?it/s]\n",
      "  0%|          | 0/2 [00:00<?, ?it/s]\n"
     ]
    },
    {
     "ename": "RuntimeError",
     "evalue": "0D or 1D target tensor expected, multi-target not supported",
     "output_type": "error",
     "traceback": [
      "\u001b[31m---------------------------------------------------------------------------\u001b[39m",
      "\u001b[31mRuntimeError\u001b[39m                              Traceback (most recent call last)",
      "\u001b[36mCell\u001b[39m\u001b[36m \u001b[39m\u001b[32mIn[57]\u001b[39m\u001b[32m, line 16\u001b[39m\n\u001b[32m     14\u001b[39m \u001b[38;5;28;01mfor\u001b[39;00m j \u001b[38;5;129;01min\u001b[39;00m tqdm(\u001b[38;5;28mrange\u001b[39m(\u001b[32m2\u001b[39m)):\n\u001b[32m     15\u001b[39m     \u001b[38;5;28;01mfor\u001b[39;00m i \u001b[38;5;129;01min\u001b[39;00m tqdm(\u001b[38;5;28mrange\u001b[39m(\u001b[32m2\u001b[39m)):\n\u001b[32m---> \u001b[39m\u001b[32m16\u001b[39m         loss_log, acur_log = \u001b[43mclasificador\u001b[49m\u001b[43m.\u001b[49m\u001b[43mtrain_loop\u001b[49m\u001b[43m(\u001b[49m\u001b[32;43m1\u001b[39;49m\u001b[43m,\u001b[49m\u001b[43mtrain_dataloader\u001b[49m\u001b[43m,\u001b[49m\u001b[43m \u001b[49m\u001b[43mtest_optimizer\u001b[49m\u001b[43m \u001b[49m\u001b[43m,\u001b[49m\u001b[43m \u001b[49m\u001b[43mtest_criterion\u001b[49m\u001b[43m,\u001b[49m\u001b[43m \u001b[49m\u001b[43mtest_accur\u001b[49m\u001b[43m,\u001b[49m\u001b[43m \u001b[49m\u001b[43mdevice\u001b[49m\u001b[43m)\u001b[49m\n\u001b[32m     17\u001b[39m         history[\u001b[33m'\u001b[39m\u001b[33mloss\u001b[39m\u001b[33m'\u001b[39m] = torch.cat((history[\u001b[33m'\u001b[39m\u001b[33mloss\u001b[39m\u001b[33m'\u001b[39m], loss_log), dim=\u001b[32m0\u001b[39m)\n\u001b[32m     18\u001b[39m         history[\u001b[33m'\u001b[39m\u001b[33macur\u001b[39m\u001b[33m'\u001b[39m] = torch.cat((history[\u001b[33m'\u001b[39m\u001b[33macur\u001b[39m\u001b[33m'\u001b[39m], acur_log), dim=\u001b[32m0\u001b[39m)\n",
      "\u001b[36mFile \u001b[39m\u001b[32mc:\\Users\\leona\\OneDrive\\Desktop\\ia\\Project\\libs\\clasificador_padreV2.py:89\u001b[39m, in \u001b[36m_Clasificador_padre.train_loop\u001b[39m\u001b[34m(self, epochs, data_loader, optimizer, loss_fn, acuracy_fn, device)\u001b[39m\n\u001b[32m     87\u001b[39m accuracy_list = torch.empty(\u001b[32m0\u001b[39m)\n\u001b[32m     88\u001b[39m \u001b[38;5;28;01mfor\u001b[39;00m epoch \u001b[38;5;129;01min\u001b[39;00m \u001b[38;5;28mrange\u001b[39m(epochs):\n\u001b[32m---> \u001b[39m\u001b[32m89\u001b[39m   new_loss, new_accuracy = \u001b[38;5;28;43mself\u001b[39;49m\u001b[43m.\u001b[49m\u001b[43mtrain_epoch\u001b[49m\u001b[43m(\u001b[49m\u001b[43mdata_loader\u001b[49m\u001b[43m,\u001b[49m\u001b[43m \u001b[49m\u001b[43moptimizer\u001b[49m\u001b[43m,\u001b[49m\u001b[43m \u001b[49m\u001b[43mloss_fn\u001b[49m\u001b[43m,\u001b[49m\u001b[43m \u001b[49m\u001b[43macuracy_fn\u001b[49m\u001b[43m,\u001b[49m\u001b[43m \u001b[49m\u001b[43mdevice\u001b[49m\u001b[43m)\u001b[49m\n\u001b[32m     90\u001b[39m   \u001b[38;5;66;03m#Guardo la metrica\u001b[39;00m\n\u001b[32m     91\u001b[39m   \u001b[38;5;28;01mwith\u001b[39;00m torch.no_grad():\n",
      "\u001b[36mFile \u001b[39m\u001b[32mc:\\Users\\leona\\OneDrive\\Desktop\\ia\\Project\\libs\\clasificador_padreV2.py:66\u001b[39m, in \u001b[36m_Clasificador_padre.train_epoch\u001b[39m\u001b[34m(self, data_loader, optimizer, loss_fn, acuracy_fn, device)\u001b[39m\n\u001b[32m     64\u001b[39m optimizer.zero_grad()\n\u001b[32m     65\u001b[39m prediccion = \u001b[38;5;28mself\u001b[39m(input_batch)\n\u001b[32m---> \u001b[39m\u001b[32m66\u001b[39m loss = \u001b[43mloss_fn\u001b[49m\u001b[43m(\u001b[49m\u001b[43mprediccion\u001b[49m\u001b[43m,\u001b[49m\u001b[43m \u001b[49m\u001b[43mtarget_batch\u001b[49m\u001b[43m)\u001b[49m\n\u001b[32m     67\u001b[39m loss.backward()\n\u001b[32m     68\u001b[39m optimizer.step()\n",
      "\u001b[36mFile \u001b[39m\u001b[32mc:\\Users\\leona\\AppData\\Local\\Programs\\Python\\Python313\\Lib\\site-packages\\torch\\nn\\modules\\module.py:1739\u001b[39m, in \u001b[36mModule._wrapped_call_impl\u001b[39m\u001b[34m(self, *args, **kwargs)\u001b[39m\n\u001b[32m   1737\u001b[39m     \u001b[38;5;28;01mreturn\u001b[39;00m \u001b[38;5;28mself\u001b[39m._compiled_call_impl(*args, **kwargs)  \u001b[38;5;66;03m# type: ignore[misc]\u001b[39;00m\n\u001b[32m   1738\u001b[39m \u001b[38;5;28;01melse\u001b[39;00m:\n\u001b[32m-> \u001b[39m\u001b[32m1739\u001b[39m     \u001b[38;5;28;01mreturn\u001b[39;00m \u001b[38;5;28;43mself\u001b[39;49m\u001b[43m.\u001b[49m\u001b[43m_call_impl\u001b[49m\u001b[43m(\u001b[49m\u001b[43m*\u001b[49m\u001b[43margs\u001b[49m\u001b[43m,\u001b[49m\u001b[43m \u001b[49m\u001b[43m*\u001b[49m\u001b[43m*\u001b[49m\u001b[43mkwargs\u001b[49m\u001b[43m)\u001b[49m\n",
      "\u001b[36mFile \u001b[39m\u001b[32mc:\\Users\\leona\\AppData\\Local\\Programs\\Python\\Python313\\Lib\\site-packages\\torch\\nn\\modules\\module.py:1750\u001b[39m, in \u001b[36mModule._call_impl\u001b[39m\u001b[34m(self, *args, **kwargs)\u001b[39m\n\u001b[32m   1745\u001b[39m \u001b[38;5;66;03m# If we don't have any hooks, we want to skip the rest of the logic in\u001b[39;00m\n\u001b[32m   1746\u001b[39m \u001b[38;5;66;03m# this function, and just call forward.\u001b[39;00m\n\u001b[32m   1747\u001b[39m \u001b[38;5;28;01mif\u001b[39;00m \u001b[38;5;129;01mnot\u001b[39;00m (\u001b[38;5;28mself\u001b[39m._backward_hooks \u001b[38;5;129;01mor\u001b[39;00m \u001b[38;5;28mself\u001b[39m._backward_pre_hooks \u001b[38;5;129;01mor\u001b[39;00m \u001b[38;5;28mself\u001b[39m._forward_hooks \u001b[38;5;129;01mor\u001b[39;00m \u001b[38;5;28mself\u001b[39m._forward_pre_hooks\n\u001b[32m   1748\u001b[39m         \u001b[38;5;129;01mor\u001b[39;00m _global_backward_pre_hooks \u001b[38;5;129;01mor\u001b[39;00m _global_backward_hooks\n\u001b[32m   1749\u001b[39m         \u001b[38;5;129;01mor\u001b[39;00m _global_forward_hooks \u001b[38;5;129;01mor\u001b[39;00m _global_forward_pre_hooks):\n\u001b[32m-> \u001b[39m\u001b[32m1750\u001b[39m     \u001b[38;5;28;01mreturn\u001b[39;00m \u001b[43mforward_call\u001b[49m\u001b[43m(\u001b[49m\u001b[43m*\u001b[49m\u001b[43margs\u001b[49m\u001b[43m,\u001b[49m\u001b[43m \u001b[49m\u001b[43m*\u001b[49m\u001b[43m*\u001b[49m\u001b[43mkwargs\u001b[49m\u001b[43m)\u001b[49m\n\u001b[32m   1752\u001b[39m result = \u001b[38;5;28;01mNone\u001b[39;00m\n\u001b[32m   1753\u001b[39m called_always_called_hooks = \u001b[38;5;28mset\u001b[39m()\n",
      "\u001b[36mFile \u001b[39m\u001b[32mc:\\Users\\leona\\AppData\\Local\\Programs\\Python\\Python313\\Lib\\site-packages\\torch\\nn\\modules\\loss.py:1295\u001b[39m, in \u001b[36mCrossEntropyLoss.forward\u001b[39m\u001b[34m(self, input, target)\u001b[39m\n\u001b[32m   1294\u001b[39m \u001b[38;5;28;01mdef\u001b[39;00m\u001b[38;5;250m \u001b[39m\u001b[34mforward\u001b[39m(\u001b[38;5;28mself\u001b[39m, \u001b[38;5;28minput\u001b[39m: Tensor, target: Tensor) -> Tensor:\n\u001b[32m-> \u001b[39m\u001b[32m1295\u001b[39m     \u001b[38;5;28;01mreturn\u001b[39;00m \u001b[43mF\u001b[49m\u001b[43m.\u001b[49m\u001b[43mcross_entropy\u001b[49m\u001b[43m(\u001b[49m\n\u001b[32m   1296\u001b[39m \u001b[43m        \u001b[49m\u001b[38;5;28;43minput\u001b[39;49m\u001b[43m,\u001b[49m\n\u001b[32m   1297\u001b[39m \u001b[43m        \u001b[49m\u001b[43mtarget\u001b[49m\u001b[43m,\u001b[49m\n\u001b[32m   1298\u001b[39m \u001b[43m        \u001b[49m\u001b[43mweight\u001b[49m\u001b[43m=\u001b[49m\u001b[38;5;28;43mself\u001b[39;49m\u001b[43m.\u001b[49m\u001b[43mweight\u001b[49m\u001b[43m,\u001b[49m\n\u001b[32m   1299\u001b[39m \u001b[43m        \u001b[49m\u001b[43mignore_index\u001b[49m\u001b[43m=\u001b[49m\u001b[38;5;28;43mself\u001b[39;49m\u001b[43m.\u001b[49m\u001b[43mignore_index\u001b[49m\u001b[43m,\u001b[49m\n\u001b[32m   1300\u001b[39m \u001b[43m        \u001b[49m\u001b[43mreduction\u001b[49m\u001b[43m=\u001b[49m\u001b[38;5;28;43mself\u001b[39;49m\u001b[43m.\u001b[49m\u001b[43mreduction\u001b[49m\u001b[43m,\u001b[49m\n\u001b[32m   1301\u001b[39m \u001b[43m        \u001b[49m\u001b[43mlabel_smoothing\u001b[49m\u001b[43m=\u001b[49m\u001b[38;5;28;43mself\u001b[39;49m\u001b[43m.\u001b[49m\u001b[43mlabel_smoothing\u001b[49m\u001b[43m,\u001b[49m\n\u001b[32m   1302\u001b[39m \u001b[43m    \u001b[49m\u001b[43m)\u001b[49m\n",
      "\u001b[36mFile \u001b[39m\u001b[32mc:\\Users\\leona\\AppData\\Local\\Programs\\Python\\Python313\\Lib\\site-packages\\torch\\nn\\functional.py:3494\u001b[39m, in \u001b[36mcross_entropy\u001b[39m\u001b[34m(input, target, weight, size_average, ignore_index, reduce, reduction, label_smoothing)\u001b[39m\n\u001b[32m   3492\u001b[39m \u001b[38;5;28;01mif\u001b[39;00m size_average \u001b[38;5;129;01mis\u001b[39;00m \u001b[38;5;129;01mnot\u001b[39;00m \u001b[38;5;28;01mNone\u001b[39;00m \u001b[38;5;129;01mor\u001b[39;00m reduce \u001b[38;5;129;01mis\u001b[39;00m \u001b[38;5;129;01mnot\u001b[39;00m \u001b[38;5;28;01mNone\u001b[39;00m:\n\u001b[32m   3493\u001b[39m     reduction = _Reduction.legacy_get_string(size_average, reduce)\n\u001b[32m-> \u001b[39m\u001b[32m3494\u001b[39m \u001b[38;5;28;01mreturn\u001b[39;00m \u001b[43mtorch\u001b[49m\u001b[43m.\u001b[49m\u001b[43m_C\u001b[49m\u001b[43m.\u001b[49m\u001b[43m_nn\u001b[49m\u001b[43m.\u001b[49m\u001b[43mcross_entropy_loss\u001b[49m\u001b[43m(\u001b[49m\n\u001b[32m   3495\u001b[39m \u001b[43m    \u001b[49m\u001b[38;5;28;43minput\u001b[39;49m\u001b[43m,\u001b[49m\n\u001b[32m   3496\u001b[39m \u001b[43m    \u001b[49m\u001b[43mtarget\u001b[49m\u001b[43m,\u001b[49m\n\u001b[32m   3497\u001b[39m \u001b[43m    \u001b[49m\u001b[43mweight\u001b[49m\u001b[43m,\u001b[49m\n\u001b[32m   3498\u001b[39m \u001b[43m    \u001b[49m\u001b[43m_Reduction\u001b[49m\u001b[43m.\u001b[49m\u001b[43mget_enum\u001b[49m\u001b[43m(\u001b[49m\u001b[43mreduction\u001b[49m\u001b[43m)\u001b[49m\u001b[43m,\u001b[49m\n\u001b[32m   3499\u001b[39m \u001b[43m    \u001b[49m\u001b[43mignore_index\u001b[49m\u001b[43m,\u001b[49m\n\u001b[32m   3500\u001b[39m \u001b[43m    \u001b[49m\u001b[43mlabel_smoothing\u001b[49m\u001b[43m,\u001b[49m\n\u001b[32m   3501\u001b[39m \u001b[43m\u001b[49m\u001b[43m)\u001b[49m\n",
      "\u001b[31mRuntimeError\u001b[39m: 0D or 1D target tensor expected, multi-target not supported"
     ]
    }
   ],
   "source": [
    "%matplotlib qt5\n",
    "\n",
    "if show_metrics:\n",
    "    plt.ion()\n",
    "    fig, axes = plt.subplots(nrows=2, ncols=1, figsize = (6,6))\n",
    "    l1, = axes[0].plot([], [])\n",
    "    l2, = axes[1].plot([], [])\n",
    "    axes[0].set_xlabel('Epoch')\n",
    "    axes[0].set_ylabel('Acur')\n",
    "\n",
    "    axes[1].set_xlabel('Epoch')\n",
    "    axes[1].set_ylabel('Loss')\n",
    "\n",
    "for j in tqdm(range(2)):\n",
    "    for i in tqdm(range(2)):\n",
    "        loss_log, acur_log = clasificador.train_loop(1,train_dataloader, test_optimizer , test_criterion, test_accur, device)\n",
    "        history['loss'] = torch.cat((history['loss'], loss_log), dim=0)\n",
    "        history['acur'] = torch.cat((history['acur'], acur_log), dim=0)\n",
    "        \n",
    "        if show_metrics:\n",
    "            # Grafica\n",
    "            l1.set_data(range(len(history['acur'])), history['acur'])\n",
    "            axes[0].relim()  # Recalculate data limits\n",
    "            axes[0].autoscale_view()  # Rescale axes\n",
    "\n",
    "            l2.set_data(range(len(history['loss'])), history['loss'])\n",
    "            axes[1].relim()  # Recalculate data limits\n",
    "            axes[1].autoscale_view()  # Rescale axes\n",
    "            \n",
    "            fig.canvas.draw()  # Redraw the figure\n",
    "            fig.canvas.flush_events()  # Ensure events are processed\n",
    "            plt.pause(0.5)\n",
    "\n",
    "    save_state = clasificador.state_dict()\n",
    "    n = len(os.listdir(pState))\n",
    "    torch.save(save_state, f\"{pState}/ss_{n}.pt\")\n",
    "    torch.save(history, f\"{pHist}/hist_{n}.pt\")\n",
    "\n",
    "if show_metrics:\n",
    "    plt.ioff()\n",
    "    plt.show()"
   ]
  },
  {
   "cell_type": "markdown",
   "metadata": {},
   "source": [
    "# Validando"
   ]
  },
  {
   "cell_type": "code",
   "execution_count": 24,
   "metadata": {},
   "outputs": [
    {
     "name": "stderr",
     "output_type": "stream",
     "text": [
      "100%|██████████| 2613/2613 [00:07<00:00, 331.18it/s]\n"
     ]
    },
    {
     "name": "stdout",
     "output_type": "stream",
     "text": [
      "Cargando archivos RIR:\n"
     ]
    },
    {
     "name": "stderr",
     "output_type": "stream",
     "text": [
      "100%|██████████| 325/325 [00:00<00:00, 706.01it/s]\n"
     ]
    }
   ],
   "source": [
    "valDataSet = DataSetConst(valDf, \"16k_file\", \"artist\", Path_rir, os.listdir(Path_rir), rir_prob = 0, seed = 98)"
   ]
  },
  {
   "cell_type": "code",
   "execution_count": 25,
   "metadata": {},
   "outputs": [
    {
     "name": "stderr",
     "output_type": "stream",
     "text": [
      "  0%|          | 0/27 [00:00<?, ?it/s]"
     ]
    },
    {
     "name": "stderr",
     "output_type": "stream",
     "text": [
      "C:\\Users\\leona\\AppData\\Local\\Temp\\ipykernel_14276\\1863531830.py:15: UserWarning: To copy construct from a tensor, it is recommended to use sourceTensor.clone().detach() or sourceTensor.clone().detach().requires_grad_(True), rather than torch.tensor(sourceTensor).\n",
      "  targets.append(torch.tensor(muestra_target))\n",
      "100%|██████████| 27/27 [00:02<00:00, 12.96it/s]\n",
      "100%|██████████| 27/27 [01:37<00:00,  3.61s/it]"
     ]
    },
    {
     "name": "stdout",
     "output_type": "stream",
     "text": [
      "(0.6904457719237717, 0.8608547008547011)\n"
     ]
    },
    {
     "name": "stderr",
     "output_type": "stream",
     "text": [
      "\n"
     ]
    }
   ],
   "source": [
    "def acuracy_fn (prediccion, target_batch):\n",
    "    return(torch.argmax(target_batch, axis=1) == torch.argmax(prediccion, axis=1)).sum().item() / len(target_batch)\n",
    "\n",
    "\n",
    "#Carga de las muestras y el DataLoader\n",
    "#valDf = pd.read_csv(Path_val)\n",
    "#valDataSet = mi_dataLoader.clasification_dataset(valDf, file_col=\"fileMfcc\", target_col=\"artist\", seed = 98)\n",
    "val_dataloader = DataLoader(valDataSet, batch_size=100, shuffle=False)\n",
    "\n",
    "#Separando las muestras y los targets\n",
    "muestras = []\n",
    "targets = []\n",
    "for muestra_data, muestra_target, muestra_rir in tqdm(val_dataloader):\n",
    "    muestras.append(muestra_data)\n",
    "    targets.append(torch.tensor(muestra_target))\n",
    "\n",
    "loss_fn = torch.nn.CrossEntropyLoss()\n",
    "resultado_evalucion = clasificador.evaluate(val_dataloader, loss_fn, acuracy_fn, device)\n",
    "print(resultado_evalucion)\n"
   ]
  },
  {
   "cell_type": "markdown",
   "metadata": {},
   "source": [
    "A continuacion se levantan los distintos save state generados para generar una comparacion entre las distintas performance en el validation set"
   ]
  },
  {
   "cell_type": "code",
   "execution_count": 26,
   "metadata": {},
   "outputs": [
    {
     "name": "stderr",
     "output_type": "stream",
     "text": [
      "100%|██████████| 27/27 [01:36<00:00,  3.59s/it]\n",
      "100%|██████████| 27/27 [01:37<00:00,  3.61s/it]\n",
      "100%|██████████| 27/27 [01:37<00:00,  3.63s/it]\n",
      "100%|██████████| 27/27 [01:41<00:00,  3.77s/it]\n",
      "100%|██████████| 27/27 [01:33<00:00,  3.45s/it]\n",
      "100%|██████████| 27/27 [01:34<00:00,  3.51s/it]\n",
      "100%|██████████| 27/27 [01:33<00:00,  3.47s/it]\n",
      "100%|██████████| 27/27 [01:34<00:00,  3.51s/it]\n",
      "100%|██████████| 27/27 [01:34<00:00,  3.49s/it]\n",
      "100%|██████████| 27/27 [01:32<00:00,  3.42s/it]\n"
     ]
    },
    {
     "data": {
      "text/plain": [
       "[(0.9417261459209301, 0.5927065527065527),\n",
       " (0.7927345501052009, 0.761082621082621),\n",
       " (0.7561724340474164, 0.8023361823361823),\n",
       " (0.7501598993937174, 0.8019373219373221),\n",
       " (0.8395425346162584, 0.7107122507122506),\n",
       " (0.7648259268866645, 0.7905982905982905),\n",
       " (0.8374022598619815, 0.7035327635327637),\n",
       " (0.7038821578025818, 0.8482621082621081),\n",
       " (0.703118171956804, 0.8449287749287749),\n",
       " (0.6904457719237717, 0.8608547008547011)]"
      ]
     },
     "execution_count": 26,
     "metadata": {},
     "output_type": "execute_result"
    }
   ],
   "source": [
    "val_histo = []\n",
    "max_acur = 0\n",
    "mejor = None\n",
    "for ss_name in os.listdir(f\"{pState}/\"):\n",
    "    ss_load = torch.load(f\"{pState}{ss_name}\")\n",
    "    clasificador.load_state_dict(ss_load)\n",
    "    resultado_evalucion = clasificador.evaluate(val_dataloader, loss_fn, acuracy_fn, device)\n",
    "    val_histo.append(resultado_evalucion)\n",
    "    if resultado_evalucion[1] > max_acur:\n",
    "        max_acur = resultado_evalucion[1]\n",
    "        mejor = ss_load\n",
    "val_histo"
   ]
  },
  {
   "cell_type": "markdown",
   "metadata": {},
   "source": [
    "# Test set"
   ]
  },
  {
   "cell_type": "code",
   "execution_count": 52,
   "metadata": {},
   "outputs": [
    {
     "ename": "AttributeError",
     "evalue": "module 'dataLoadersV2' has no attribute 'clasification_dataset'",
     "output_type": "error",
     "traceback": [
      "\u001b[31m---------------------------------------------------------------------------\u001b[39m",
      "\u001b[31mAttributeError\u001b[39m                            Traceback (most recent call last)",
      "\u001b[36mCell\u001b[39m\u001b[36m \u001b[39m\u001b[32mIn[52]\u001b[39m\u001b[32m, line 3\u001b[39m\n\u001b[32m      1\u001b[39m \u001b[38;5;66;03m#Carga de las muestras y el DataLoader\u001b[39;00m\n\u001b[32m      2\u001b[39m testDf = pd.read_csv(Path_test)\n\u001b[32m----> \u001b[39m\u001b[32m3\u001b[39m testDataSet = \u001b[43mmi_dataLoader\u001b[49m\u001b[43m.\u001b[49m\u001b[43mclasification_dataset\u001b[49m(testDf, file_col=\u001b[33m\"\u001b[39m\u001b[33mfileMfcc\u001b[39m\u001b[33m\"\u001b[39m, target_col=\u001b[33m\"\u001b[39m\u001b[33martist\u001b[39m\u001b[33m\"\u001b[39m, seed = \u001b[32m98\u001b[39m)\n\u001b[32m      4\u001b[39m test_dataloader = DataLoader(testDataSet, batch_size=\u001b[32m100\u001b[39m, shuffle=\u001b[38;5;28;01mFalse\u001b[39;00m)\n\u001b[32m      6\u001b[39m clasificador.load_state_dict(mejor)\n",
      "\u001b[31mAttributeError\u001b[39m: module 'dataLoadersV2' has no attribute 'clasification_dataset'"
     ]
    }
   ],
   "source": [
    "#Carga de las muestras y el DataLoader\n",
    "testDf = pd.read_csv(Path_test)\n",
    "testDataSet = mi_dataLoader.clasification_dataset(testDf, file_col=\"fileMfcc\", target_col=\"artist\", seed = 98)\n",
    "test_dataloader = DataLoader(testDataSet, batch_size=100, shuffle=False)\n",
    "\n",
    "clasificador.load_state_dict(mejor)\n",
    "clasificador.evaluate(test_dataloader, loss_fn, acuracy_fn, device)"
   ]
  },
  {
   "cell_type": "markdown",
   "metadata": {},
   "source": [
    "## Codigo usado mientras se generaba la arquitectura (osea, codigo desechable)"
   ]
  },
  {
   "cell_type": "code",
   "execution_count": null,
   "metadata": {},
   "outputs": [],
   "source": [
    "mi_clasificador = SourceFileLoader('clasificador_padre', '../libs/clasificador_padre.py').load_module()"
   ]
  },
  {
   "cell_type": "code",
   "execution_count": 24,
   "metadata": {},
   "outputs": [
    {
     "data": {
      "text/plain": [
       "torch.Size([100, 13, 997])"
      ]
     },
     "execution_count": 24,
     "metadata": {},
     "output_type": "execute_result"
    }
   ],
   "source": [
    "muestra_data, muestra_target = next(iter(test_dataloader))\n",
    "#muestra = torch.stack(muestra, 0)\n",
    "muestra_data.shape"
   ]
  },
  {
   "cell_type": "code",
   "execution_count": 59,
   "metadata": {},
   "outputs": [],
   "source": [
    "mi_clasificador = SourceFileLoader('clasificador_padre', '../libs/clasificador_padre.py').load_module()\n",
    "clasificador = mi_clasificador.onlyWoman_MFCC_01(list(testDataSet.dictionary.keys()))"
   ]
  },
  {
   "cell_type": "code",
   "execution_count": 60,
   "metadata": {},
   "outputs": [
    {
     "name": "stdout",
     "output_type": "stream",
     "text": [
      "In: torch.Size([100, 13, 997])\n",
      "squeeze: torch.Size([100, 1, 13, 997])\n",
      "Shape post 1D:  torch.Size([100, 4, 15, 999])\n",
      "post flatten: torch.Size([100, 136136])\n",
      "Alive\n"
     ]
    },
    {
     "data": {
      "text/plain": [
       "torch.Size([100, 3])"
      ]
     },
     "execution_count": 60,
     "metadata": {},
     "output_type": "execute_result"
    }
   ],
   "source": [
    "res =clasificador(muestra_data)\n",
    "res.shape"
   ]
  },
  {
   "cell_type": "code",
   "execution_count": null,
   "metadata": {},
   "outputs": [
    {
     "ename": "NameError",
     "evalue": "name 'self' is not defined",
     "output_type": "error",
     "traceback": [
      "\u001b[1;31m---------------------------------------------------------------------------\u001b[0m",
      "\u001b[1;31mNameError\u001b[0m                                 Traceback (most recent call last)",
      "Cell \u001b[1;32mIn[45], line 2\u001b[0m\n\u001b[0;32m      1\u001b[0m out \u001b[38;5;241m=\u001b[39m nn\u001b[38;5;241m.\u001b[39mSequential(   \u001b[38;5;66;03m# bloque que acondiciona la salida\u001b[39;00m\n\u001b[1;32m----> 2\u001b[0m     nn\u001b[38;5;241m.\u001b[39mLinear(\u001b[38;5;241m*\u001b[39m\u001b[38;5;28;43mself\u001b[39;49m\u001b[38;5;241m.\u001b[39marchitecture[\u001b[38;5;241m-\u001b[39m\u001b[38;5;241m1\u001b[39m]), \u001b[38;5;66;03m#Lineal que sale a las clases objetivo\u001b[39;00m\n\u001b[0;32m      3\u001b[0m     nn\u001b[38;5;241m.\u001b[39mSoftmax( dim \u001b[38;5;241m=\u001b[39m \u001b[38;5;241m1\u001b[39m))\n",
      "\u001b[1;31mNameError\u001b[0m: name 'self' is not defined"
     ]
    }
   ],
   "source": [
    "out = nn.Sequential(   # bloque que acondiciona la salida\n",
    "    #nn.Linear(*self.architecture[-1]), #Lineal que sale a las clases objetivo\n",
    "    nn.Softmax( dim = 1))"
   ]
  },
  {
   "cell_type": "code",
   "execution_count": 61,
   "metadata": {},
   "outputs": [
    {
     "data": {
      "text/plain": [
       "tensor(1.1800, grad_fn=<DivBackward1>)"
      ]
     },
     "execution_count": 61,
     "metadata": {},
     "output_type": "execute_result"
    }
   ],
   "source": [
    "test_criterion(res,muestra_target)"
   ]
  },
  {
   "cell_type": "code",
   "execution_count": 62,
   "metadata": {},
   "outputs": [
    {
     "data": {
      "text/plain": [
       "0.3"
      ]
     },
     "execution_count": 62,
     "metadata": {},
     "output_type": "execute_result"
    }
   ],
   "source": [
    "test_accur (res, muestra_target)"
   ]
  },
  {
   "cell_type": "code",
   "execution_count": 64,
   "metadata": {},
   "outputs": [
    {
     "ename": "TypeError",
     "evalue": "_Clasificador_padre.__init__() missing 1 required positional argument: 'classes'",
     "output_type": "error",
     "traceback": [
      "\u001b[1;31m---------------------------------------------------------------------------\u001b[0m",
      "\u001b[1;31mTypeError\u001b[0m                                 Traceback (most recent call last)",
      "Cell \u001b[1;32mIn[64], line 2\u001b[0m\n\u001b[0;32m      1\u001b[0m \u001b[38;5;66;03m#importlib.reload(mi_clasificador)\u001b[39;00m\n\u001b[1;32m----> 2\u001b[0m clasificador \u001b[38;5;241m=\u001b[39m \u001b[43mmi_clasificador\u001b[49m\u001b[38;5;241;43m.\u001b[39;49m\u001b[43mClasificador_01\u001b[49m\u001b[43m(\u001b[49m\u001b[43mtestDataSet\u001b[49m\u001b[38;5;241;43m.\u001b[39;49m\u001b[43mdictionary\u001b[49m\u001b[38;5;241;43m.\u001b[39;49m\u001b[43mkeys\u001b[49m\u001b[43m(\u001b[49m\u001b[43m)\u001b[49m\u001b[43m)\u001b[49m\n\u001b[0;32m      3\u001b[0m res \u001b[38;5;241m=\u001b[39mclasificador(muestra_data)\n\u001b[0;32m      4\u001b[0m test_accur (res, muestra_target)\n",
      "File \u001b[1;32mc:\\Users\\Alenca\\Desktop\\ia\\Project\\libs\\clasificador_padre.py:144\u001b[0m, in \u001b[0;36mClasificador_01.__init__\u001b[1;34m(self, classes, load, architecture)\u001b[0m\n\u001b[0;32m    143\u001b[0m \u001b[38;5;28;01mdef\u001b[39;00m \u001b[38;5;21m__init__\u001b[39m(\u001b[38;5;28mself\u001b[39m, classes, load \u001b[38;5;241m=\u001b[39m \u001b[38;5;28;01mFalse\u001b[39;00m, architecture \u001b[38;5;241m=\u001b[39m []):\n\u001b[1;32m--> 144\u001b[0m   \u001b[38;5;28;43msuper\u001b[39;49m\u001b[43m(\u001b[49m\u001b[43m)\u001b[49m\u001b[38;5;241;43m.\u001b[39;49m\u001b[38;5;21;43m__init__\u001b[39;49m\u001b[43m(\u001b[49m\u001b[43m)\u001b[49m\n\u001b[0;32m    145\u001b[0m   \u001b[38;5;66;03m#Variables de entorno\u001b[39;00m\n\u001b[0;32m    146\u001b[0m   \u001b[38;5;28mself\u001b[39m\u001b[38;5;241m.\u001b[39mname \u001b[38;5;241m=\u001b[39m \u001b[38;5;124m\"\u001b[39m\u001b[38;5;124mclas_01\u001b[39m\u001b[38;5;124m\"\u001b[39m\n",
      "\u001b[1;31mTypeError\u001b[0m: _Clasificador_padre.__init__() missing 1 required positional argument: 'classes'"
     ]
    }
   ],
   "source": [
    "#importlib.reload(mi_clasificador)\n",
    "clasificador = mi_clasificador.Clasificador_01(testDataSet.dictionary.keys())\n",
    "res =clasificador(muestra_data)\n",
    "test_accur (res, muestra_target)\n"
   ]
  },
  {
   "cell_type": "code",
   "execution_count": 318,
   "metadata": {},
   "outputs": [
    {
     "data": {
      "text/plain": [
       "0.0"
      ]
     },
     "execution_count": 318,
     "metadata": {},
     "output_type": "execute_result"
    }
   ],
   "source": [
    "(torch.argmax(muestra_target, axis = 1) == torch.argmax(res, axis=1)).sum().item() / len(muestra_target)"
   ]
  },
  {
   "cell_type": "code",
   "execution_count": 319,
   "metadata": {},
   "outputs": [
    {
     "data": {
      "text/plain": [
       "tensor([False])"
      ]
     },
     "execution_count": 319,
     "metadata": {},
     "output_type": "execute_result"
    }
   ],
   "source": [
    "torch.argmax(muestra_target, axis = 1) == torch.argmax(res, axis=1)"
   ]
  },
  {
   "cell_type": "code",
   "execution_count": 42,
   "metadata": {},
   "outputs": [
    {
     "data": {
      "text/plain": [
       "(torch.Size([3, 3]), torch.Size([3, 3]))"
      ]
     },
     "execution_count": 42,
     "metadata": {},
     "output_type": "execute_result"
    }
   ],
   "source": [
    "muestra_target.shape, res.shape"
   ]
  },
  {
   "cell_type": "code",
   "execution_count": 43,
   "metadata": {},
   "outputs": [
    {
     "data": {
      "text/plain": [
       "tensor([0, 2, 2])"
      ]
     },
     "execution_count": 43,
     "metadata": {},
     "output_type": "execute_result"
    }
   ],
   "source": [
    "torch.argmax(res, axis = 1)"
   ]
  },
  {
   "cell_type": "code",
   "execution_count": 44,
   "metadata": {},
   "outputs": [
    {
     "data": {
      "text/plain": [
       "tensor([[9.9844e-01, 2.4358e-21, 1.5574e-03],\n",
       "        [1.7411e-05, 4.4522e-07, 9.9998e-01],\n",
       "        [0.0000e+00, 0.0000e+00, 1.0000e+00]], grad_fn=<SoftmaxBackward0>)"
      ]
     },
     "execution_count": 44,
     "metadata": {},
     "output_type": "execute_result"
    }
   ],
   "source": [
    "res"
   ]
  },
  {
   "cell_type": "code",
   "execution_count": 43,
   "metadata": {},
   "outputs": [
    {
     "data": {
      "text/plain": [
       "tensor([0, 0, 0, 0, 0])"
      ]
     },
     "execution_count": 43,
     "metadata": {},
     "output_type": "execute_result"
    }
   ],
   "source": [
    "torch.argmax(muestra_target, axis=1)"
   ]
  },
  {
   "cell_type": "code",
   "execution_count": 44,
   "metadata": {},
   "outputs": [
    {
     "data": {
      "text/plain": [
       "tensor([[1., 0., 0.],\n",
       "        [1., 0., 0.],\n",
       "        [1., 0., 0.],\n",
       "        [1., 0., 0.],\n",
       "        [1., 0., 0.]])"
      ]
     },
     "execution_count": 44,
     "metadata": {},
     "output_type": "execute_result"
    }
   ],
   "source": [
    "muestra_target"
   ]
  },
  {
   "cell_type": "code",
   "execution_count": 21,
   "metadata": {},
   "outputs": [
    {
     "data": {
      "text/plain": [
       "tensor([[False,  True, False],\n",
       "        [False,  True, False],\n",
       "        [False, False, False],\n",
       "        [False,  True, False],\n",
       "        [False, False, False]])"
      ]
     },
     "execution_count": 21,
     "metadata": {},
     "output_type": "execute_result"
    }
   ],
   "source": [
    "muestra_target == res"
   ]
  },
  {
   "cell_type": "code",
   "execution_count": 45,
   "metadata": {},
   "outputs": [
    {
     "data": {
      "text/plain": [
       "tensor([[0.0000e+00, 4.1355e-15, 1.0000e+00],\n",
       "        [0.0000e+00, 0.0000e+00, 1.0000e+00],\n",
       "        [0.0000e+00, 1.0000e+00, 4.7325e-08],\n",
       "        [0.0000e+00, 1.0000e+00, 4.9665e-37],\n",
       "        [1.1335e-33, 3.0150e-14, 1.0000e+00]], grad_fn=<SoftmaxBackward0>)"
      ]
     },
     "execution_count": 45,
     "metadata": {},
     "output_type": "execute_result"
    }
   ],
   "source": [
    "res"
   ]
  },
  {
   "cell_type": "code",
   "execution_count": null,
   "metadata": {},
   "outputs": [
    {
     "name": "stdout",
     "output_type": "stream",
     "text": [
      "Red:  torch.Size([128, 5, 28])\n",
      "Flat:  torch.Size([17920])\n",
      "Line:  torch.Size([3])\n",
      "Soft: torch.Size([3])\n"
     ]
    }
   ],
   "source": [
    "flat = nn.Flatten(start_dim = 0)\n",
    "lin = nn.Linear(17920,3)\n",
    "soft = nn.Softmax(dim = 0)\n",
    "\n",
    "print(\"Red: \",res.shape)\n",
    "aux = flat(res)\n",
    "print(\"Flat: \",aux.shape)\n",
    "aux = lin(aux)\n",
    "print(\"Line: \",aux.shape)\n",
    "aux = soft(aux)\n",
    "print(\"Soft:\",aux.shape)"
   ]
  },
  {
   "cell_type": "markdown",
   "metadata": {},
   "source": [
    "# Codigo testeo"
   ]
  },
  {
   "cell_type": "code",
   "execution_count": 14,
   "metadata": {},
   "outputs": [],
   "source": [
    "import random\n",
    "import numpy as np"
   ]
  },
  {
   "cell_type": "code",
   "execution_count": 15,
   "metadata": {},
   "outputs": [],
   "source": [
    "prob_mariano = 0.3"
   ]
  },
  {
   "cell_type": "code",
   "execution_count": 16,
   "metadata": {},
   "outputs": [],
   "source": [
    "mariano = torch.zeros(5)\n",
    "pepe = torch.stack([0*torch.ones(5)\n",
    "                ,1*torch.ones(5)\n",
    "                ,2*torch.ones(5)\n",
    "                ,3*torch.ones(5)]).to(device)\n"
   ]
  },
  {
   "cell_type": "code",
   "execution_count": null,
   "metadata": {},
   "outputs": [],
   "source": [
    "DataGen = mi_dataLoader.DataSet_song_plus_rir\n",
    "train_dataloader = DataGen(trainDf, \"16k_file\", \"artist\", Path_rir, os.listdir(Path_rir), rir_prob = 0.5, seed = 98, device  = device)"
   ]
  },
  {
   "cell_type": "code",
   "execution_count": null,
   "metadata": {},
   "outputs": [
    {
     "name": "stdout",
     "output_type": "stream",
     "text": [
      "0                 ..\\data\\16k_songs\\11. borderline14.flac\n",
      "1           ..\\data\\16k_songs\\07. sweetener (live)10.flac\n",
      "2                 ..\\data\\16k_songs\\06. six thirty12.flac\n",
      "3                   ..\\data\\16k_songs\\10. Sometimes5.flac\n",
      "4       ..\\data\\16k_songs\\14. Knew Better _ Forever Bo...\n",
      "                              ...                        \n",
      "8794                   ..\\data\\16k_songs\\02 Fifteen15.mp3\n",
      "8795                     ..\\data\\16k_songs\\03 Style18.mp3\n",
      "8796            ..\\data\\16k_songs\\08 Stay Beautiful18.mp3\n",
      "8797                  ..\\data\\16k_songs\\01 Fearless18.mp3\n",
      "8798    ..\\data\\16k_songs\\16 ME! (feat. Brendon Urie o...\n",
      "Name: 16k_file, Length: 8799, dtype: object\n"
     ]
    },
    {
     "name": "stderr",
     "output_type": "stream",
     "text": [
      "100%|██████████| 8799/8799 [00:33<00:00, 260.35it/s]\n"
     ]
    },
    {
     "name": "stdout",
     "output_type": "stream",
     "text": [
      "Cargando archivos RIR:\n"
     ]
    },
    {
     "name": "stderr",
     "output_type": "stream",
     "text": [
      "100%|██████████| 325/325 [00:00<00:00, 567.16it/s]\n"
     ]
    }
   ],
   "source": []
  },
  {
   "cell_type": "code",
   "execution_count": null,
   "metadata": {},
   "outputs": [],
   "source": [
    "def sampler(song, rir, rir_prob, device):\n",
    "    if(type(rir) == list):\n",
    "        rir = torch.stack(rir)\n",
    "    if(type(song) == list):\n",
    "        song = torch.stack(song)\n",
    "    rir = rir.to(device)\n",
    "    song = song.to(device)\n",
    "    \n",
    "    #genero una respuesta al impulso ideal (La identidad de la convolucion)\n",
    "    impulse = torch.zeros(rir.shape[1], device=device)\n",
    "    impulse[0] = 1\n",
    "    # Tiro una \"moneda\" para cada cancion y genero una mascara comparando \n",
    "    # el resultado con la probabilidad de convolucion\n",
    "    sample_mask = torch.rand(song.shape[0], device=device) < rir_prob\n",
    "    #Para cada muestra elijo un rir aleatoreo\n",
    "    rir_sampler = torch.randint(0,rir.shape[0],(song.shape[0],), device=device)\n",
    "    \n",
    "    #Genero las lista de seniales a convolucionar con las canciones\n",
    "    # Sobre Sample_mask: Primero se transforma en una columna y despues lo expando hasta la cantidad de muestras temporales de rir\n",
    "    # Sobre rir[rir_sampler]: genera un nuevo tensor donde cada fila corresponde al indice que marca rir_sampler\n",
    "    # Sobre torch.were: Dependiendo del valor de sample_mask, selecciona un valor de rir[rir_sampler] o de impulse\n",
    "    samples = torch.where(sample_mask.unsqueeze(-1).expand(sample_mask.shape[0], rir.shape[1]), rir[rir_sampler], impulse)\n",
    "    return sample_mask, rir[rir_sampler], samples"
   ]
  }
 ],
 "metadata": {
  "kernelspec": {
   "display_name": "Python 3",
   "language": "python",
   "name": "python3"
  },
  "language_info": {
   "codemirror_mode": {
    "name": "ipython",
    "version": 3
   },
   "file_extension": ".py",
   "mimetype": "text/x-python",
   "name": "python",
   "nbconvert_exporter": "python",
   "pygments_lexer": "ipython3",
   "version": "3.13.1"
  }
 },
 "nbformat": 4,
 "nbformat_minor": 2
}
