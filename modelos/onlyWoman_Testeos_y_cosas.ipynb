{
 "cells": [
  {
   "cell_type": "code",
   "execution_count": 2,
   "metadata": {},
   "outputs": [],
   "source": [
    "#Correr solo si se va a plotear spectrogramas\n",
    "\n",
    "import librosa\n",
    "\n",
    "def plot_spectrogram(specgram, title=None, ylabel=\"freq_bin\", ax=None):\n",
    "    if ax is None:\n",
    "        _, ax = plt.subplots(1, 1)\n",
    "    if title is not None:\n",
    "        ax.set_title(title)\n",
    "    ax.set_ylabel(ylabel)\n",
    "    ax.imshow(librosa.power_to_db(specgram), origin=\"lower\", aspect=\"auto\", interpolation=\"nearest\")"
   ]
  },
  {
   "cell_type": "code",
   "execution_count": 3,
   "metadata": {},
   "outputs": [],
   "source": [
    "import os\n",
    "import pandas as pd\n",
    "from torch import nn\n",
    "from torch.utils.data import DataLoader\n",
    "import torch\n",
    "from tqdm import tqdm\n",
    "import matplotlib.pyplot as plt\n",
    "from torchsummary import summary\n",
    "\n"
   ]
  },
  {
   "cell_type": "code",
   "execution_count": 31,
   "metadata": {},
   "outputs": [],
   "source": [
    "#librerias locales\n",
    "#from ..libs import dataLoaders as mi_dataLoader\n",
    "#from ..libs import clasificador_padre as mi_clasificador\n",
    "from importlib.machinery import SourceFileLoader\n",
    "mi_dataLoader = SourceFileLoader('dataLoadersV2', '../libs/dataLoadersV2.py').load_module()\n",
    "mi_clasificador = SourceFileLoader('clasificador_padre', '../libs/clasificador_padre.py').load_module()"
   ]
  },
  {
   "cell_type": "markdown",
   "metadata": {},
   "source": [
    "# Cargando un DataSet"
   ]
  },
  {
   "cell_type": "code",
   "execution_count": 17,
   "metadata": {},
   "outputs": [],
   "source": [
    "#Busqueda del path para el data set \n",
    "\n",
    "dataSetName = 'onlywoman'\n",
    "root = './'\n",
    "while not os.path.isdir(f'{root}data'):\n",
    "    root += '../'\n",
    "Path_train = root+'data/'+dataSetName+'_train.csv'\n",
    "Path_val = root+'data/'+dataSetName+'_val.csv'\n",
    "Path_test = root+'data/'+dataSetName+'_test.csv'"
   ]
  },
  {
   "cell_type": "code",
   "execution_count": 6,
   "metadata": {},
   "outputs": [
    {
     "name": "stderr",
     "output_type": "stream",
     "text": [
      "100%|██████████| 200/200 [00:00<00:00, 673.76it/s]\n"
     ]
    }
   ],
   "source": [
    "\n",
    "testDf = pd.read_csv(Path_train)\n",
    "#testDf.keys()\n",
    "testDf = testDf.sample(frac=1, random_state = 98 )[0:200] #separo 200 muestras\n",
    "testDataSet = mi_dataLoader.clasification_dataset(testDf, file_col=\"fileMfcc\", target_col=\"artist\", seed = 98)\n"
   ]
  },
  {
   "cell_type": "markdown",
   "metadata": {},
   "source": [
    "# Generando el DataLoader"
   ]
  },
  {
   "cell_type": "code",
   "execution_count": 7,
   "metadata": {},
   "outputs": [],
   "source": [
    "test_dataloader = DataLoader(testDataSet, batch_size=100, shuffle=True)\n",
    "#muestra_data, muestra_target = next(iter(test_dataloader))\n",
    "#muestra_target"
   ]
  },
  {
   "cell_type": "code",
   "execution_count": 8,
   "metadata": {},
   "outputs": [],
   "source": [
    "###Muestras de especrogramas\n",
    "\n",
    "#train_features, train_labels = next(iter(test_dataloader))\n",
    "#print(f\"Feature batch shape: {train_features.size()}\")\n",
    "#print(f\"Labels batch shape: {train_labels.size()}\")\n",
    "#plot_spectrogram(train_features[0], train_labels[0])\n",
    "#img = train_features[0].squeeze()\n",
    "#label = train_labels[0]\n",
    "#plt.imshow(img, cmap=\"gray\")\n",
    "#plt.show()\n",
    "#print(f\"Label: {label}\")"
   ]
  },
  {
   "cell_type": "markdown",
   "metadata": {},
   "source": [
    "# instanciando un modelo"
   ]
  },
  {
   "cell_type": "code",
   "execution_count": 67,
   "metadata": {},
   "outputs": [],
   "source": [
    "from importlib.machinery import SourceFileLoader\n",
    "mi_dataLoader = SourceFileLoader('dataLoadersV2', '../libs/dataLoadersV2.py').load_module()\n",
    "mi_clasificador = SourceFileLoader('clasificador_padre', '../libs/clasificador_padre.py').load_module()\n",
    "\n",
    "os.listdir('./test/state')\n",
    "pState = \"./test/state/\"\n",
    "pHist = \"./test/history/\"\n",
    "overWrite = False\n",
    "show_metrics = True\n",
    "sLoad = 10 #save state a cargar\n",
    "lr = 0.001\n",
    "constructor = mi_clasificador.onlyWoman_MFCC_02_N2"
   ]
  },
  {
   "cell_type": "code",
   "execution_count": 68,
   "metadata": {},
   "outputs": [
    {
     "name": "stderr",
     "output_type": "stream",
     "text": [
      "C:\\Users\\Alenca\\AppData\\Local\\Temp\\ipykernel_7188\\3912412090.py:12: FutureWarning: You are using `torch.load` with `weights_only=False` (the current default value), which uses the default pickle module implicitly. It is possible to construct malicious pickle data which will execute arbitrary code during unpickling (See https://github.com/pytorch/pytorch/blob/main/SECURITY.md#untrusted-models for more details). In a future release, the default value for `weights_only` will be flipped to `True`. This limits the functions that could be executed during unpickling. Arbitrary objects will no longer be allowed to be loaded via this mode unless they are explicitly allowlisted by the user via `torch.serialization.add_safe_globals`. We recommend you start setting `weights_only=True` for any use case where you don't have full control of the loaded file. Please open an issue on GitHub for any issues related to this experimental feature.\n",
      "  history =  torch.load(pHist+os.listdir(pHist)[sLoad])\n",
      "C:\\Users\\Alenca\\AppData\\Local\\Temp\\ipykernel_7188\\3912412090.py:14: FutureWarning: You are using `torch.load` with `weights_only=False` (the current default value), which uses the default pickle module implicitly. It is possible to construct malicious pickle data which will execute arbitrary code during unpickling (See https://github.com/pytorch/pytorch/blob/main/SECURITY.md#untrusted-models for more details). In a future release, the default value for `weights_only` will be flipped to `True`. This limits the functions that could be executed during unpickling. Arbitrary objects will no longer be allowed to be loaded via this mode unless they are explicitly allowlisted by the user via `torch.serialization.add_safe_globals`. We recommend you start setting `weights_only=True` for any use case where you don't have full control of the loaded file. Please open an issue on GitHub for any issues related to this experimental feature.\n",
      "  save_state = torch.load(pState+os.listdir(pState)[sLoad])\n"
     ]
    },
    {
     "name": "stdout",
     "output_type": "stream",
     "text": [
      "<bound method Module.modules of onlyWoman_MFCC_02_N2(\n",
      "  (inPut): Sequential(\n",
      "    (0): Conv2d(1, 4, kernel_size=(3, 3), stride=(1, 1), padding=(2, 2))\n",
      "    (1): ReLU()\n",
      "  )\n",
      "  (chanelUp): Sequential(\n",
      "    (0): Conv2d(4, 16, kernel_size=(1, 7), stride=(1, 1))\n",
      "    (1): ReLU()\n",
      "    (2): Conv2d(16, 32, kernel_size=(1, 7), stride=(1, 1))\n",
      "    (3): ReLU()\n",
      "    (4): Conv2d(32, 64, kernel_size=(1, 7), stride=(1, 2))\n",
      "    (5): ReLU()\n",
      "    (6): MaxPool2d(kernel_size=(1, 2), stride=(1, 2), padding=0, dilation=1, ceil_mode=False)\n",
      "    (7): BatchNorm2d(64, eps=1e-05, momentum=0.1, affine=True, track_running_stats=True)\n",
      "  )\n",
      "  (justTime): Sequential(\n",
      "    (0): Conv2d(64, 64, kernel_size=(3, 7), stride=(1, 2))\n",
      "    (1): ReLU()\n",
      "    (2): Conv2d(64, 64, kernel_size=(3, 7), stride=(1, 2))\n",
      "    (3): ReLU()\n",
      "    (4): MaxPool2d(kernel_size=(1, 2), stride=(1, 2), padding=0, dilation=1, ceil_mode=False)\n",
      "    (5): BatchNorm2d(64, eps=1e-05, momentum=0.1, affine=True, track_running_stats=True)\n",
      "  )\n",
      "  (out): Sequential(\n",
      "    (0): Linear(in_features=19712, out_features=1000, bias=True)\n",
      "    (1): ReLU()\n",
      "    (2): Linear(in_features=1000, out_features=500, bias=True)\n",
      "    (3): ReLU()\n",
      "    (4): Linear(in_features=500, out_features=100, bias=True)\n",
      "    (5): ReLU()\n",
      "    (6): Linear(in_features=100, out_features=10, bias=True)\n",
      "    (7): ReLU()\n",
      "    (8): Linear(in_features=10, out_features=3, bias=True)\n",
      "    (9): Softmax(dim=1)\n",
      "  )\n",
      ")>\n"
     ]
    }
   ],
   "source": [
    "def test_accur (prediccion, target_batch):\n",
    "    return(torch.argmax(target_batch, axis=1) == torch.argmax(prediccion, axis=1)).sum().item() / len(target_batch)\n",
    "\n",
    "\n",
    "if((len(os.listdir(pState)) == 0) or overWrite):\n",
    "    history = {}\n",
    "    history['loss'] = torch.empty(0)\n",
    "    history['acur'] = torch.empty(0)\n",
    "\n",
    "    clasificador = constructor(list(testDataSet.dictionary.keys()))\n",
    "else:\n",
    "    history =  torch.load(pHist+os.listdir(pHist)[sLoad])\n",
    "\n",
    "    save_state = torch.load(pState+os.listdir(pState)[sLoad])\n",
    "    clasificador = constructor(list(testDataSet.dictionary.keys()))\n",
    "    clasificador.load_state_dict(save_state)\n",
    "\n",
    "test_optimizer = torch.optim.Adam(clasificador.parameters(), lr=lr)\n",
    "test_criterion = torch.nn.CrossEntropyLoss()\n",
    "print(clasificador.modules)\n"
   ]
  },
  {
   "cell_type": "markdown",
   "metadata": {},
   "source": [
    "# Entrenando el modelo"
   ]
  },
  {
   "cell_type": "code",
   "execution_count": 58,
   "metadata": {},
   "outputs": [
    {
     "name": "stderr",
     "output_type": "stream",
     "text": [
      "  0%|          | 0/15 [00:00<?, ?it/s]"
     ]
    },
    {
     "name": "stdout",
     "output_type": "stream",
     "text": [
      "Epoch 0 of 1 / Loss: 1.089447259902954 / Accuracy: 0.3700000047683716\n"
     ]
    },
    {
     "name": "stderr",
     "output_type": "stream",
     "text": [
      "  7%|▋         | 1/15 [01:06<15:31, 66.57s/it]"
     ]
    },
    {
     "name": "stdout",
     "output_type": "stream",
     "text": [
      "Epoch 0 of 1 / Loss: 1.0497747659683228 / Accuracy: 0.38499999046325684\n"
     ]
    },
    {
     "name": "stderr",
     "output_type": "stream",
     "text": [
      " 13%|█▎        | 2/15 [01:54<12:05, 55.82s/it]"
     ]
    },
    {
     "name": "stdout",
     "output_type": "stream",
     "text": [
      "Epoch 0 of 1 / Loss: 1.0168256759643555 / Accuracy: 0.44999998807907104\n"
     ]
    },
    {
     "name": "stderr",
     "output_type": "stream",
     "text": [
      " 20%|██        | 3/15 [02:36<09:52, 49.35s/it]"
     ]
    },
    {
     "name": "stdout",
     "output_type": "stream",
     "text": [
      "Epoch 0 of 1 / Loss: 0.9586015939712524 / Accuracy: 0.5049999952316284\n"
     ]
    },
    {
     "name": "stderr",
     "output_type": "stream",
     "text": [
      " 27%|██▋       | 4/15 [03:18<08:29, 46.31s/it]"
     ]
    },
    {
     "name": "stdout",
     "output_type": "stream",
     "text": [
      "Epoch 0 of 1 / Loss: 0.8823685646057129 / Accuracy: 0.5600000023841858\n"
     ]
    },
    {
     "name": "stderr",
     "output_type": "stream",
     "text": [
      " 33%|███▎      | 5/15 [04:09<08:02, 48.27s/it]"
     ]
    },
    {
     "name": "stdout",
     "output_type": "stream",
     "text": [
      "Epoch 0 of 1 / Loss: 0.8411981463432312 / Accuracy: 0.6050000190734863\n"
     ]
    },
    {
     "name": "stderr",
     "output_type": "stream",
     "text": [
      " 40%|████      | 6/15 [04:53<07:00, 46.68s/it]"
     ]
    },
    {
     "name": "stdout",
     "output_type": "stream",
     "text": [
      "Epoch 0 of 1 / Loss: 0.8309340476989746 / Accuracy: 0.6549999713897705\n"
     ]
    },
    {
     "name": "stderr",
     "output_type": "stream",
     "text": [
      " 47%|████▋     | 7/15 [05:36<06:04, 45.59s/it]"
     ]
    },
    {
     "name": "stdout",
     "output_type": "stream",
     "text": [
      "Epoch 0 of 1 / Loss: 0.7694313526153564 / Accuracy: 0.7049999833106995\n"
     ]
    },
    {
     "name": "stderr",
     "output_type": "stream",
     "text": [
      " 53%|█████▎    | 8/15 [06:18<05:10, 44.33s/it]"
     ]
    },
    {
     "name": "stdout",
     "output_type": "stream",
     "text": [
      "Epoch 0 of 1 / Loss: 0.7547296285629272 / Accuracy: 0.8199999928474426\n"
     ]
    },
    {
     "name": "stderr",
     "output_type": "stream",
     "text": [
      " 60%|██████    | 9/15 [06:59<04:19, 43.21s/it]"
     ]
    },
    {
     "name": "stdout",
     "output_type": "stream",
     "text": [
      "Epoch 0 of 1 / Loss: 0.7455114126205444 / Accuracy: 0.9449999928474426\n"
     ]
    },
    {
     "name": "stderr",
     "output_type": "stream",
     "text": [
      " 67%|██████▋   | 10/15 [07:39<03:31, 42.34s/it]"
     ]
    },
    {
     "name": "stdout",
     "output_type": "stream",
     "text": [
      "Epoch 0 of 1 / Loss: 0.7302340269088745 / Accuracy: 0.9549999833106995\n"
     ]
    },
    {
     "name": "stderr",
     "output_type": "stream",
     "text": [
      " 73%|███████▎  | 11/15 [08:20<02:48, 42.00s/it]"
     ]
    },
    {
     "name": "stdout",
     "output_type": "stream",
     "text": [
      "Epoch 0 of 1 / Loss: 0.7168719172477722 / Accuracy: 0.9549999833106995\n"
     ]
    },
    {
     "name": "stderr",
     "output_type": "stream",
     "text": [
      " 80%|████████  | 12/15 [09:01<02:04, 41.56s/it]"
     ]
    },
    {
     "name": "stdout",
     "output_type": "stream",
     "text": [
      "Epoch 0 of 1 / Loss: 0.7038182020187378 / Accuracy: 0.949999988079071\n"
     ]
    },
    {
     "name": "stderr",
     "output_type": "stream",
     "text": [
      " 87%|████████▋ | 13/15 [09:42<01:22, 41.30s/it]"
     ]
    },
    {
     "name": "stdout",
     "output_type": "stream",
     "text": [
      "Epoch 0 of 1 / Loss: 0.6936148405075073 / Accuracy: 0.9900000095367432\n"
     ]
    },
    {
     "name": "stderr",
     "output_type": "stream",
     "text": [
      " 93%|█████████▎| 14/15 [10:23<00:41, 41.25s/it]"
     ]
    },
    {
     "name": "stdout",
     "output_type": "stream",
     "text": [
      "Epoch 0 of 1 / Loss: 0.6784189939498901 / Accuracy: 1.0\n"
     ]
    },
    {
     "name": "stderr",
     "output_type": "stream",
     "text": [
      "100%|██████████| 15/15 [11:04<00:00, 44.28s/it]\n"
     ]
    }
   ],
   "source": [
    "%matplotlib qt5\n",
    "\n",
    "if show_metrics:\n",
    "    plt.ion()\n",
    "    fig, axes = plt.subplots(nrows=2, ncols=1, figsize = (6,6))\n",
    "    l1, = axes[0].plot([], [])\n",
    "    l2, = axes[1].plot([], [])\n",
    "    axes[0].set_xlabel('Epoch')\n",
    "    axes[0].set_ylabel('Acur')\n",
    "\n",
    "    axes[1].set_xlabel('Epoch')\n",
    "    axes[1].set_ylabel('Loss')\n",
    "\n",
    "for i in tqdm(range(15)):\n",
    "    loss_log, acur_log = clasificador.train_loop(1, test_dataloader, test_optimizer , test_criterion, test_accur)\n",
    "    history['loss'] = torch.cat((history['loss'], loss_log), dim=0)\n",
    "    history['acur'] = torch.cat((history['acur'], acur_log), dim=0)\n",
    "    save_state = clasificador.state_dict()\n",
    "    n = len(os.listdir(pState))\n",
    "    torch.save(save_state, f\"{pState}/ss_{n}.pt\")\n",
    "    torch.save(history, f\"{pHist}/hist_{n}.pt\")\n",
    "    \n",
    "    if show_metrics:\n",
    "        # Grafica\n",
    "        l1.set_data(range(len(history['acur'])), history['acur'])\n",
    "        axes[0].relim()  # Recalculate data limits\n",
    "        axes[0].autoscale_view()  # Rescale axes\n",
    "\n",
    "        l2.set_data(range(len(history['loss'])), history['loss'])\n",
    "        axes[1].relim()  # Recalculate data limits\n",
    "        axes[1].autoscale_view()  # Rescale axes\n",
    "        \n",
    "        fig.canvas.draw()  # Redraw the figure\n",
    "        fig.canvas.flush_events()  # Ensure events are processed\n",
    "        plt.pause(0.5)\n",
    "\n",
    "if show_metrics:\n",
    "    plt.ioff()\n",
    "    plt.show()"
   ]
  },
  {
   "cell_type": "code",
   "execution_count": 52,
   "metadata": {},
   "outputs": [],
   "source": [
    "plt.figure()\n",
    "fig, axes = plt.subplots(nrows=2, ncols=1, figsize = (8,8))\n",
    "\n",
    "# Graficar en el primer subplot\n",
    "axes[0].plot(range(len(history['acur'])), history['acur'], 'r-', label='Acuracy')\n",
    "axes[0].set_xlabel('Epoch')\n",
    "axes[0].set_ylabel('Acur')\n",
    "axes[0].legend()\n",
    "\n",
    "axes[1].plot(range(len(history['loss'])), history['loss'], 'r-', label='Loss')\n",
    "axes[1].set_xlabel('Epoch')\n",
    "axes[1].set_ylabel('Loss')\n",
    "axes[1].legend()\n",
    "\n",
    "plt.show()"
   ]
  },
  {
   "cell_type": "markdown",
   "metadata": {},
   "source": [
    "# Validando"
   ]
  },
  {
   "cell_type": "code",
   "execution_count": 69,
   "metadata": {},
   "outputs": [
    {
     "name": "stderr",
     "output_type": "stream",
     "text": [
      "  0%|          | 0/2640 [00:00<?, ?it/s]"
     ]
    },
    {
     "name": "stderr",
     "output_type": "stream",
     "text": [
      "100%|██████████| 2640/2640 [00:04<00:00, 648.45it/s]\n"
     ]
    }
   ],
   "source": [
    "#Carga de las muestras y el DataLoader\n",
    "valDf = pd.read_csv(Path_val)\n",
    "valDataSet = mi_dataLoader.clasification_dataset(valDf, file_col=\"fileMfcc\", target_col=\"artist\", seed = 98)\n",
    "val_dataloader = DataLoader(valDataSet, batch_size=100, shuffle=False)\n",
    "\n",
    "\n",
    "# Cargo el modelo\n",
    "#save_state = torch.load(\"./modelos/goliat/goliat_0_03.pt\")\n",
    "#clasificador = mi_clasificador.Clasificador_03(list(valDataSet.dictionary.keys()))\n",
    "#clasificador.load_state_dict(save_state)"
   ]
  },
  {
   "cell_type": "code",
   "execution_count": 70,
   "metadata": {},
   "outputs": [
    {
     "name": "stderr",
     "output_type": "stream",
     "text": [
      "C:\\Users\\Alenca\\AppData\\Local\\Temp\\ipykernel_7188\\716157085.py:11: UserWarning: To copy construct from a tensor, it is recommended to use sourceTensor.clone().detach() or sourceTensor.clone().detach().requires_grad_(True), rather than torch.tensor(sourceTensor).\n",
      "  targets.append(torch.tensor(muestra_target))\n"
     ]
    }
   ],
   "source": [
    "def acuracy_fn (prediccion, target_batch):\n",
    "    return(torch.argmax(target_batch, axis=1) == torch.argmax(prediccion, axis=1)).sum().item() / len(target_batch)\n",
    "\n",
    "loss_fn = torch.nn.CrossEntropyLoss()\n",
    "\n",
    "#Separando las muestras y los targets\n",
    "muestras = []\n",
    "targets = []\n",
    "for muestra_data, muestra_target in val_dataloader:\n",
    "    muestras.append(muestra_data)\n",
    "    targets.append(torch.tensor(muestra_target))\n",
    "    #print(len(muestras)*100,\"/\",len(valDataSet))\n",
    "#muestras[0].shape\n",
    "\n"
   ]
  },
  {
   "cell_type": "code",
   "execution_count": 71,
   "metadata": {},
   "outputs": [
    {
     "name": "stderr",
     "output_type": "stream",
     "text": [
      "100%|██████████| 27/27 [02:19<00:00,  5.17s/it]"
     ]
    },
    {
     "name": "stdout",
     "output_type": "stream",
     "text": [
      "(1.0804423380781103, 0.35814814814814816)\n"
     ]
    },
    {
     "name": "stderr",
     "output_type": "stream",
     "text": [
      "\n"
     ]
    }
   ],
   "source": [
    "resultado_evalucion = clasificador.evaluate(val_dataloader, loss_fn, acuracy_fn)\n",
    "print(resultado_evalucion) #batch norm post chanel up y post extract"
   ]
  },
  {
   "cell_type": "code",
   "execution_count": null,
   "metadata": {},
   "outputs": [
    {
     "name": "stderr",
     "output_type": "stream",
     "text": [
      "100%|██████████| 27/27 [02:20<00:00,  5.20s/it]"
     ]
    },
    {
     "name": "stdout",
     "output_type": "stream",
     "text": [
      "(0.9133836185490644, 0.6470370370370371)\n"
     ]
    },
    {
     "name": "stderr",
     "output_type": "stream",
     "text": [
      "\n"
     ]
    }
   ],
   "source": [
    "resultado_evalucion = clasificador.evaluate(val_dataloader, loss_fn, acuracy_fn)\n",
    "print(resultado_evalucion) #batch norm post chanel up"
   ]
  },
  {
   "cell_type": "code",
   "execution_count": null,
   "metadata": {},
   "outputs": [
    {
     "name": "stderr",
     "output_type": "stream",
     "text": [
      "100%|██████████| 27/27 [02:58<00:00,  6.60s/it]"
     ]
    },
    {
     "name": "stdout",
     "output_type": "stream",
     "text": [
      "(0.9401003078178123, 0.6066666666666668)\n"
     ]
    },
    {
     "name": "stderr",
     "output_type": "stream",
     "text": [
      "\n"
     ]
    }
   ],
   "source": [
    "resultado_evalucion = clasificador.evaluate(val_dataloader, loss_fn, acuracy_fn)\n",
    "print(resultado_evalucion)"
   ]
  },
  {
   "cell_type": "markdown",
   "metadata": {},
   "source": [
    "## Codigo usado mientras se generaba la arquitectura (osea, codigo desechable)"
   ]
  },
  {
   "cell_type": "code",
   "execution_count": null,
   "metadata": {},
   "outputs": [],
   "source": [
    "mi_clasificador = SourceFileLoader('clasificador_padre', '../libs/clasificador_padre.py').load_module()"
   ]
  },
  {
   "cell_type": "code",
   "execution_count": 24,
   "metadata": {},
   "outputs": [
    {
     "data": {
      "text/plain": [
       "torch.Size([100, 13, 997])"
      ]
     },
     "execution_count": 24,
     "metadata": {},
     "output_type": "execute_result"
    }
   ],
   "source": [
    "muestra_data, muestra_target = next(iter(test_dataloader))\n",
    "#muestra = torch.stack(muestra, 0)\n",
    "muestra_data.shape"
   ]
  },
  {
   "cell_type": "code",
   "execution_count": 59,
   "metadata": {},
   "outputs": [],
   "source": [
    "mi_clasificador = SourceFileLoader('clasificador_padre', '../libs/clasificador_padre.py').load_module()\n",
    "clasificador = mi_clasificador.onlyWoman_MFCC_01(list(testDataSet.dictionary.keys()))"
   ]
  },
  {
   "cell_type": "code",
   "execution_count": 60,
   "metadata": {},
   "outputs": [
    {
     "name": "stdout",
     "output_type": "stream",
     "text": [
      "In: torch.Size([100, 13, 997])\n",
      "squeeze: torch.Size([100, 1, 13, 997])\n",
      "Shape post 1D:  torch.Size([100, 4, 15, 999])\n",
      "post flatten: torch.Size([100, 136136])\n",
      "Alive\n"
     ]
    },
    {
     "data": {
      "text/plain": [
       "torch.Size([100, 3])"
      ]
     },
     "execution_count": 60,
     "metadata": {},
     "output_type": "execute_result"
    }
   ],
   "source": [
    "res =clasificador(muestra_data)\n",
    "res.shape"
   ]
  },
  {
   "cell_type": "code",
   "execution_count": 45,
   "metadata": {},
   "outputs": [
    {
     "ename": "NameError",
     "evalue": "name 'self' is not defined",
     "output_type": "error",
     "traceback": [
      "\u001b[1;31m---------------------------------------------------------------------------\u001b[0m",
      "\u001b[1;31mNameError\u001b[0m                                 Traceback (most recent call last)",
      "Cell \u001b[1;32mIn[45], line 2\u001b[0m\n\u001b[0;32m      1\u001b[0m out \u001b[38;5;241m=\u001b[39m nn\u001b[38;5;241m.\u001b[39mSequential(   \u001b[38;5;66;03m# bloque que acondiciona la salida\u001b[39;00m\n\u001b[1;32m----> 2\u001b[0m     nn\u001b[38;5;241m.\u001b[39mLinear(\u001b[38;5;241m*\u001b[39m\u001b[38;5;28;43mself\u001b[39;49m\u001b[38;5;241m.\u001b[39marchitecture[\u001b[38;5;241m-\u001b[39m\u001b[38;5;241m1\u001b[39m]), \u001b[38;5;66;03m#Lineal que sale a las clases objetivo\u001b[39;00m\n\u001b[0;32m      3\u001b[0m     nn\u001b[38;5;241m.\u001b[39mSoftmax( dim \u001b[38;5;241m=\u001b[39m \u001b[38;5;241m1\u001b[39m))\n",
      "\u001b[1;31mNameError\u001b[0m: name 'self' is not defined"
     ]
    }
   ],
   "source": [
    "out = nn.Sequential(   # bloque que acondiciona la salida\n",
    "    nn.Linear(*self.architecture[-1]), #Lineal que sale a las clases objetivo\n",
    "    nn.Softmax( dim = 1))"
   ]
  },
  {
   "cell_type": "code",
   "execution_count": 61,
   "metadata": {},
   "outputs": [
    {
     "data": {
      "text/plain": [
       "tensor(1.1800, grad_fn=<DivBackward1>)"
      ]
     },
     "execution_count": 61,
     "metadata": {},
     "output_type": "execute_result"
    }
   ],
   "source": [
    "test_criterion(res,muestra_target)"
   ]
  },
  {
   "cell_type": "code",
   "execution_count": 62,
   "metadata": {},
   "outputs": [
    {
     "data": {
      "text/plain": [
       "0.3"
      ]
     },
     "execution_count": 62,
     "metadata": {},
     "output_type": "execute_result"
    }
   ],
   "source": [
    "test_accur (res, muestra_target)"
   ]
  },
  {
   "cell_type": "code",
   "execution_count": 64,
   "metadata": {},
   "outputs": [
    {
     "ename": "TypeError",
     "evalue": "_Clasificador_padre.__init__() missing 1 required positional argument: 'classes'",
     "output_type": "error",
     "traceback": [
      "\u001b[1;31m---------------------------------------------------------------------------\u001b[0m",
      "\u001b[1;31mTypeError\u001b[0m                                 Traceback (most recent call last)",
      "Cell \u001b[1;32mIn[64], line 2\u001b[0m\n\u001b[0;32m      1\u001b[0m \u001b[38;5;66;03m#importlib.reload(mi_clasificador)\u001b[39;00m\n\u001b[1;32m----> 2\u001b[0m clasificador \u001b[38;5;241m=\u001b[39m \u001b[43mmi_clasificador\u001b[49m\u001b[38;5;241;43m.\u001b[39;49m\u001b[43mClasificador_01\u001b[49m\u001b[43m(\u001b[49m\u001b[43mtestDataSet\u001b[49m\u001b[38;5;241;43m.\u001b[39;49m\u001b[43mdictionary\u001b[49m\u001b[38;5;241;43m.\u001b[39;49m\u001b[43mkeys\u001b[49m\u001b[43m(\u001b[49m\u001b[43m)\u001b[49m\u001b[43m)\u001b[49m\n\u001b[0;32m      3\u001b[0m res \u001b[38;5;241m=\u001b[39mclasificador(muestra_data)\n\u001b[0;32m      4\u001b[0m test_accur (res, muestra_target)\n",
      "File \u001b[1;32mc:\\Users\\Alenca\\Desktop\\ia\\Project\\libs\\clasificador_padre.py:144\u001b[0m, in \u001b[0;36mClasificador_01.__init__\u001b[1;34m(self, classes, load, architecture)\u001b[0m\n\u001b[0;32m    143\u001b[0m \u001b[38;5;28;01mdef\u001b[39;00m \u001b[38;5;21m__init__\u001b[39m(\u001b[38;5;28mself\u001b[39m, classes, load \u001b[38;5;241m=\u001b[39m \u001b[38;5;28;01mFalse\u001b[39;00m, architecture \u001b[38;5;241m=\u001b[39m []):\n\u001b[1;32m--> 144\u001b[0m   \u001b[38;5;28;43msuper\u001b[39;49m\u001b[43m(\u001b[49m\u001b[43m)\u001b[49m\u001b[38;5;241;43m.\u001b[39;49m\u001b[38;5;21;43m__init__\u001b[39;49m\u001b[43m(\u001b[49m\u001b[43m)\u001b[49m\n\u001b[0;32m    145\u001b[0m   \u001b[38;5;66;03m#Variables de entorno\u001b[39;00m\n\u001b[0;32m    146\u001b[0m   \u001b[38;5;28mself\u001b[39m\u001b[38;5;241m.\u001b[39mname \u001b[38;5;241m=\u001b[39m \u001b[38;5;124m\"\u001b[39m\u001b[38;5;124mclas_01\u001b[39m\u001b[38;5;124m\"\u001b[39m\n",
      "\u001b[1;31mTypeError\u001b[0m: _Clasificador_padre.__init__() missing 1 required positional argument: 'classes'"
     ]
    }
   ],
   "source": [
    "#importlib.reload(mi_clasificador)\n",
    "clasificador = mi_clasificador.Clasificador_01(testDataSet.dictionary.keys())\n",
    "res =clasificador(muestra_data)\n",
    "test_accur (res, muestra_target)\n"
   ]
  },
  {
   "cell_type": "code",
   "execution_count": 318,
   "metadata": {},
   "outputs": [
    {
     "data": {
      "text/plain": [
       "0.0"
      ]
     },
     "execution_count": 318,
     "metadata": {},
     "output_type": "execute_result"
    }
   ],
   "source": [
    "(torch.argmax(muestra_target, axis = 1) == torch.argmax(res, axis=1)).sum().item() / len(muestra_target)"
   ]
  },
  {
   "cell_type": "code",
   "execution_count": 319,
   "metadata": {},
   "outputs": [
    {
     "data": {
      "text/plain": [
       "tensor([False])"
      ]
     },
     "execution_count": 319,
     "metadata": {},
     "output_type": "execute_result"
    }
   ],
   "source": [
    "torch.argmax(muestra_target, axis = 1) == torch.argmax(res, axis=1)"
   ]
  },
  {
   "cell_type": "code",
   "execution_count": 42,
   "metadata": {},
   "outputs": [
    {
     "data": {
      "text/plain": [
       "(torch.Size([3, 3]), torch.Size([3, 3]))"
      ]
     },
     "execution_count": 42,
     "metadata": {},
     "output_type": "execute_result"
    }
   ],
   "source": [
    "muestra_target.shape, res.shape"
   ]
  },
  {
   "cell_type": "code",
   "execution_count": 43,
   "metadata": {},
   "outputs": [
    {
     "data": {
      "text/plain": [
       "tensor([0, 2, 2])"
      ]
     },
     "execution_count": 43,
     "metadata": {},
     "output_type": "execute_result"
    }
   ],
   "source": [
    "torch.argmax(res, axis = 1)"
   ]
  },
  {
   "cell_type": "code",
   "execution_count": 44,
   "metadata": {},
   "outputs": [
    {
     "data": {
      "text/plain": [
       "tensor([[9.9844e-01, 2.4358e-21, 1.5574e-03],\n",
       "        [1.7411e-05, 4.4522e-07, 9.9998e-01],\n",
       "        [0.0000e+00, 0.0000e+00, 1.0000e+00]], grad_fn=<SoftmaxBackward0>)"
      ]
     },
     "execution_count": 44,
     "metadata": {},
     "output_type": "execute_result"
    }
   ],
   "source": [
    "res"
   ]
  },
  {
   "cell_type": "code",
   "execution_count": 43,
   "metadata": {},
   "outputs": [
    {
     "data": {
      "text/plain": [
       "tensor([0, 0, 0, 0, 0])"
      ]
     },
     "execution_count": 43,
     "metadata": {},
     "output_type": "execute_result"
    }
   ],
   "source": [
    "torch.argmax(muestra_target, axis=1)"
   ]
  },
  {
   "cell_type": "code",
   "execution_count": 44,
   "metadata": {},
   "outputs": [
    {
     "data": {
      "text/plain": [
       "tensor([[1., 0., 0.],\n",
       "        [1., 0., 0.],\n",
       "        [1., 0., 0.],\n",
       "        [1., 0., 0.],\n",
       "        [1., 0., 0.]])"
      ]
     },
     "execution_count": 44,
     "metadata": {},
     "output_type": "execute_result"
    }
   ],
   "source": [
    "muestra_target"
   ]
  },
  {
   "cell_type": "code",
   "execution_count": 21,
   "metadata": {},
   "outputs": [
    {
     "data": {
      "text/plain": [
       "tensor([[False,  True, False],\n",
       "        [False,  True, False],\n",
       "        [False, False, False],\n",
       "        [False,  True, False],\n",
       "        [False, False, False]])"
      ]
     },
     "execution_count": 21,
     "metadata": {},
     "output_type": "execute_result"
    }
   ],
   "source": [
    "muestra_target == res"
   ]
  },
  {
   "cell_type": "code",
   "execution_count": 45,
   "metadata": {},
   "outputs": [
    {
     "data": {
      "text/plain": [
       "tensor([[0.0000e+00, 4.1355e-15, 1.0000e+00],\n",
       "        [0.0000e+00, 0.0000e+00, 1.0000e+00],\n",
       "        [0.0000e+00, 1.0000e+00, 4.7325e-08],\n",
       "        [0.0000e+00, 1.0000e+00, 4.9665e-37],\n",
       "        [1.1335e-33, 3.0150e-14, 1.0000e+00]], grad_fn=<SoftmaxBackward0>)"
      ]
     },
     "execution_count": 45,
     "metadata": {},
     "output_type": "execute_result"
    }
   ],
   "source": [
    "res"
   ]
  },
  {
   "cell_type": "code",
   "execution_count": null,
   "metadata": {},
   "outputs": [
    {
     "name": "stdout",
     "output_type": "stream",
     "text": [
      "Red:  torch.Size([128, 5, 28])\n",
      "Flat:  torch.Size([17920])\n",
      "Line:  torch.Size([3])\n",
      "Soft: torch.Size([3])\n"
     ]
    }
   ],
   "source": [
    "flat = nn.Flatten(start_dim = 0)\n",
    "lin = nn.Linear(17920,3)\n",
    "soft = nn.Softmax(dim = 0)\n",
    "\n",
    "print(\"Red: \",res.shape)\n",
    "aux = flat(res)\n",
    "print(\"Flat: \",aux.shape)\n",
    "aux = lin(aux)\n",
    "print(\"Line: \",aux.shape)\n",
    "aux = soft(aux)\n",
    "print(\"Soft:\",aux.shape)"
   ]
  }
 ],
 "metadata": {
  "kernelspec": {
   "display_name": "torch",
   "language": "python",
   "name": "python3"
  },
  "language_info": {
   "codemirror_mode": {
    "name": "ipython",
    "version": 3
   },
   "file_extension": ".py",
   "mimetype": "text/x-python",
   "name": "python",
   "nbconvert_exporter": "python",
   "pygments_lexer": "ipython3",
   "version": "3.12.7"
  }
 },
 "nbformat": 4,
 "nbformat_minor": 2
}
